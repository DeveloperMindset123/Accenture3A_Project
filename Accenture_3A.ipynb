{
 "cells": [
  {
   "cell_type": "code",
   "execution_count": 37,
   "id": "initial_id",
   "metadata": {
    "ExecuteTime": {
     "end_time": "2023-09-09T19:20:31.132750700Z",
     "start_time": "2023-09-09T19:20:31.117340600Z"
    },
    "collapsed": true
   },
   "outputs": [],
   "source": [
    "# import the neccessary dependacies we will use by default\n",
    "import numpy as np\n",
    "import pandas as pd\n",
    "import matplotlib.pyplot as plt\n",
    "import seaborn as sns\n",
    "import os\n",
    "from sklearn.preprocessing import LabelEncoder"
   ]
  },
  {
   "cell_type": "markdown",
   "id": "4b3a5b2fc17a89d0",
   "metadata": {
    "collapsed": false
   },
   "source": [
    "Some insights into this project:\n",
    "- The category of machine learning models that these fall into is _supervised learning_. Supervised learning is a type of machine learning where the model is trained on labeled data. The label in this case is the method of data breach.\n",
    "\n",
    "The models that will be tested out will fall into the following category of machine learning:\n",
    "* <u><b>Logistic Regression</b></u>: This is a supervised Learning that can be used to predict a categorical outcome. In this case, the categorical outcome is the method of the data breach. The features that will be used are: entity, year, records and organization type.\n",
    "* <u><b>Decision Trees</b></u>: This is another supervised learning algorithm that can be used to predict a categorical outcome. Decision trees work by creating a tree-like structure that represents the relationships between the features and the outcomes.\n",
    "* <u><b>Support Vector Machine(SVMs):</u></b> This is a supervised learning algorithm that can be used to predict both categorical and continous outcomes. SVMs work by finding the hyperplane that best seperates the data points into different classes.\n",
    "* <u><b>Random Forests</u></b> This is an ensemble learning algorithm that combines multiple decision trees to improve the accuracy of the predictions.\n",
    "* <u><b>Neural Networks</u></b> This is a more complex algorithm that can be used to predict both categorical and continuous outcomes. Neural Networks work by learning the relationships between the features and the outcome through a process called backpropogation."
   ]
  },
  {
   "cell_type": "code",
   "execution_count": 38,
   "id": "4d4a0b8ccba56a7f",
   "metadata": {
    "ExecuteTime": {
     "end_time": "2023-09-09T19:20:31.530128100Z",
     "start_time": "2023-09-09T19:20:31.452203700Z"
    },
    "collapsed": false
   },
   "outputs": [
    {
     "data": {
      "text/html": [
       "<div>\n",
       "<style scoped>\n",
       "    .dataframe tbody tr th:only-of-type {\n",
       "        vertical-align: middle;\n",
       "    }\n",
       "\n",
       "    .dataframe tbody tr th {\n",
       "        vertical-align: top;\n",
       "    }\n",
       "\n",
       "    .dataframe thead th {\n",
       "        text-align: right;\n",
       "    }\n",
       "</style>\n",
       "<table border=\"1\" class=\"dataframe\">\n",
       "  <thead>\n",
       "    <tr style=\"text-align: right;\">\n",
       "      <th></th>\n",
       "      <th>Unnamed: 0</th>\n",
       "      <th>Entity</th>\n",
       "      <th>Year</th>\n",
       "      <th>Records</th>\n",
       "      <th>Organization type</th>\n",
       "      <th>Method</th>\n",
       "      <th>Sources</th>\n",
       "    </tr>\n",
       "  </thead>\n",
       "  <tbody>\n",
       "    <tr>\n",
       "      <th>0</th>\n",
       "      <td>0</td>\n",
       "      <td>21st Century Oncology</td>\n",
       "      <td>2016</td>\n",
       "      <td>2200000</td>\n",
       "      <td>healthcare</td>\n",
       "      <td>hacked</td>\n",
       "      <td>[5][6]</td>\n",
       "    </tr>\n",
       "    <tr>\n",
       "      <th>1</th>\n",
       "      <td>1</td>\n",
       "      <td>500px</td>\n",
       "      <td>2020</td>\n",
       "      <td>14870304</td>\n",
       "      <td>social networking</td>\n",
       "      <td>hacked</td>\n",
       "      <td>[7]</td>\n",
       "    </tr>\n",
       "    <tr>\n",
       "      <th>2</th>\n",
       "      <td>2</td>\n",
       "      <td>Accendo Insurance Co.</td>\n",
       "      <td>2020</td>\n",
       "      <td>175350</td>\n",
       "      <td>healthcare</td>\n",
       "      <td>poor security</td>\n",
       "      <td>[8][9]</td>\n",
       "    </tr>\n",
       "    <tr>\n",
       "      <th>3</th>\n",
       "      <td>3</td>\n",
       "      <td>Adobe Systems Incorporated</td>\n",
       "      <td>2013</td>\n",
       "      <td>152000000</td>\n",
       "      <td>tech</td>\n",
       "      <td>hacked</td>\n",
       "      <td>[10]</td>\n",
       "    </tr>\n",
       "    <tr>\n",
       "      <th>4</th>\n",
       "      <td>4</td>\n",
       "      <td>Adobe Inc.</td>\n",
       "      <td>2019</td>\n",
       "      <td>7500000</td>\n",
       "      <td>tech</td>\n",
       "      <td>poor security</td>\n",
       "      <td>[11][12]</td>\n",
       "    </tr>\n",
       "    <tr>\n",
       "      <th>5</th>\n",
       "      <td>5</td>\n",
       "      <td>Advocate Medical Group</td>\n",
       "      <td>2017</td>\n",
       "      <td>4000000</td>\n",
       "      <td>healthcare</td>\n",
       "      <td>lost / stolen media</td>\n",
       "      <td>[13][14]</td>\n",
       "    </tr>\n",
       "    <tr>\n",
       "      <th>6</th>\n",
       "      <td>6</td>\n",
       "      <td>AerServ (subsidiary of InMobi)</td>\n",
       "      <td>2018</td>\n",
       "      <td>75000</td>\n",
       "      <td>advertising</td>\n",
       "      <td>hacked</td>\n",
       "      <td>[15]</td>\n",
       "    </tr>\n",
       "    <tr>\n",
       "      <th>7</th>\n",
       "      <td>7</td>\n",
       "      <td>Affinity Health Plan, Inc.</td>\n",
       "      <td>2013</td>\n",
       "      <td>344579</td>\n",
       "      <td>healthcare</td>\n",
       "      <td>lost / stolen media</td>\n",
       "      <td>[16][17]</td>\n",
       "    </tr>\n",
       "    <tr>\n",
       "      <th>8</th>\n",
       "      <td>8</td>\n",
       "      <td>Airtel</td>\n",
       "      <td>2019</td>\n",
       "      <td>320000000</td>\n",
       "      <td>telecommunications</td>\n",
       "      <td>poor security</td>\n",
       "      <td>[18]</td>\n",
       "    </tr>\n",
       "    <tr>\n",
       "      <th>9</th>\n",
       "      <td>9</td>\n",
       "      <td>Air Canada</td>\n",
       "      <td>2018</td>\n",
       "      <td>20000</td>\n",
       "      <td>transport</td>\n",
       "      <td>hacked</td>\n",
       "      <td>[19]</td>\n",
       "    </tr>\n",
       "  </tbody>\n",
       "</table>\n",
       "</div>"
      ],
      "text/plain": [
       "   Unnamed: 0                          Entity  Year    Records  \\\n",
       "0           0           21st Century Oncology  2016    2200000   \n",
       "1           1                           500px  2020   14870304   \n",
       "2           2           Accendo Insurance Co.  2020     175350   \n",
       "3           3      Adobe Systems Incorporated  2013  152000000   \n",
       "4           4                      Adobe Inc.  2019    7500000   \n",
       "5           5          Advocate Medical Group  2017    4000000   \n",
       "6           6  AerServ (subsidiary of InMobi)  2018      75000   \n",
       "7           7      Affinity Health Plan, Inc.  2013     344579   \n",
       "8           8                          Airtel  2019  320000000   \n",
       "9           9                      Air Canada  2018      20000   \n",
       "\n",
       "    Organization type               Method   Sources  \n",
       "0          healthcare               hacked    [5][6]  \n",
       "1   social networking               hacked       [7]  \n",
       "2          healthcare        poor security    [8][9]  \n",
       "3                tech               hacked      [10]  \n",
       "4                tech        poor security  [11][12]  \n",
       "5          healthcare  lost / stolen media  [13][14]  \n",
       "6         advertising               hacked      [15]  \n",
       "7          healthcare  lost / stolen media  [16][17]  \n",
       "8  telecommunications        poor security      [18]  \n",
       "9           transport               hacked      [19]  "
      ]
     },
     "execution_count": 38,
     "metadata": {},
     "output_type": "execute_result"
    }
   ],
   "source": [
    "# load the dataset(s) we will be using\n",
    "csv_file_path = os.path.abspath('df_1.csv');  # get the absolute path of the CS\n",
    "\n",
    "df = pd.read_csv(csv_file_path);   # Read the CSV file into a datafram\n",
    "# display the head to see if the dataset works as intended\n",
    "df.head(10)  #adjust the parameter value as needed"
   ]
  },
  {
   "cell_type": "markdown",
   "id": "1a04c664",
   "metadata": {},
   "source": [
    "From my exploration, I discovered that dataframe 3 and dataframe 1 are the same, so merging them would be useless, dataframe 2 is different from dataframe 1, therefore, merging them holds some value."
   ]
  },
  {
   "cell_type": "code",
   "execution_count": 39,
   "id": "3f1621f1",
   "metadata": {},
   "outputs": [
    {
     "data": {
      "text/plain": [
       "Unnamed: 0            int64\n",
       "Entity               object\n",
       "Year                 object\n",
       "Records              object\n",
       "Organization type    object\n",
       "Method               object\n",
       "Sources              object\n",
       "dtype: object"
      ]
     },
     "execution_count": 39,
     "metadata": {},
     "output_type": "execute_result"
    }
   ],
   "source": [
    "df.dtypes  # simply lists out the datatype we are working with"
   ]
  },
  {
   "cell_type": "code",
   "execution_count": 40,
   "id": "f4b9e109abfaf428",
   "metadata": {
    "ExecuteTime": {
     "end_time": "2023-09-09T19:20:33.325609Z",
     "start_time": "2023-09-09T19:20:33.265630700Z"
    },
    "collapsed": false
   },
   "outputs": [
    {
     "data": {
      "text/plain": [
       "Index(['Unnamed: 0', 'Entity', 'Year', 'Records', 'Organization type',\n",
       "       'Method', 'Sources'],\n",
       "      dtype='object')"
      ]
     },
     "execution_count": 40,
     "metadata": {},
     "output_type": "execute_result"
    }
   ],
   "source": [
    "df.columns # observe the column list"
   ]
  },
  {
   "cell_type": "code",
   "execution_count": 41,
   "id": "c0cc115ab662e2dc",
   "metadata": {
    "ExecuteTime": {
     "end_time": "2023-09-09T19:20:33.816103200Z",
     "start_time": "2023-09-09T19:20:33.785937900Z"
    },
    "collapsed": false
   },
   "outputs": [],
   "source": [
    "# we will need to rename the unnamed column\n",
    "df.rename(columns={'Unnamed: 0' : 'Index'}, inplace=True)"
   ]
  },
  {
   "cell_type": "code",
   "execution_count": 42,
   "id": "b20893287fb448ea",
   "metadata": {
    "ExecuteTime": {
     "end_time": "2023-09-09T19:20:35.163638500Z",
     "start_time": "2023-09-09T19:20:35.143525800Z"
    },
    "collapsed": false
   },
   "outputs": [
    {
     "data": {
      "text/plain": [
       "331"
      ]
     },
     "execution_count": 42,
     "metadata": {},
     "output_type": "execute_result"
    }
   ],
   "source": [
    "# Test out the number of unique values contained in Entity\n",
    "len(df['Entity'].unique())   #there's a total of 331 unique name for comapnies"
   ]
  },
  {
   "cell_type": "markdown",
   "id": "e538d1fc6af68ec2",
   "metadata": {
    "collapsed": false
   },
   "source": [
    "Regarding the column __Entity__, there's 2 options in terms of data preprocessing:\n",
    "* Drop the column altogether\n",
    "* Apply Hashing"
   ]
  },
  {
   "cell_type": "code",
   "execution_count": 43,
   "id": "62ef5e43a5667284",
   "metadata": {
    "ExecuteTime": {
     "end_time": "2023-09-09T19:20:37.408211600Z",
     "start_time": "2023-09-09T19:20:37.349619700Z"
    },
    "collapsed": false
   },
   "outputs": [
    {
     "data": {
      "text/html": [
       "<div>\n",
       "<style scoped>\n",
       "    .dataframe tbody tr th:only-of-type {\n",
       "        vertical-align: middle;\n",
       "    }\n",
       "\n",
       "    .dataframe tbody tr th {\n",
       "        vertical-align: top;\n",
       "    }\n",
       "\n",
       "    .dataframe thead th {\n",
       "        text-align: right;\n",
       "    }\n",
       "</style>\n",
       "<table border=\"1\" class=\"dataframe\">\n",
       "  <thead>\n",
       "    <tr style=\"text-align: right;\">\n",
       "      <th></th>\n",
       "      <th>Index</th>\n",
       "      <th>Entity</th>\n",
       "      <th>Year</th>\n",
       "      <th>Records</th>\n",
       "      <th>Organization type</th>\n",
       "      <th>Method</th>\n",
       "      <th>Sources</th>\n",
       "      <th>hashed_Entity</th>\n",
       "    </tr>\n",
       "  </thead>\n",
       "  <tbody>\n",
       "    <tr>\n",
       "      <th>0</th>\n",
       "      <td>0</td>\n",
       "      <td>21st Century Oncology</td>\n",
       "      <td>2016</td>\n",
       "      <td>2200000</td>\n",
       "      <td>healthcare</td>\n",
       "      <td>hacked</td>\n",
       "      <td>[5][6]</td>\n",
       "      <td>c3a872f67b2c21449ed696e019d008cbb15b384ed63164...</td>\n",
       "    </tr>\n",
       "    <tr>\n",
       "      <th>1</th>\n",
       "      <td>1</td>\n",
       "      <td>500px</td>\n",
       "      <td>2020</td>\n",
       "      <td>14870304</td>\n",
       "      <td>social networking</td>\n",
       "      <td>hacked</td>\n",
       "      <td>[7]</td>\n",
       "      <td>39b1d7f5c52ecec4511c7d93214a3dc33915fcb67c51e1...</td>\n",
       "    </tr>\n",
       "    <tr>\n",
       "      <th>2</th>\n",
       "      <td>2</td>\n",
       "      <td>Accendo Insurance Co.</td>\n",
       "      <td>2020</td>\n",
       "      <td>175350</td>\n",
       "      <td>healthcare</td>\n",
       "      <td>poor security</td>\n",
       "      <td>[8][9]</td>\n",
       "      <td>d37b82c7c3fef3eb56a05bc88697bd64c489f8b13b9ed8...</td>\n",
       "    </tr>\n",
       "    <tr>\n",
       "      <th>3</th>\n",
       "      <td>3</td>\n",
       "      <td>Adobe Systems Incorporated</td>\n",
       "      <td>2013</td>\n",
       "      <td>152000000</td>\n",
       "      <td>tech</td>\n",
       "      <td>hacked</td>\n",
       "      <td>[10]</td>\n",
       "      <td>4ea8e5179ec6c6866f040ebfa23a41946cb05bd37b5ebc...</td>\n",
       "    </tr>\n",
       "    <tr>\n",
       "      <th>4</th>\n",
       "      <td>4</td>\n",
       "      <td>Adobe Inc.</td>\n",
       "      <td>2019</td>\n",
       "      <td>7500000</td>\n",
       "      <td>tech</td>\n",
       "      <td>poor security</td>\n",
       "      <td>[11][12]</td>\n",
       "      <td>4e2eb72d6ffd4a841309dcd87b646d2408ac7394956117...</td>\n",
       "    </tr>\n",
       "  </tbody>\n",
       "</table>\n",
       "</div>"
      ],
      "text/plain": [
       "   Index                      Entity  Year    Records  Organization type  \\\n",
       "0      0       21st Century Oncology  2016    2200000         healthcare   \n",
       "1      1                       500px  2020   14870304  social networking   \n",
       "2      2       Accendo Insurance Co.  2020     175350         healthcare   \n",
       "3      3  Adobe Systems Incorporated  2013  152000000               tech   \n",
       "4      4                  Adobe Inc.  2019    7500000               tech   \n",
       "\n",
       "          Method   Sources                                      hashed_Entity  \n",
       "0         hacked    [5][6]  c3a872f67b2c21449ed696e019d008cbb15b384ed63164...  \n",
       "1         hacked       [7]  39b1d7f5c52ecec4511c7d93214a3dc33915fcb67c51e1...  \n",
       "2  poor security    [8][9]  d37b82c7c3fef3eb56a05bc88697bd64c489f8b13b9ed8...  \n",
       "3         hacked      [10]  4ea8e5179ec6c6866f040ebfa23a41946cb05bd37b5ebc...  \n",
       "4  poor security  [11][12]  4e2eb72d6ffd4a841309dcd87b646d2408ac7394956117...  "
      ]
     },
     "execution_count": 43,
     "metadata": {},
     "output_type": "execute_result"
    }
   ],
   "source": [
    "import hashlib\n",
    "\n",
    "#create a hash function\n",
    "def hash_function(text):\n",
    "    return hashlib.sha256(text.encode()).hexdigest()\n",
    "\n",
    "# create a new column for the hashed values\n",
    "df['hashed_Entity'] = df['Entity'].apply(hash_function)\n",
    "\n",
    "#observe the hashed column\n",
    "df.head()  # we have the hashed entity"
   ]
  },
  {
   "cell_type": "code",
   "execution_count": 44,
   "id": "cccce59fbb9cacbd",
   "metadata": {
    "ExecuteTime": {
     "end_time": "2023-09-09T19:20:37.594094400Z",
     "start_time": "2023-09-09T19:20:37.545021700Z"
    },
    "collapsed": false
   },
   "outputs": [],
   "source": [
    "# create a copy of the dataframe and drop the Entity column \n",
    "df_copy1 = df.drop(columns={'Entity'})"
   ]
  },
  {
   "cell_type": "code",
   "execution_count": 45,
   "id": "1e84958bb201b54a",
   "metadata": {
    "ExecuteTime": {
     "end_time": "2023-09-09T19:20:37.803496900Z",
     "start_time": "2023-09-09T19:20:37.688758800Z"
    },
    "collapsed": false
   },
   "outputs": [
    {
     "data": {
      "text/html": [
       "<div>\n",
       "<style scoped>\n",
       "    .dataframe tbody tr th:only-of-type {\n",
       "        vertical-align: middle;\n",
       "    }\n",
       "\n",
       "    .dataframe tbody tr th {\n",
       "        vertical-align: top;\n",
       "    }\n",
       "\n",
       "    .dataframe thead th {\n",
       "        text-align: right;\n",
       "    }\n",
       "</style>\n",
       "<table border=\"1\" class=\"dataframe\">\n",
       "  <thead>\n",
       "    <tr style=\"text-align: right;\">\n",
       "      <th></th>\n",
       "      <th>Index</th>\n",
       "      <th>Year</th>\n",
       "      <th>Records</th>\n",
       "      <th>Organization type</th>\n",
       "      <th>Method</th>\n",
       "      <th>Sources</th>\n",
       "      <th>hashed_Entity</th>\n",
       "    </tr>\n",
       "  </thead>\n",
       "  <tbody>\n",
       "    <tr>\n",
       "      <th>0</th>\n",
       "      <td>0</td>\n",
       "      <td>2016</td>\n",
       "      <td>2200000</td>\n",
       "      <td>healthcare</td>\n",
       "      <td>hacked</td>\n",
       "      <td>[5][6]</td>\n",
       "      <td>c3a872f67b2c21449ed696e019d008cbb15b384ed63164...</td>\n",
       "    </tr>\n",
       "    <tr>\n",
       "      <th>1</th>\n",
       "      <td>1</td>\n",
       "      <td>2020</td>\n",
       "      <td>14870304</td>\n",
       "      <td>social networking</td>\n",
       "      <td>hacked</td>\n",
       "      <td>[7]</td>\n",
       "      <td>39b1d7f5c52ecec4511c7d93214a3dc33915fcb67c51e1...</td>\n",
       "    </tr>\n",
       "    <tr>\n",
       "      <th>2</th>\n",
       "      <td>2</td>\n",
       "      <td>2020</td>\n",
       "      <td>175350</td>\n",
       "      <td>healthcare</td>\n",
       "      <td>poor security</td>\n",
       "      <td>[8][9]</td>\n",
       "      <td>d37b82c7c3fef3eb56a05bc88697bd64c489f8b13b9ed8...</td>\n",
       "    </tr>\n",
       "    <tr>\n",
       "      <th>3</th>\n",
       "      <td>3</td>\n",
       "      <td>2013</td>\n",
       "      <td>152000000</td>\n",
       "      <td>tech</td>\n",
       "      <td>hacked</td>\n",
       "      <td>[10]</td>\n",
       "      <td>4ea8e5179ec6c6866f040ebfa23a41946cb05bd37b5ebc...</td>\n",
       "    </tr>\n",
       "    <tr>\n",
       "      <th>4</th>\n",
       "      <td>4</td>\n",
       "      <td>2019</td>\n",
       "      <td>7500000</td>\n",
       "      <td>tech</td>\n",
       "      <td>poor security</td>\n",
       "      <td>[11][12]</td>\n",
       "      <td>4e2eb72d6ffd4a841309dcd87b646d2408ac7394956117...</td>\n",
       "    </tr>\n",
       "    <tr>\n",
       "      <th>...</th>\n",
       "      <td>...</td>\n",
       "      <td>...</td>\n",
       "      <td>...</td>\n",
       "      <td>...</td>\n",
       "      <td>...</td>\n",
       "      <td>...</td>\n",
       "      <td>...</td>\n",
       "    </tr>\n",
       "    <tr>\n",
       "      <th>347</th>\n",
       "      <td>347</td>\n",
       "      <td>2019</td>\n",
       "      <td>173000000</td>\n",
       "      <td>social network</td>\n",
       "      <td>hacked</td>\n",
       "      <td>[406][407]</td>\n",
       "      <td>637e6be11e5f556343bad0073ff64ddcf396a88cec35d7...</td>\n",
       "    </tr>\n",
       "    <tr>\n",
       "      <th>348</th>\n",
       "      <td>348</td>\n",
       "      <td>2020</td>\n",
       "      <td>200000000</td>\n",
       "      <td>financial</td>\n",
       "      <td>accidentally published</td>\n",
       "      <td>[408]</td>\n",
       "      <td>985ee128022c38982d1de4c4173f538ced9151f0517fe9...</td>\n",
       "    </tr>\n",
       "    <tr>\n",
       "      <th>349</th>\n",
       "      <td>349</td>\n",
       "      <td>2020</td>\n",
       "      <td>391250</td>\n",
       "      <td>healthcare</td>\n",
       "      <td>poor security</td>\n",
       "      <td>[409]</td>\n",
       "      <td>869ada24f3639cb94ed2dd22ec15aca5928cb7b7c0bc28...</td>\n",
       "    </tr>\n",
       "    <tr>\n",
       "      <th>350</th>\n",
       "      <td>350</td>\n",
       "      <td>2022</td>\n",
       "      <td>6400000</td>\n",
       "      <td>various</td>\n",
       "      <td>poor security</td>\n",
       "      <td>[410] [411]</td>\n",
       "      <td>89def538702db6ab06b39b1d28f5f7980de01dd04bd0a0...</td>\n",
       "    </tr>\n",
       "    <tr>\n",
       "      <th>351</th>\n",
       "      <td>351</td>\n",
       "      <td>2022</td>\n",
       "      <td>95000</td>\n",
       "      <td>retail</td>\n",
       "      <td>accidentally published</td>\n",
       "      <td>[412]</td>\n",
       "      <td>15b201796837385fb129c2cede3326a4c0a8d07c20283b...</td>\n",
       "    </tr>\n",
       "  </tbody>\n",
       "</table>\n",
       "<p>352 rows × 7 columns</p>\n",
       "</div>"
      ],
      "text/plain": [
       "     Index  Year    Records  Organization type                  Method  \\\n",
       "0        0  2016    2200000         healthcare                  hacked   \n",
       "1        1  2020   14870304  social networking                  hacked   \n",
       "2        2  2020     175350         healthcare           poor security   \n",
       "3        3  2013  152000000               tech                  hacked   \n",
       "4        4  2019    7500000               tech           poor security   \n",
       "..     ...   ...        ...                ...                     ...   \n",
       "347    347  2019  173000000     social network                  hacked   \n",
       "348    348  2020  200000000          financial  accidentally published   \n",
       "349    349  2020     391250         healthcare           poor security   \n",
       "350    350  2022    6400000            various           poor security   \n",
       "351    351  2022      95000             retail  accidentally published   \n",
       "\n",
       "         Sources                                      hashed_Entity  \n",
       "0         [5][6]  c3a872f67b2c21449ed696e019d008cbb15b384ed63164...  \n",
       "1            [7]  39b1d7f5c52ecec4511c7d93214a3dc33915fcb67c51e1...  \n",
       "2         [8][9]  d37b82c7c3fef3eb56a05bc88697bd64c489f8b13b9ed8...  \n",
       "3           [10]  4ea8e5179ec6c6866f040ebfa23a41946cb05bd37b5ebc...  \n",
       "4       [11][12]  4e2eb72d6ffd4a841309dcd87b646d2408ac7394956117...  \n",
       "..           ...                                                ...  \n",
       "347   [406][407]  637e6be11e5f556343bad0073ff64ddcf396a88cec35d7...  \n",
       "348        [408]  985ee128022c38982d1de4c4173f538ced9151f0517fe9...  \n",
       "349        [409]  869ada24f3639cb94ed2dd22ec15aca5928cb7b7c0bc28...  \n",
       "350  [410] [411]  89def538702db6ab06b39b1d28f5f7980de01dd04bd0a0...  \n",
       "351        [412]  15b201796837385fb129c2cede3326a4c0a8d07c20283b...  \n",
       "\n",
       "[352 rows x 7 columns]"
      ]
     },
     "execution_count": 45,
     "metadata": {},
     "output_type": "execute_result"
    }
   ],
   "source": [
    "df_copy1  # we don't want to make modifications to the original dataframe "
   ]
  },
  {
   "cell_type": "code",
   "execution_count": 46,
   "id": "8603b602fd5debd5",
   "metadata": {
    "ExecuteTime": {
     "end_time": "2023-09-09T19:20:03.417380100Z",
     "start_time": "2023-09-09T19:20:02.813591Z"
    },
    "collapsed": false
   },
   "outputs": [
    {
     "data": {
      "text/html": [
       "<div>\n",
       "<style scoped>\n",
       "    .dataframe tbody tr th:only-of-type {\n",
       "        vertical-align: middle;\n",
       "    }\n",
       "\n",
       "    .dataframe tbody tr th {\n",
       "        vertical-align: top;\n",
       "    }\n",
       "\n",
       "    .dataframe thead th {\n",
       "        text-align: right;\n",
       "    }\n",
       "</style>\n",
       "<table border=\"1\" class=\"dataframe\">\n",
       "  <thead>\n",
       "    <tr style=\"text-align: right;\">\n",
       "      <th></th>\n",
       "      <th>Index</th>\n",
       "      <th>Year</th>\n",
       "      <th>Records</th>\n",
       "      <th>Organization type</th>\n",
       "      <th>Method</th>\n",
       "      <th>Sources</th>\n",
       "      <th>hashed_Entity</th>\n",
       "    </tr>\n",
       "  </thead>\n",
       "  <tbody>\n",
       "    <tr>\n",
       "      <th>0</th>\n",
       "      <td>0</td>\n",
       "      <td>2016</td>\n",
       "      <td>2200000</td>\n",
       "      <td>healthcare</td>\n",
       "      <td>hacked</td>\n",
       "      <td>[5][6]</td>\n",
       "      <td>c3a872f67b2c21449ed696e019d008cbb15b384ed63164...</td>\n",
       "    </tr>\n",
       "    <tr>\n",
       "      <th>1</th>\n",
       "      <td>1</td>\n",
       "      <td>2020</td>\n",
       "      <td>14870304</td>\n",
       "      <td>social networking</td>\n",
       "      <td>hacked</td>\n",
       "      <td>[7]</td>\n",
       "      <td>39b1d7f5c52ecec4511c7d93214a3dc33915fcb67c51e1...</td>\n",
       "    </tr>\n",
       "    <tr>\n",
       "      <th>2</th>\n",
       "      <td>2</td>\n",
       "      <td>2020</td>\n",
       "      <td>175350</td>\n",
       "      <td>healthcare</td>\n",
       "      <td>poor security</td>\n",
       "      <td>[8][9]</td>\n",
       "      <td>d37b82c7c3fef3eb56a05bc88697bd64c489f8b13b9ed8...</td>\n",
       "    </tr>\n",
       "    <tr>\n",
       "      <th>3</th>\n",
       "      <td>3</td>\n",
       "      <td>2013</td>\n",
       "      <td>152000000</td>\n",
       "      <td>tech</td>\n",
       "      <td>hacked</td>\n",
       "      <td>[10]</td>\n",
       "      <td>4ea8e5179ec6c6866f040ebfa23a41946cb05bd37b5ebc...</td>\n",
       "    </tr>\n",
       "    <tr>\n",
       "      <th>4</th>\n",
       "      <td>4</td>\n",
       "      <td>2019</td>\n",
       "      <td>7500000</td>\n",
       "      <td>tech</td>\n",
       "      <td>poor security</td>\n",
       "      <td>[11][12]</td>\n",
       "      <td>4e2eb72d6ffd4a841309dcd87b646d2408ac7394956117...</td>\n",
       "    </tr>\n",
       "    <tr>\n",
       "      <th>...</th>\n",
       "      <td>...</td>\n",
       "      <td>...</td>\n",
       "      <td>...</td>\n",
       "      <td>...</td>\n",
       "      <td>...</td>\n",
       "      <td>...</td>\n",
       "      <td>...</td>\n",
       "    </tr>\n",
       "    <tr>\n",
       "      <th>347</th>\n",
       "      <td>347</td>\n",
       "      <td>2019</td>\n",
       "      <td>173000000</td>\n",
       "      <td>social network</td>\n",
       "      <td>hacked</td>\n",
       "      <td>[406][407]</td>\n",
       "      <td>637e6be11e5f556343bad0073ff64ddcf396a88cec35d7...</td>\n",
       "    </tr>\n",
       "    <tr>\n",
       "      <th>348</th>\n",
       "      <td>348</td>\n",
       "      <td>2020</td>\n",
       "      <td>200000000</td>\n",
       "      <td>financial</td>\n",
       "      <td>accidentally published</td>\n",
       "      <td>[408]</td>\n",
       "      <td>985ee128022c38982d1de4c4173f538ced9151f0517fe9...</td>\n",
       "    </tr>\n",
       "    <tr>\n",
       "      <th>349</th>\n",
       "      <td>349</td>\n",
       "      <td>2020</td>\n",
       "      <td>391250</td>\n",
       "      <td>healthcare</td>\n",
       "      <td>poor security</td>\n",
       "      <td>[409]</td>\n",
       "      <td>869ada24f3639cb94ed2dd22ec15aca5928cb7b7c0bc28...</td>\n",
       "    </tr>\n",
       "    <tr>\n",
       "      <th>350</th>\n",
       "      <td>350</td>\n",
       "      <td>2022</td>\n",
       "      <td>6400000</td>\n",
       "      <td>various</td>\n",
       "      <td>poor security</td>\n",
       "      <td>[410] [411]</td>\n",
       "      <td>89def538702db6ab06b39b1d28f5f7980de01dd04bd0a0...</td>\n",
       "    </tr>\n",
       "    <tr>\n",
       "      <th>351</th>\n",
       "      <td>351</td>\n",
       "      <td>2022</td>\n",
       "      <td>95000</td>\n",
       "      <td>retail</td>\n",
       "      <td>accidentally published</td>\n",
       "      <td>[412]</td>\n",
       "      <td>15b201796837385fb129c2cede3326a4c0a8d07c20283b...</td>\n",
       "    </tr>\n",
       "  </tbody>\n",
       "</table>\n",
       "<p>352 rows × 7 columns</p>\n",
       "</div>"
      ],
      "text/plain": [
       "     Index  Year    Records  Organization type                  Method  \\\n",
       "0        0  2016    2200000         healthcare                  hacked   \n",
       "1        1  2020   14870304  social networking                  hacked   \n",
       "2        2  2020     175350         healthcare           poor security   \n",
       "3        3  2013  152000000               tech                  hacked   \n",
       "4        4  2019    7500000               tech           poor security   \n",
       "..     ...   ...        ...                ...                     ...   \n",
       "347    347  2019  173000000     social network                  hacked   \n",
       "348    348  2020  200000000          financial  accidentally published   \n",
       "349    349  2020     391250         healthcare           poor security   \n",
       "350    350  2022    6400000            various           poor security   \n",
       "351    351  2022      95000             retail  accidentally published   \n",
       "\n",
       "         Sources                                      hashed_Entity  \n",
       "0         [5][6]  c3a872f67b2c21449ed696e019d008cbb15b384ed63164...  \n",
       "1            [7]  39b1d7f5c52ecec4511c7d93214a3dc33915fcb67c51e1...  \n",
       "2         [8][9]  d37b82c7c3fef3eb56a05bc88697bd64c489f8b13b9ed8...  \n",
       "3           [10]  4ea8e5179ec6c6866f040ebfa23a41946cb05bd37b5ebc...  \n",
       "4       [11][12]  4e2eb72d6ffd4a841309dcd87b646d2408ac7394956117...  \n",
       "..           ...                                                ...  \n",
       "347   [406][407]  637e6be11e5f556343bad0073ff64ddcf396a88cec35d7...  \n",
       "348        [408]  985ee128022c38982d1de4c4173f538ced9151f0517fe9...  \n",
       "349        [409]  869ada24f3639cb94ed2dd22ec15aca5928cb7b7c0bc28...  \n",
       "350  [410] [411]  89def538702db6ab06b39b1d28f5f7980de01dd04bd0a0...  \n",
       "351        [412]  15b201796837385fb129c2cede3326a4c0a8d07c20283b...  \n",
       "\n",
       "[352 rows x 7 columns]"
      ]
     },
     "execution_count": 46,
     "metadata": {},
     "output_type": "execute_result"
    }
   ],
   "source": [
    "len(df_copy1['Organization type'].unique())   # in terms of organization type, there's 70 different unique values\n",
    "df_copy1"
   ]
  },
  {
   "cell_type": "code",
   "execution_count": 47,
   "id": "38dc8a351025f36a",
   "metadata": {
    "ExecuteTime": {
     "end_time": "2023-09-09T19:20:03.417380100Z",
     "start_time": "2023-09-09T19:20:02.833091200Z"
    },
    "collapsed": false
   },
   "outputs": [],
   "source": [
    "# remove the special characters\n",
    "df_copy1['Organization type'] = df_copy1['Organization type'].str.replace(',', '_')  # replace the cases of ',' with '_'.\n",
    "df_copy1['Organization type'] = df_copy1['Organization type'].str.replace(' ', '_') # we also replace the cases of spacing with '_'.\n",
    "df_copy1['Organization type'] = df_copy1['Organization type'].str.replace('__', '_')  # replace all instances of __ with _"
   ]
  },
  {
   "cell_type": "markdown",
   "id": "e2bdeb53",
   "metadata": {},
   "source": [
    "Before encoding the organization type, I've copied the df to keep the original data intact. I'm dropping the hashed_Entity column as it is not needed for visualizing – we want to focus on industries and not individual companies."
   ]
  },
  {
   "cell_type": "code",
   "execution_count": 56,
   "id": "e1ce8d0263117907",
   "metadata": {
    "ExecuteTime": {
     "end_time": "2023-09-09T19:20:03.417380100Z",
     "start_time": "2023-09-09T19:20:02.847272400Z"
    },
    "collapsed": false
   },
   "outputs": [
    {
     "ename": "KeyError",
     "evalue": "\"['hashed_Entity'] not found in axis\"",
     "output_type": "error",
     "traceback": [
      "\u001b[0;31m---------------------------------------------------------------------------\u001b[0m",
      "\u001b[0;31mKeyError\u001b[0m                                  Traceback (most recent call last)",
      "\u001b[1;32m/Users/georginawoo/Desktop/HUNTER/1semesters/F23/databreach/Accenture3A_Project/Accenture_3A.ipynb Cell 16\u001b[0m line \u001b[0;36m3\n\u001b[1;32m      <a href='vscode-notebook-cell:/Users/georginawoo/Desktop/HUNTER/1semesters/F23/databreach/Accenture3A_Project/Accenture_3A.ipynb#Y123sZmlsZQ%3D%3D?line=0'>1</a>\u001b[0m df_vis \u001b[39m=\u001b[39m df_copy1  \u001b[39m#create another copy of the df_copy and perform further data preprocessing\u001b[39;00m\n\u001b[1;32m      <a href='vscode-notebook-cell:/Users/georginawoo/Desktop/HUNTER/1semesters/F23/databreach/Accenture3A_Project/Accenture_3A.ipynb#Y123sZmlsZQ%3D%3D?line=1'>2</a>\u001b[0m \u001b[39m#drop the hashed entity column\u001b[39;00m\n\u001b[0;32m----> <a href='vscode-notebook-cell:/Users/georginawoo/Desktop/HUNTER/1semesters/F23/databreach/Accenture3A_Project/Accenture_3A.ipynb#Y123sZmlsZQ%3D%3D?line=2'>3</a>\u001b[0m df_vis\u001b[39m.\u001b[39;49mdrop(columns\u001b[39m=\u001b[39;49m{\u001b[39m'\u001b[39;49m\u001b[39mhashed_Entity\u001b[39;49m\u001b[39m'\u001b[39;49m}, inplace\u001b[39m=\u001b[39;49m\u001b[39mTrue\u001b[39;49;00m)  \u001b[39m#note: after dropping the column the first time, you may end up running into an error if you were to rerun the code block again\u001b[39;00m\n\u001b[1;32m      <a href='vscode-notebook-cell:/Users/georginawoo/Desktop/HUNTER/1semesters/F23/databreach/Accenture3A_Project/Accenture_3A.ipynb#Y123sZmlsZQ%3D%3D?line=3'>4</a>\u001b[0m \u001b[39m#drop the Sources column\u001b[39;00m\n\u001b[1;32m      <a href='vscode-notebook-cell:/Users/georginawoo/Desktop/HUNTER/1semesters/F23/databreach/Accenture3A_Project/Accenture_3A.ipynb#Y123sZmlsZQ%3D%3D?line=4'>5</a>\u001b[0m df_vis\u001b[39m.\u001b[39mdrop(columns\u001b[39m=\u001b[39m{\u001b[39m'\u001b[39m\u001b[39mSources\u001b[39m\u001b[39m'\u001b[39m}, inplace\u001b[39m=\u001b[39m\u001b[39mTrue\u001b[39;00m)\n",
      "File \u001b[0;32m/Library/Frameworks/Python.framework/Versions/3.11/lib/python3.11/site-packages/pandas/core/frame.py:5347\u001b[0m, in \u001b[0;36mDataFrame.drop\u001b[0;34m(self, labels, axis, index, columns, level, inplace, errors)\u001b[0m\n\u001b[1;32m   5199\u001b[0m \u001b[39mdef\u001b[39;00m \u001b[39mdrop\u001b[39m(\n\u001b[1;32m   5200\u001b[0m     \u001b[39mself\u001b[39m,\n\u001b[1;32m   5201\u001b[0m     labels: IndexLabel \u001b[39m|\u001b[39m \u001b[39mNone\u001b[39;00m \u001b[39m=\u001b[39m \u001b[39mNone\u001b[39;00m,\n\u001b[0;32m   (...)\u001b[0m\n\u001b[1;32m   5208\u001b[0m     errors: IgnoreRaise \u001b[39m=\u001b[39m \u001b[39m\"\u001b[39m\u001b[39mraise\u001b[39m\u001b[39m\"\u001b[39m,\n\u001b[1;32m   5209\u001b[0m ) \u001b[39m-\u001b[39m\u001b[39m>\u001b[39m DataFrame \u001b[39m|\u001b[39m \u001b[39mNone\u001b[39;00m:\n\u001b[1;32m   5210\u001b[0m \u001b[39m    \u001b[39m\u001b[39m\"\"\"\u001b[39;00m\n\u001b[1;32m   5211\u001b[0m \u001b[39m    Drop specified labels from rows or columns.\u001b[39;00m\n\u001b[1;32m   5212\u001b[0m \n\u001b[0;32m   (...)\u001b[0m\n\u001b[1;32m   5345\u001b[0m \u001b[39m            weight  1.0     0.8\u001b[39;00m\n\u001b[1;32m   5346\u001b[0m \u001b[39m    \"\"\"\u001b[39;00m\n\u001b[0;32m-> 5347\u001b[0m     \u001b[39mreturn\u001b[39;00m \u001b[39msuper\u001b[39;49m()\u001b[39m.\u001b[39;49mdrop(\n\u001b[1;32m   5348\u001b[0m         labels\u001b[39m=\u001b[39;49mlabels,\n\u001b[1;32m   5349\u001b[0m         axis\u001b[39m=\u001b[39;49maxis,\n\u001b[1;32m   5350\u001b[0m         index\u001b[39m=\u001b[39;49mindex,\n\u001b[1;32m   5351\u001b[0m         columns\u001b[39m=\u001b[39;49mcolumns,\n\u001b[1;32m   5352\u001b[0m         level\u001b[39m=\u001b[39;49mlevel,\n\u001b[1;32m   5353\u001b[0m         inplace\u001b[39m=\u001b[39;49minplace,\n\u001b[1;32m   5354\u001b[0m         errors\u001b[39m=\u001b[39;49merrors,\n\u001b[1;32m   5355\u001b[0m     )\n",
      "File \u001b[0;32m/Library/Frameworks/Python.framework/Versions/3.11/lib/python3.11/site-packages/pandas/core/generic.py:4711\u001b[0m, in \u001b[0;36mNDFrame.drop\u001b[0;34m(self, labels, axis, index, columns, level, inplace, errors)\u001b[0m\n\u001b[1;32m   4709\u001b[0m \u001b[39mfor\u001b[39;00m axis, labels \u001b[39min\u001b[39;00m axes\u001b[39m.\u001b[39mitems():\n\u001b[1;32m   4710\u001b[0m     \u001b[39mif\u001b[39;00m labels \u001b[39mis\u001b[39;00m \u001b[39mnot\u001b[39;00m \u001b[39mNone\u001b[39;00m:\n\u001b[0;32m-> 4711\u001b[0m         obj \u001b[39m=\u001b[39m obj\u001b[39m.\u001b[39;49m_drop_axis(labels, axis, level\u001b[39m=\u001b[39;49mlevel, errors\u001b[39m=\u001b[39;49merrors)\n\u001b[1;32m   4713\u001b[0m \u001b[39mif\u001b[39;00m inplace:\n\u001b[1;32m   4714\u001b[0m     \u001b[39mself\u001b[39m\u001b[39m.\u001b[39m_update_inplace(obj)\n",
      "File \u001b[0;32m/Library/Frameworks/Python.framework/Versions/3.11/lib/python3.11/site-packages/pandas/core/generic.py:4753\u001b[0m, in \u001b[0;36mNDFrame._drop_axis\u001b[0;34m(self, labels, axis, level, errors, only_slice)\u001b[0m\n\u001b[1;32m   4751\u001b[0m         new_axis \u001b[39m=\u001b[39m axis\u001b[39m.\u001b[39mdrop(labels, level\u001b[39m=\u001b[39mlevel, errors\u001b[39m=\u001b[39merrors)\n\u001b[1;32m   4752\u001b[0m     \u001b[39melse\u001b[39;00m:\n\u001b[0;32m-> 4753\u001b[0m         new_axis \u001b[39m=\u001b[39m axis\u001b[39m.\u001b[39;49mdrop(labels, errors\u001b[39m=\u001b[39;49merrors)\n\u001b[1;32m   4754\u001b[0m     indexer \u001b[39m=\u001b[39m axis\u001b[39m.\u001b[39mget_indexer(new_axis)\n\u001b[1;32m   4756\u001b[0m \u001b[39m# Case for non-unique axis\u001b[39;00m\n\u001b[1;32m   4757\u001b[0m \u001b[39melse\u001b[39;00m:\n",
      "File \u001b[0;32m/Library/Frameworks/Python.framework/Versions/3.11/lib/python3.11/site-packages/pandas/core/indexes/base.py:6992\u001b[0m, in \u001b[0;36mIndex.drop\u001b[0;34m(self, labels, errors)\u001b[0m\n\u001b[1;32m   6990\u001b[0m \u001b[39mif\u001b[39;00m mask\u001b[39m.\u001b[39many():\n\u001b[1;32m   6991\u001b[0m     \u001b[39mif\u001b[39;00m errors \u001b[39m!=\u001b[39m \u001b[39m\"\u001b[39m\u001b[39mignore\u001b[39m\u001b[39m\"\u001b[39m:\n\u001b[0;32m-> 6992\u001b[0m         \u001b[39mraise\u001b[39;00m \u001b[39mKeyError\u001b[39;00m(\u001b[39mf\u001b[39m\u001b[39m\"\u001b[39m\u001b[39m{\u001b[39;00mlabels[mask]\u001b[39m.\u001b[39mtolist()\u001b[39m}\u001b[39;00m\u001b[39m not found in axis\u001b[39m\u001b[39m\"\u001b[39m)\n\u001b[1;32m   6993\u001b[0m     indexer \u001b[39m=\u001b[39m indexer[\u001b[39m~\u001b[39mmask]\n\u001b[1;32m   6994\u001b[0m \u001b[39mreturn\u001b[39;00m \u001b[39mself\u001b[39m\u001b[39m.\u001b[39mdelete(indexer)\n",
      "\u001b[0;31mKeyError\u001b[0m: \"['hashed_Entity'] not found in axis\""
     ]
    }
   ],
   "source": [
    "df_vis = df_copy1  #create another copy of the df_copy and perform further data preprocessing\n",
    "#drop the hashed entity column\n",
    "df_vis.drop(columns={'hashed_Entity'}, inplace=True)  #note: after dropping the column the first time, you may end up running into an error if you were to rerun the code block again\n",
    "#drop the Sources column\n",
    "df_vis.drop(columns={'Sources'}, inplace=True)\n",
    "df_vis"
   ]
  },
  {
   "cell_type": "code",
   "execution_count": 57,
   "metadata": {},
   "outputs": [
    {
     "name": "stdout",
     "output_type": "stream",
     "text": [
      "Non-integer values in the 'Records' column:\n",
      "Index, Value, Industry\n",
      "25 nan dating\n",
      "41 nan gambling\n",
      "66 nan information_technology\n",
      "82 nan consulting_accounting\n",
      "119 nan Information_Security\n",
      "185 nan software\n",
      "248 nan Network_Monitoring\n",
      "336 nan arts_group\n",
      "337 nan web_service\n",
      "Unique industries from non-integer records:\n",
      "['Network_Monitoring', 'information_technology', 'arts_group', 'gambling', 'Information_Security', 'dating', 'web_service', 'consulting_accounting', 'software']\n"
     ]
    }
   ],
   "source": [
    "# Initialize a list to store index positions and non-integer values as tuples\n",
    "non_integer_records = []\n",
    "\n",
    "# Initialize a set to store unique industries\n",
    "unique_industries = set()\n",
    "\n",
    "# Iterate through the 'Records' column and collect non-integer values with their index positions and industry\n",
    "for index, (value, industry) in enumerate(zip(df_vis['Records'], df_vis['Organization type'])):\n",
    "    try:\n",
    "        int_value = int(value)\n",
    "    except ValueError:\n",
    "        non_integer_records.append((index, str(value), industry))\n",
    "        unique_industries.add(industry)\n",
    "\n",
    "# Print the index positions, values, and industries for non-integer values\n",
    "if non_integer_records:\n",
    "    print(\"Non-integer values in the 'Records' column:\")\n",
    "    print(\"Index, Value, Industry\")\n",
    "    for index, value, industry in non_integer_records:\n",
    "        print(index, value, industry)\n",
    "else:\n",
    "    print(\"No non-integer values in the 'Records' column.\")\n",
    "    \n",
    "# Print the list of unique industries from non-integer records\n",
    "if unique_industries:\n",
    "    print(\"Unique industries from non-integer records:\")\n",
    "    print(list(unique_industries))\n",
    "else:\n",
    "    print(\"No unique industries found in non-integer records.\")"
   ]
  },
  {
   "cell_type": "code",
   "execution_count": 58,
   "metadata": {},
   "outputs": [
    {
     "name": "stdout",
     "output_type": "stream",
     "text": [
      "Updated non-integer records: ['Network_Monitoring', 'information_technology', 'arts_group', 'gambling', 'Information_Security', 'dating', 'web_service', 'consulting_accounting', 'software']\n"
     ]
    },
    {
     "name": "stderr",
     "output_type": "stream",
     "text": [
      "/var/folders/sk/r_8fkf9s2ys9d8p1lfwj100r0000gn/T/ipykernel_41009/819895320.py:9: SettingWithCopyWarning: \n",
      "A value is trying to be set on a copy of a slice from a DataFrame.\n",
      "Try using .loc[row_indexer,col_indexer] = value instead\n",
      "\n",
      "See the caveats in the documentation: https://pandas.pydata.org/pandas-docs/stable/user_guide/indexing.html#returning-a-view-versus-a-copy\n",
      "  industry_df['Records'] = pd.to_numeric(industry_df['Records'], errors='coerce')\n"
     ]
    }
   ],
   "source": [
    "updated_non_integer_records = []\n",
    "# types = list()\n",
    "\n",
    "for industry in unique_industries:\n",
    "    # Create a separate DataFrame for the current industry\n",
    "    industry_df = df_vis[df_vis['Organization type'] == industry]\n",
    "    \n",
    "    # Drop entries with non-integer values in 'Records'\n",
    "    industry_df['Records'] = pd.to_numeric(industry_df['Records'], errors='coerce')\n",
    "    industry_df = industry_df.dropna()\n",
    "    \n",
    "    # Calculate the mean records for the current industry\n",
    "    mean_records = industry_df['Records'].mean()\n",
    "    \n",
    "    # #add the type of mean_records to the types list\n",
    "    # types.append(type(mean_records))\n",
    "    \n",
    "    # Update 'Records' in the original DataFrame if mean is not NaN and remove from non_integer_records\n",
    "    #if the mean_record is nan, its type will be float\n",
    "    if type(mean_records) != float:\n",
    "        # Print the mean records for the current industry\n",
    "        # print(f\"Industry: {industry}, Type: {type(mean_records)}, Mean Records: {mean_records}\")\n",
    "        for index, value, industry_name in non_integer_records:\n",
    "            if industry_name == industry:\n",
    "                df_vis.at[index, 'Records'] = mean_records\n",
    "    else:\n",
    "        updated_non_integer_records.append(industry)\n",
    "\n",
    "#make the types list a set\n",
    "# types = set(types)\n",
    "# print(f\"Types of mean_records: {types}\")\n",
    "print(f\"Updated non-integer records: {updated_non_integer_records}\")"
   ]
  },
  {
   "cell_type": "code",
   "execution_count": 61,
   "metadata": {},
   "outputs": [
    {
     "name": "stdout",
     "output_type": "stream",
     "text": [
      "No remaining non-integer values in the 'Records' column!\n",
      "Index                float64\n",
      "Year                  object\n",
      "Records                int64\n",
      "Organization type     object\n",
      "Method                object\n",
      "dtype: object\n"
     ]
    },
    {
     "name": "stderr",
     "output_type": "stream",
     "text": [
      "/var/folders/sk/r_8fkf9s2ys9d8p1lfwj100r0000gn/T/ipykernel_41009/2850229340.py:30: SettingWithCopyWarning: \n",
      "A value is trying to be set on a copy of a slice from a DataFrame.\n",
      "Try using .loc[row_indexer,col_indexer] = value instead\n",
      "\n",
      "See the caveats in the documentation: https://pandas.pydata.org/pandas-docs/stable/user_guide/indexing.html#returning-a-view-versus-a-copy\n",
      "  df_vis['Records'] = df_vis['Records'].astype(int)\n"
     ]
    },
    {
     "data": {
      "text/html": [
       "<div>\n",
       "<style scoped>\n",
       "    .dataframe tbody tr th:only-of-type {\n",
       "        vertical-align: middle;\n",
       "    }\n",
       "\n",
       "    .dataframe tbody tr th {\n",
       "        vertical-align: top;\n",
       "    }\n",
       "\n",
       "    .dataframe thead th {\n",
       "        text-align: right;\n",
       "    }\n",
       "</style>\n",
       "<table border=\"1\" class=\"dataframe\">\n",
       "  <thead>\n",
       "    <tr style=\"text-align: right;\">\n",
       "      <th></th>\n",
       "      <th>Index</th>\n",
       "      <th>Year</th>\n",
       "      <th>Records</th>\n",
       "      <th>Organization type</th>\n",
       "      <th>Method</th>\n",
       "    </tr>\n",
       "  </thead>\n",
       "  <tbody>\n",
       "    <tr>\n",
       "      <th>0</th>\n",
       "      <td>0.0</td>\n",
       "      <td>2016</td>\n",
       "      <td>2200000</td>\n",
       "      <td>healthcare</td>\n",
       "      <td>hacked</td>\n",
       "    </tr>\n",
       "    <tr>\n",
       "      <th>1</th>\n",
       "      <td>1.0</td>\n",
       "      <td>2020</td>\n",
       "      <td>14870304</td>\n",
       "      <td>social_networking</td>\n",
       "      <td>hacked</td>\n",
       "    </tr>\n",
       "    <tr>\n",
       "      <th>2</th>\n",
       "      <td>2.0</td>\n",
       "      <td>2020</td>\n",
       "      <td>175350</td>\n",
       "      <td>healthcare</td>\n",
       "      <td>poor security</td>\n",
       "    </tr>\n",
       "    <tr>\n",
       "      <th>3</th>\n",
       "      <td>3.0</td>\n",
       "      <td>2013</td>\n",
       "      <td>152000000</td>\n",
       "      <td>tech</td>\n",
       "      <td>hacked</td>\n",
       "    </tr>\n",
       "    <tr>\n",
       "      <th>4</th>\n",
       "      <td>4.0</td>\n",
       "      <td>2019</td>\n",
       "      <td>7500000</td>\n",
       "      <td>tech</td>\n",
       "      <td>poor security</td>\n",
       "    </tr>\n",
       "    <tr>\n",
       "      <th>...</th>\n",
       "      <td>...</td>\n",
       "      <td>...</td>\n",
       "      <td>...</td>\n",
       "      <td>...</td>\n",
       "      <td>...</td>\n",
       "    </tr>\n",
       "    <tr>\n",
       "      <th>347</th>\n",
       "      <td>347.0</td>\n",
       "      <td>2019</td>\n",
       "      <td>173000000</td>\n",
       "      <td>social_network</td>\n",
       "      <td>hacked</td>\n",
       "    </tr>\n",
       "    <tr>\n",
       "      <th>348</th>\n",
       "      <td>348.0</td>\n",
       "      <td>2020</td>\n",
       "      <td>200000000</td>\n",
       "      <td>financial</td>\n",
       "      <td>accidentally published</td>\n",
       "    </tr>\n",
       "    <tr>\n",
       "      <th>349</th>\n",
       "      <td>349.0</td>\n",
       "      <td>2020</td>\n",
       "      <td>391250</td>\n",
       "      <td>healthcare</td>\n",
       "      <td>poor security</td>\n",
       "    </tr>\n",
       "    <tr>\n",
       "      <th>350</th>\n",
       "      <td>350.0</td>\n",
       "      <td>2022</td>\n",
       "      <td>6400000</td>\n",
       "      <td>various</td>\n",
       "      <td>poor security</td>\n",
       "    </tr>\n",
       "    <tr>\n",
       "      <th>351</th>\n",
       "      <td>351.0</td>\n",
       "      <td>2022</td>\n",
       "      <td>95000</td>\n",
       "      <td>retail</td>\n",
       "      <td>accidentally published</td>\n",
       "    </tr>\n",
       "  </tbody>\n",
       "</table>\n",
       "<p>342 rows × 5 columns</p>\n",
       "</div>"
      ],
      "text/plain": [
       "     Index  Year    Records  Organization type                  Method\n",
       "0      0.0  2016    2200000         healthcare                  hacked\n",
       "1      1.0  2020   14870304  social_networking                  hacked\n",
       "2      2.0  2020     175350         healthcare           poor security\n",
       "3      3.0  2013  152000000               tech                  hacked\n",
       "4      4.0  2019    7500000               tech           poor security\n",
       "..     ...   ...        ...                ...                     ...\n",
       "347  347.0  2019  173000000     social_network                  hacked\n",
       "348  348.0  2020  200000000          financial  accidentally published\n",
       "349  349.0  2020     391250         healthcare           poor security\n",
       "350  350.0  2022    6400000            various           poor security\n",
       "351  351.0  2022      95000             retail  accidentally published\n",
       "\n",
       "[342 rows x 5 columns]"
      ]
     },
     "execution_count": 61,
     "metadata": {},
     "output_type": "execute_result"
    }
   ],
   "source": [
    "# Calculate the mean records value for the entire DataFrame df_vis (excluding non-numeric values)\n",
    "df_vis['Records'] = pd.to_numeric(df_vis['Records'], errors='coerce')\n",
    "df_vis = df_vis.dropna()\n",
    "mean_records_all = df_vis['Records'].mean()\n",
    "\n",
    "# Replace 'Records' values in updated_non_integer_records with the mean records for the entire DataFrame\n",
    "for industry in updated_non_integer_records:\n",
    "    # for each entry in the dataframe, if the industry matches the industry in the updated_non_integer_records, replace the value with the mean_records_all\n",
    "    for index, value, industry_name in non_integer_records:\n",
    "        if industry_name == industry:\n",
    "            df_vis.at[index, 'Records'] = mean_records_all\n",
    "\n",
    "#Check that there are no more non-integer values in 'Records'\n",
    "non_integer_records = []\n",
    "for index, value, industry in zip(df_vis.index, df_vis['Records'], df_vis['Organization type']):\n",
    "    try:\n",
    "        int_value = int(value)\n",
    "    except ValueError:\n",
    "        non_integer_records.append((index, str(value), industry))\n",
    "\n",
    "if non_integer_records:\n",
    "    print(\"Non-integer values in the 'Records' column:\")\n",
    "    print(\"Index, Value, Industry\")\n",
    "    for index, value, industry in non_integer_records:\n",
    "        print(index, value, industry)\n",
    "else:\n",
    "    print(\"No remaining non-integer values in the 'Records' column!\")\n",
    "\n",
    "#Update all the values in the Records column to be integers\n",
    "df_vis['Records'] = df_vis['Records'].astype(int)\n",
    "\n",
    "# Check the data types of the DataFrame in the 'Records' column\n",
    "print(df_vis.dtypes)\n",
    "\n",
    "df_vis"
   ]
  },
  {
   "cell_type": "markdown",
   "id": "ac633714",
   "metadata": {},
   "source": [
    "Checking if the Year column is well formatted (should be a year like 2016, or 2019, not 2016-2019). If not, we'll need to do some data cleaning."
   ]
  },
  {
   "cell_type": "code",
   "execution_count": 62,
   "id": "51564148",
   "metadata": {},
   "outputs": [
    {
     "name": "stdout",
     "output_type": "stream",
     "text": [
      "Null values:  False\n",
      "Non numeric values:  True\n",
      "Non numeric values:\n"
     ]
    },
    {
     "data": {
      "text/html": [
       "<div>\n",
       "<style scoped>\n",
       "    .dataframe tbody tr th:only-of-type {\n",
       "        vertical-align: middle;\n",
       "    }\n",
       "\n",
       "    .dataframe tbody tr th {\n",
       "        vertical-align: top;\n",
       "    }\n",
       "\n",
       "    .dataframe thead th {\n",
       "        text-align: right;\n",
       "    }\n",
       "</style>\n",
       "<table border=\"1\" class=\"dataframe\">\n",
       "  <thead>\n",
       "    <tr style=\"text-align: right;\">\n",
       "      <th></th>\n",
       "      <th>Index</th>\n",
       "      <th>Year</th>\n",
       "      <th>Records</th>\n",
       "      <th>Organization type</th>\n",
       "      <th>Method</th>\n",
       "    </tr>\n",
       "  </thead>\n",
       "  <tbody>\n",
       "    <tr>\n",
       "      <th>0</th>\n",
       "      <td>0.0</td>\n",
       "      <td>2016</td>\n",
       "      <td>2200000</td>\n",
       "      <td>healthcare</td>\n",
       "      <td>hacked</td>\n",
       "    </tr>\n",
       "    <tr>\n",
       "      <th>1</th>\n",
       "      <td>1.0</td>\n",
       "      <td>2020</td>\n",
       "      <td>14870304</td>\n",
       "      <td>social_networking</td>\n",
       "      <td>hacked</td>\n",
       "    </tr>\n",
       "    <tr>\n",
       "      <th>2</th>\n",
       "      <td>2.0</td>\n",
       "      <td>2020</td>\n",
       "      <td>175350</td>\n",
       "      <td>healthcare</td>\n",
       "      <td>poor security</td>\n",
       "    </tr>\n",
       "    <tr>\n",
       "      <th>3</th>\n",
       "      <td>3.0</td>\n",
       "      <td>2013</td>\n",
       "      <td>152000000</td>\n",
       "      <td>tech</td>\n",
       "      <td>hacked</td>\n",
       "    </tr>\n",
       "    <tr>\n",
       "      <th>4</th>\n",
       "      <td>4.0</td>\n",
       "      <td>2019</td>\n",
       "      <td>7500000</td>\n",
       "      <td>tech</td>\n",
       "      <td>poor security</td>\n",
       "    </tr>\n",
       "    <tr>\n",
       "      <th>...</th>\n",
       "      <td>...</td>\n",
       "      <td>...</td>\n",
       "      <td>...</td>\n",
       "      <td>...</td>\n",
       "      <td>...</td>\n",
       "    </tr>\n",
       "    <tr>\n",
       "      <th>347</th>\n",
       "      <td>347.0</td>\n",
       "      <td>2019</td>\n",
       "      <td>173000000</td>\n",
       "      <td>social_network</td>\n",
       "      <td>hacked</td>\n",
       "    </tr>\n",
       "    <tr>\n",
       "      <th>348</th>\n",
       "      <td>348.0</td>\n",
       "      <td>2020</td>\n",
       "      <td>200000000</td>\n",
       "      <td>financial</td>\n",
       "      <td>accidentally published</td>\n",
       "    </tr>\n",
       "    <tr>\n",
       "      <th>349</th>\n",
       "      <td>349.0</td>\n",
       "      <td>2020</td>\n",
       "      <td>391250</td>\n",
       "      <td>healthcare</td>\n",
       "      <td>poor security</td>\n",
       "    </tr>\n",
       "    <tr>\n",
       "      <th>350</th>\n",
       "      <td>350.0</td>\n",
       "      <td>2022</td>\n",
       "      <td>6400000</td>\n",
       "      <td>various</td>\n",
       "      <td>poor security</td>\n",
       "    </tr>\n",
       "    <tr>\n",
       "      <th>351</th>\n",
       "      <td>351.0</td>\n",
       "      <td>2022</td>\n",
       "      <td>95000</td>\n",
       "      <td>retail</td>\n",
       "      <td>accidentally published</td>\n",
       "    </tr>\n",
       "  </tbody>\n",
       "</table>\n",
       "<p>342 rows × 5 columns</p>\n",
       "</div>"
      ],
      "text/plain": [
       "     Index  Year    Records  Organization type                  Method\n",
       "0      0.0  2016    2200000         healthcare                  hacked\n",
       "1      1.0  2020   14870304  social_networking                  hacked\n",
       "2      2.0  2020     175350         healthcare           poor security\n",
       "3      3.0  2013  152000000               tech                  hacked\n",
       "4      4.0  2019    7500000               tech           poor security\n",
       "..     ...   ...        ...                ...                     ...\n",
       "347  347.0  2019  173000000     social_network                  hacked\n",
       "348  348.0  2020  200000000          financial  accidentally published\n",
       "349  349.0  2020     391250         healthcare           poor security\n",
       "350  350.0  2022    6400000            various           poor security\n",
       "351  351.0  2022      95000             retail  accidentally published\n",
       "\n",
       "[342 rows x 5 columns]"
      ]
     },
     "execution_count": 62,
     "metadata": {},
     "output_type": "execute_result"
    }
   ],
   "source": [
    "#Check if any value in the year column is null\n",
    "print(\"Null values: \", df_vis['Year'].isnull().values.any())  # there are no null values in the year column\n",
    "\n",
    "#Check if any value in the year column is not well formatted (i.e. not a number)\n",
    "print(\"Non numeric values: \", df_vis['Year'].str.isnumeric().values.any())  # there are values that are not numeric\n",
    "\n",
    "#print out all the values in the year column that are not numeric\n",
    "print(\"Non numeric values:\")\n",
    "#df_vis[~df_vis['Year'].str.isnumeric()]  # as we can see, the three columns that have non-numeric values are in index 94 96 and 144\n",
    "\n",
    "df_vis"
   ]
  },
  {
   "cell_type": "code",
   "execution_count": 63,
   "id": "40deac98",
   "metadata": {},
   "outputs": [
    {
     "data": {
      "text/html": [
       "<div>\n",
       "<style scoped>\n",
       "    .dataframe tbody tr th:only-of-type {\n",
       "        vertical-align: middle;\n",
       "    }\n",
       "\n",
       "    .dataframe tbody tr th {\n",
       "        vertical-align: top;\n",
       "    }\n",
       "\n",
       "    .dataframe thead th {\n",
       "        text-align: right;\n",
       "    }\n",
       "</style>\n",
       "<table border=\"1\" class=\"dataframe\">\n",
       "  <thead>\n",
       "    <tr style=\"text-align: right;\">\n",
       "      <th></th>\n",
       "      <th>Index</th>\n",
       "      <th>Year</th>\n",
       "      <th>Records</th>\n",
       "      <th>Organization type</th>\n",
       "      <th>Method</th>\n",
       "    </tr>\n",
       "  </thead>\n",
       "  <tbody>\n",
       "    <tr>\n",
       "      <th>0</th>\n",
       "      <td>0.0</td>\n",
       "      <td>2016</td>\n",
       "      <td>2200000</td>\n",
       "      <td>healthcare</td>\n",
       "      <td>hacked</td>\n",
       "    </tr>\n",
       "    <tr>\n",
       "      <th>1</th>\n",
       "      <td>1.0</td>\n",
       "      <td>2020</td>\n",
       "      <td>14870304</td>\n",
       "      <td>social_networking</td>\n",
       "      <td>hacked</td>\n",
       "    </tr>\n",
       "    <tr>\n",
       "      <th>2</th>\n",
       "      <td>2.0</td>\n",
       "      <td>2020</td>\n",
       "      <td>175350</td>\n",
       "      <td>healthcare</td>\n",
       "      <td>poor security</td>\n",
       "    </tr>\n",
       "    <tr>\n",
       "      <th>3</th>\n",
       "      <td>3.0</td>\n",
       "      <td>2013</td>\n",
       "      <td>152000000</td>\n",
       "      <td>tech</td>\n",
       "      <td>hacked</td>\n",
       "    </tr>\n",
       "    <tr>\n",
       "      <th>4</th>\n",
       "      <td>4.0</td>\n",
       "      <td>2019</td>\n",
       "      <td>7500000</td>\n",
       "      <td>tech</td>\n",
       "      <td>poor security</td>\n",
       "    </tr>\n",
       "    <tr>\n",
       "      <th>...</th>\n",
       "      <td>...</td>\n",
       "      <td>...</td>\n",
       "      <td>...</td>\n",
       "      <td>...</td>\n",
       "      <td>...</td>\n",
       "    </tr>\n",
       "    <tr>\n",
       "      <th>347</th>\n",
       "      <td>347.0</td>\n",
       "      <td>2019</td>\n",
       "      <td>173000000</td>\n",
       "      <td>social_network</td>\n",
       "      <td>hacked</td>\n",
       "    </tr>\n",
       "    <tr>\n",
       "      <th>348</th>\n",
       "      <td>348.0</td>\n",
       "      <td>2020</td>\n",
       "      <td>200000000</td>\n",
       "      <td>financial</td>\n",
       "      <td>accidentally published</td>\n",
       "    </tr>\n",
       "    <tr>\n",
       "      <th>349</th>\n",
       "      <td>349.0</td>\n",
       "      <td>2020</td>\n",
       "      <td>391250</td>\n",
       "      <td>healthcare</td>\n",
       "      <td>poor security</td>\n",
       "    </tr>\n",
       "    <tr>\n",
       "      <th>350</th>\n",
       "      <td>350.0</td>\n",
       "      <td>2022</td>\n",
       "      <td>6400000</td>\n",
       "      <td>various</td>\n",
       "      <td>poor security</td>\n",
       "    </tr>\n",
       "    <tr>\n",
       "      <th>351</th>\n",
       "      <td>351.0</td>\n",
       "      <td>2022</td>\n",
       "      <td>95000</td>\n",
       "      <td>retail</td>\n",
       "      <td>accidentally published</td>\n",
       "    </tr>\n",
       "  </tbody>\n",
       "</table>\n",
       "<p>342 rows × 5 columns</p>\n",
       "</div>"
      ],
      "text/plain": [
       "     Index  Year    Records  Organization type                  Method\n",
       "0      0.0  2016    2200000         healthcare                  hacked\n",
       "1      1.0  2020   14870304  social_networking                  hacked\n",
       "2      2.0  2020     175350         healthcare           poor security\n",
       "3      3.0  2013  152000000               tech                  hacked\n",
       "4      4.0  2019    7500000               tech           poor security\n",
       "..     ...   ...        ...                ...                     ...\n",
       "347  347.0  2019  173000000     social_network                  hacked\n",
       "348  348.0  2020  200000000          financial  accidentally published\n",
       "349  349.0  2020     391250         healthcare           poor security\n",
       "350  350.0  2022    6400000            various           poor security\n",
       "351  351.0  2022      95000             retail  accidentally published\n",
       "\n",
       "[342 rows x 5 columns]"
      ]
     },
     "execution_count": 63,
     "metadata": {},
     "output_type": "execute_result"
    }
   ],
   "source": [
    "#observe the dataset to see if the colum index has been successfully dropped\n",
    "df_vis  # as we can see, the column index has been successfully dropped"
   ]
  },
  {
   "cell_type": "markdown",
   "id": "9c521a8b",
   "metadata": {},
   "source": [
    "There are 3 values in the Year column that are not well formed – we also will need to fix the Records column for similar formatting issues."
   ]
  },
  {
   "cell_type": "code",
   "execution_count": 64,
   "id": "6a650533",
   "metadata": {},
   "outputs": [
    {
     "data": {
      "text/html": [
       "<div>\n",
       "<style scoped>\n",
       "    .dataframe tbody tr th:only-of-type {\n",
       "        vertical-align: middle;\n",
       "    }\n",
       "\n",
       "    .dataframe tbody tr th {\n",
       "        vertical-align: top;\n",
       "    }\n",
       "\n",
       "    .dataframe thead th {\n",
       "        text-align: right;\n",
       "    }\n",
       "</style>\n",
       "<table border=\"1\" class=\"dataframe\">\n",
       "  <thead>\n",
       "    <tr style=\"text-align: right;\">\n",
       "      <th></th>\n",
       "      <th>Index</th>\n",
       "      <th>Year</th>\n",
       "      <th>Records</th>\n",
       "      <th>Organization type</th>\n",
       "      <th>Method</th>\n",
       "    </tr>\n",
       "  </thead>\n",
       "  <tbody>\n",
       "    <tr>\n",
       "      <th>0</th>\n",
       "      <td>0.0</td>\n",
       "      <td>2016</td>\n",
       "      <td>2200000</td>\n",
       "      <td>healthcare</td>\n",
       "      <td>hacked</td>\n",
       "    </tr>\n",
       "    <tr>\n",
       "      <th>1</th>\n",
       "      <td>1.0</td>\n",
       "      <td>2020</td>\n",
       "      <td>14870304</td>\n",
       "      <td>social_networking</td>\n",
       "      <td>hacked</td>\n",
       "    </tr>\n",
       "    <tr>\n",
       "      <th>2</th>\n",
       "      <td>2.0</td>\n",
       "      <td>2020</td>\n",
       "      <td>175350</td>\n",
       "      <td>healthcare</td>\n",
       "      <td>poor security</td>\n",
       "    </tr>\n",
       "    <tr>\n",
       "      <th>3</th>\n",
       "      <td>3.0</td>\n",
       "      <td>2013</td>\n",
       "      <td>152000000</td>\n",
       "      <td>tech</td>\n",
       "      <td>hacked</td>\n",
       "    </tr>\n",
       "    <tr>\n",
       "      <th>4</th>\n",
       "      <td>4.0</td>\n",
       "      <td>2019</td>\n",
       "      <td>7500000</td>\n",
       "      <td>tech</td>\n",
       "      <td>poor security</td>\n",
       "    </tr>\n",
       "    <tr>\n",
       "      <th>...</th>\n",
       "      <td>...</td>\n",
       "      <td>...</td>\n",
       "      <td>...</td>\n",
       "      <td>...</td>\n",
       "      <td>...</td>\n",
       "    </tr>\n",
       "    <tr>\n",
       "      <th>340</th>\n",
       "      <td>350.0</td>\n",
       "      <td>2022</td>\n",
       "      <td>6400000</td>\n",
       "      <td>various</td>\n",
       "      <td>poor security</td>\n",
       "    </tr>\n",
       "    <tr>\n",
       "      <th>341</th>\n",
       "      <td>351.0</td>\n",
       "      <td>2022</td>\n",
       "      <td>95000</td>\n",
       "      <td>retail</td>\n",
       "      <td>accidentally published</td>\n",
       "    </tr>\n",
       "    <tr>\n",
       "      <th>342</th>\n",
       "      <td>352.0</td>\n",
       "      <td>2020</td>\n",
       "      <td>6697200</td>\n",
       "      <td>transport</td>\n",
       "      <td>hacked</td>\n",
       "    </tr>\n",
       "    <tr>\n",
       "      <th>343</th>\n",
       "      <td>353.0</td>\n",
       "      <td>2019</td>\n",
       "      <td>1000000</td>\n",
       "      <td>restaurant</td>\n",
       "      <td>hacked</td>\n",
       "    </tr>\n",
       "    <tr>\n",
       "      <th>344</th>\n",
       "      <td>354.0</td>\n",
       "      <td>2015</td>\n",
       "      <td>181500</td>\n",
       "      <td>hotel</td>\n",
       "      <td>hacked</td>\n",
       "    </tr>\n",
       "  </tbody>\n",
       "</table>\n",
       "<p>345 rows × 5 columns</p>\n",
       "</div>"
      ],
      "text/plain": [
       "     Index  Year    Records  Organization type                  Method\n",
       "0      0.0  2016    2200000         healthcare                  hacked\n",
       "1      1.0  2020   14870304  social_networking                  hacked\n",
       "2      2.0  2020     175350         healthcare           poor security\n",
       "3      3.0  2013  152000000               tech                  hacked\n",
       "4      4.0  2019    7500000               tech           poor security\n",
       "..     ...   ...        ...                ...                     ...\n",
       "340  350.0  2022    6400000            various           poor security\n",
       "341  351.0  2022      95000             retail  accidentally published\n",
       "342  352.0  2020    6697200          transport                  hacked\n",
       "343  353.0  2019    1000000         restaurant                  hacked\n",
       "344  354.0  2015     181500              hotel                  hacked\n",
       "\n",
       "[345 rows x 5 columns]"
      ]
     },
     "execution_count": 64,
     "metadata": {},
     "output_type": "execute_result"
    }
   ],
   "source": [
    "'''\n",
    "Modify df_vis:\n",
    "for each value in the year column that is not numeric:\n",
    "    record the last year listed in the year column (i.e. the last 4 characters)\n",
    "    record the first year listed in the year column (i.e. the first 4 characters)\n",
    "change the year column of this entry to the first 4 characters (the first year)\n",
    "for each year between the first year and the last year:\n",
    "    add a new entry to the dataframe with the same values as the entry that was changed, except for the year column, which will be the year in question\n",
    "'''\n",
    "last_row_index = df_vis.tail(1).index[0]\n",
    "# Create an empty list to store modified rows\n",
    "new_rows = []\n",
    "\n",
    "# Iterate through the DataFrame\n",
    "for index, row in df_vis.iterrows():\n",
    "    year_value = row['Year']\n",
    "    \n",
    "    # Check if the year is not numeric\n",
    "    if not year_value.isnumeric():\n",
    "        # Extract the first and last year\n",
    "        first_year = int(year_value[:4])\n",
    "        last_year = int(year_value[-4:])\n",
    "        \n",
    "        # Calculate the range of years and ensure it's at least 1\n",
    "        year_range = max(last_year - first_year, 0) + 1\n",
    "\n",
    "        # Change the year column to the first year\n",
    "        df_vis.loc[index, 'Year'] = str(first_year)\n",
    "        \n",
    "        # Calculate the records divided by the number of years in the range\n",
    "        records_divided = row['Records'] / year_range\n",
    "        \n",
    "        # Update the records column with the new value\n",
    "        df_vis.loc[index, 'Records'] = records_divided\n",
    "        \n",
    "        #Create new rows for each year between the first and last year\n",
    "        for year in range(first_year + 1, last_year + 1):\n",
    "            last_row_index+=1 # Increment the index of the last row\n",
    "            new_row = row.copy()  # Create a copy of the current row\n",
    "            new_row['Year'] = str(year)\n",
    "            new_row['Index'] = last_row_index\n",
    "            new_row['Records'] = records_divided\n",
    "            new_rows.append(new_row) # Append the new row to the list\n",
    "\n",
    "# Concatenate the new rows with the original DataFrame\n",
    "new_rows_df = pd.DataFrame(new_rows)\n",
    "\n",
    "df_vis = pd.concat([df_vis, new_rows_df], ignore_index=True)\n",
    "\n",
    "# Convert Records to int\n",
    "df_vis['Records'] = df_vis['Records'].astype(int)\n",
    "\n",
    "#essentially, rather than having multiple year, it was replaced by the first year that pops up.\n",
    "df_vis"
   ]
  },
  {
   "cell_type": "code",
   "execution_count": 65,
   "id": "aa512522e893902e",
   "metadata": {
    "ExecuteTime": {
     "end_time": "2023-09-09T19:20:03.417380100Z",
     "start_time": "2023-09-09T19:20:02.878799600Z"
    },
    "collapsed": false
   },
   "outputs": [
    {
     "data": {
      "text/html": [
       "<div>\n",
       "<style scoped>\n",
       "    .dataframe tbody tr th:only-of-type {\n",
       "        vertical-align: middle;\n",
       "    }\n",
       "\n",
       "    .dataframe tbody tr th {\n",
       "        vertical-align: top;\n",
       "    }\n",
       "\n",
       "    .dataframe thead th {\n",
       "        text-align: right;\n",
       "    }\n",
       "</style>\n",
       "<table border=\"1\" class=\"dataframe\">\n",
       "  <thead>\n",
       "    <tr style=\"text-align: right;\">\n",
       "      <th></th>\n",
       "      <th>Index</th>\n",
       "      <th>Year</th>\n",
       "      <th>Records</th>\n",
       "      <th>Organization type</th>\n",
       "      <th>Method</th>\n",
       "    </tr>\n",
       "  </thead>\n",
       "  <tbody>\n",
       "    <tr>\n",
       "      <th>0</th>\n",
       "      <td>0.0</td>\n",
       "      <td>2016</td>\n",
       "      <td>2200000</td>\n",
       "      <td>healthcare</td>\n",
       "      <td>hacked</td>\n",
       "    </tr>\n",
       "    <tr>\n",
       "      <th>1</th>\n",
       "      <td>1.0</td>\n",
       "      <td>2020</td>\n",
       "      <td>14870304</td>\n",
       "      <td>social_networking</td>\n",
       "      <td>hacked</td>\n",
       "    </tr>\n",
       "    <tr>\n",
       "      <th>2</th>\n",
       "      <td>2.0</td>\n",
       "      <td>2020</td>\n",
       "      <td>175350</td>\n",
       "      <td>healthcare</td>\n",
       "      <td>poor security</td>\n",
       "    </tr>\n",
       "    <tr>\n",
       "      <th>3</th>\n",
       "      <td>3.0</td>\n",
       "      <td>2013</td>\n",
       "      <td>152000000</td>\n",
       "      <td>tech</td>\n",
       "      <td>hacked</td>\n",
       "    </tr>\n",
       "    <tr>\n",
       "      <th>4</th>\n",
       "      <td>4.0</td>\n",
       "      <td>2019</td>\n",
       "      <td>7500000</td>\n",
       "      <td>tech</td>\n",
       "      <td>poor security</td>\n",
       "    </tr>\n",
       "    <tr>\n",
       "      <th>...</th>\n",
       "      <td>...</td>\n",
       "      <td>...</td>\n",
       "      <td>...</td>\n",
       "      <td>...</td>\n",
       "      <td>...</td>\n",
       "    </tr>\n",
       "    <tr>\n",
       "      <th>340</th>\n",
       "      <td>350.0</td>\n",
       "      <td>2022</td>\n",
       "      <td>6400000</td>\n",
       "      <td>various</td>\n",
       "      <td>poor security</td>\n",
       "    </tr>\n",
       "    <tr>\n",
       "      <th>341</th>\n",
       "      <td>351.0</td>\n",
       "      <td>2022</td>\n",
       "      <td>95000</td>\n",
       "      <td>retail</td>\n",
       "      <td>accidentally published</td>\n",
       "    </tr>\n",
       "    <tr>\n",
       "      <th>342</th>\n",
       "      <td>352.0</td>\n",
       "      <td>2020</td>\n",
       "      <td>6697200</td>\n",
       "      <td>transport</td>\n",
       "      <td>hacked</td>\n",
       "    </tr>\n",
       "    <tr>\n",
       "      <th>343</th>\n",
       "      <td>353.0</td>\n",
       "      <td>2019</td>\n",
       "      <td>1000000</td>\n",
       "      <td>restaurant</td>\n",
       "      <td>hacked</td>\n",
       "    </tr>\n",
       "    <tr>\n",
       "      <th>344</th>\n",
       "      <td>354.0</td>\n",
       "      <td>2015</td>\n",
       "      <td>181500</td>\n",
       "      <td>hotel</td>\n",
       "      <td>hacked</td>\n",
       "    </tr>\n",
       "  </tbody>\n",
       "</table>\n",
       "<p>345 rows × 5 columns</p>\n",
       "</div>"
      ],
      "text/plain": [
       "     Index  Year    Records  Organization type                  Method\n",
       "0      0.0  2016    2200000         healthcare                  hacked\n",
       "1      1.0  2020   14870304  social_networking                  hacked\n",
       "2      2.0  2020     175350         healthcare           poor security\n",
       "3      3.0  2013  152000000               tech                  hacked\n",
       "4      4.0  2019    7500000               tech           poor security\n",
       "..     ...   ...        ...                ...                     ...\n",
       "340  350.0  2022    6400000            various           poor security\n",
       "341  351.0  2022      95000             retail  accidentally published\n",
       "342  352.0  2020    6697200          transport                  hacked\n",
       "343  353.0  2019    1000000         restaurant                  hacked\n",
       "344  354.0  2015     181500              hotel                  hacked\n",
       "\n",
       "[345 rows x 5 columns]"
      ]
     },
     "execution_count": 65,
     "metadata": {},
     "output_type": "execute_result"
    }
   ],
   "source": [
    "#having index and the dataframe indexing is redundant\n",
    "#df_vis.drop('Index', inplace=True, axis=1)\n",
    "df_vis['Organization type'].unique()   \n",
    "df_vis "
   ]
  },
  {
   "cell_type": "markdown",
   "metadata": {},
   "source": [
    "Data Visualization"
   ]
  },
  {
   "cell_type": "code",
   "execution_count": 66,
   "metadata": {},
   "outputs": [
    {
     "data": {
      "image/png": "[encoded data removed]",
      "text/plain": [
       "<Figure size 2500x1200 with 1 Axes>"
      ]
     },
     "metadata": {},
     "output_type": "display_data"
    }
   ],
   "source": [
    "# Group the data by year and sum the records for each year\n",
    "data_lost_over_time = df_vis.groupby('Year')['Records'].sum()\n",
    "\n",
    "# Create a line plot for data lost over time\n",
    "data_lost_over_time.plot(kind='line', figsize=(25, 12))\n",
    "plt.title(\"Data Lost Over Time\")\n",
    "plt.xlabel(\"Year\")\n",
    "plt.ylabel(\"Total Data Lost\")\n",
    "plt.show()"
   ]
  },
  {
   "cell_type": "code",
   "execution_count": 67,
   "metadata": {},
   "outputs": [
    {
     "data": {
      "image/png": "[encoded data removed]",
      "text/plain": [
       "<Figure size 2500x1200 with 1 Axes>"
      ]
     },
     "metadata": {},
     "output_type": "display_data"
    }
   ],
   "source": [
    "# Group the data by industry and sum the records for each industry, then select the top 20 industries\n",
    "top_20_industries = df_vis.groupby('Organization type')['Records'].sum().nlargest(20)\n",
    "\n",
    "# Create a bar plot for the top 10 industries with the highest data loss\n",
    "top_20_industries.plot(kind='bar', figsize=(25, 12))\n",
    "plt.title(\"Top 20 Industries with Highest Data Loss\")\n",
    "plt.xlabel(\"Industry\")\n",
    "plt.ylabel(\"Total Data Lost\")\n",
    "plt.xticks(rotation=90)\n",
    "plt.show()"
   ]
  },
  {
   "cell_type": "code",
   "execution_count": 68,
   "metadata": {},
   "outputs": [
    {
     "data": {
      "image/png": "[encoded data removed]",
      "text/plain": [
       "<Figure size 2500x1200 with 1 Axes>"
      ]
     },
     "metadata": {},
     "output_type": "display_data"
    }
   ],
   "source": [
    "# Group the data by the method and count the occurrences, then select the top 10 causes\n",
    "top_10_causes = df_vis['Method'].value_counts().nlargest(10)\n",
    "\n",
    "# Create a bar plot for the top 10 causes of data breaches\n",
    "top_10_causes.plot(kind='bar', figsize=(25, 12))\n",
    "plt.title(\"Top 10 Causes of Data Breaches\")\n",
    "plt.xlabel(\"Cause\")\n",
    "plt.ylabel(\"Count\")\n",
    "plt.xticks(rotation=90)\n",
    "plt.show()\n"
   ]
  },
  {
   "cell_type": "code",
   "execution_count": 69,
   "metadata": {},
   "outputs": [
    {
     "data": {
      "image/png": "[encoded data removed]",
      "text/plain": [
       "<Figure size 2500x1200 with 1 Axes>"
      ]
     },
     "metadata": {},
     "output_type": "display_data"
    }
   ],
   "source": [
    "# Create a stacked bar plot of records by year and industry\n",
    "records_by_year_and_industry = df_vis.pivot_table(index='Year', columns='Organization type', values='Records', aggfunc='sum')\n",
    "records_by_year_and_industry.plot(kind='bar', stacked=True, figsize=(25, 12))\n",
    "plt.title(\"Stacked Bar Plot of Records by Year and Industry\")\n",
    "plt.xlabel(\"Year\")\n",
    "plt.ylabel(\"Total Records\")\n",
    "plt.xticks(rotation=90)\n",
    "plt.show()"
   ]
  },
  {
   "cell_type": "code",
   "execution_count": 71,
   "id": "d8136bba27fff91b",
   "metadata": {
    "ExecuteTime": {
     "end_time": "2023-09-09T19:20:03.425964400Z",
     "start_time": "2023-09-09T19:20:02.896640200Z"
    },
    "collapsed": false
   },
   "outputs": [
    {
     "data": {
      "text/html": [
       "<div>\n",
       "<style scoped>\n",
       "    .dataframe tbody tr th:only-of-type {\n",
       "        vertical-align: middle;\n",
       "    }\n",
       "\n",
       "    .dataframe tbody tr th {\n",
       "        vertical-align: top;\n",
       "    }\n",
       "\n",
       "    .dataframe thead th {\n",
       "        text-align: right;\n",
       "    }\n",
       "</style>\n",
       "<table border=\"1\" class=\"dataframe\">\n",
       "  <thead>\n",
       "    <tr style=\"text-align: right;\">\n",
       "      <th></th>\n",
       "      <th>Index</th>\n",
       "      <th>Year</th>\n",
       "      <th>Records</th>\n",
       "      <th>Organization type</th>\n",
       "      <th>Method</th>\n",
       "    </tr>\n",
       "  </thead>\n",
       "  <tbody>\n",
       "    <tr>\n",
       "      <th>0</th>\n",
       "      <td>0.0</td>\n",
       "      <td>2016</td>\n",
       "      <td>2200000</td>\n",
       "      <td>24</td>\n",
       "      <td>hacked</td>\n",
       "    </tr>\n",
       "    <tr>\n",
       "      <th>1</th>\n",
       "      <td>1.0</td>\n",
       "      <td>2020</td>\n",
       "      <td>14870304</td>\n",
       "      <td>45</td>\n",
       "      <td>hacked</td>\n",
       "    </tr>\n",
       "    <tr>\n",
       "      <th>2</th>\n",
       "      <td>2.0</td>\n",
       "      <td>2020</td>\n",
       "      <td>175350</td>\n",
       "      <td>24</td>\n",
       "      <td>poor security</td>\n",
       "    </tr>\n",
       "    <tr>\n",
       "      <th>3</th>\n",
       "      <td>3.0</td>\n",
       "      <td>2013</td>\n",
       "      <td>152000000</td>\n",
       "      <td>47</td>\n",
       "      <td>hacked</td>\n",
       "    </tr>\n",
       "    <tr>\n",
       "      <th>4</th>\n",
       "      <td>4.0</td>\n",
       "      <td>2019</td>\n",
       "      <td>7500000</td>\n",
       "      <td>47</td>\n",
       "      <td>poor security</td>\n",
       "    </tr>\n",
       "  </tbody>\n",
       "</table>\n",
       "</div>"
      ],
      "text/plain": [
       "   Index  Year    Records  Organization type         Method\n",
       "0    0.0  2016    2200000                 24         hacked\n",
       "1    1.0  2020   14870304                 45         hacked\n",
       "2    2.0  2020     175350                 24  poor security\n",
       "3    3.0  2013  152000000                 47         hacked\n",
       "4    4.0  2019    7500000                 47  poor security"
      ]
     },
     "execution_count": 71,
     "metadata": {},
     "output_type": "execute_result"
    }
   ],
   "source": [
    "le = LabelEncoder()  #perform label encoding on the organization_type, the copy of df_vis\n",
    "\n",
    "# implement label encoding on the Organization type column\n",
    "le.fit(df_vis['Organization type'])   # fit the data we want to train the encoder on\n",
    "df_vis['Organization type'] = le.transform(df_vis['Organization type'])\n",
    "# observe how the column 'Organization Type' has changed\n",
    "df_vis.head()"
   ]
  },
  {
   "cell_type": "code",
   "execution_count": 72,
   "id": "beeae597c9415ca",
   "metadata": {
    "ExecuteTime": {
     "end_time": "2023-09-09T19:20:03.427983800Z",
     "start_time": "2023-09-09T19:20:02.925385200Z"
    },
    "collapsed": false
   },
   "outputs": [
    {
     "data": {
      "text/plain": [
       "Index                float64\n",
       "Year                  object\n",
       "Records                int64\n",
       "Organization type      int64\n",
       "Method                object\n",
       "dtype: object"
      ]
     },
     "execution_count": 72,
     "metadata": {},
     "output_type": "execute_result"
    }
   ],
   "source": [
    "df_vis.dtypes   # as we can see, the Organization type changed from Object --> integer datatype"
   ]
  },
  {
   "cell_type": "code",
   "execution_count": 73,
   "id": "bf9bc04877c52067",
   "metadata": {
    "ExecuteTime": {
     "end_time": "2023-09-09T19:20:03.427983800Z",
     "start_time": "2023-09-09T19:20:02.940609300Z"
    },
    "collapsed": false
   },
   "outputs": [
    {
     "data": {
      "text/plain": [
       "Organization type\n",
       "56    53\n",
       "24    47\n",
       "13    38\n",
       "19    30\n",
       "41    27\n",
       "47    19\n",
       "5     13\n",
       "17    12\n",
       "52    12\n",
       "26     9\n",
       "44     8\n",
       "54     8\n",
       "32     7\n",
       "11     4\n",
       "40     4\n",
       "30     3\n",
       "50     2\n",
       "21     2\n",
       "43     2\n",
       "34     2\n",
       "48     2\n",
       "51     2\n",
       "22     2\n",
       "1      1\n",
       "57     1\n",
       "2      1\n",
       "12     1\n",
       "0      1\n",
       "3      1\n",
       "38     1\n",
       "49     1\n",
       "20     1\n",
       "59     1\n",
       "29     1\n",
       "53     1\n",
       "35     1\n",
       "18     1\n",
       "4      1\n",
       "33     1\n",
       "27     1\n",
       "36     1\n",
       "58     1\n",
       "6      1\n",
       "10     1\n",
       "8      1\n",
       "16     1\n",
       "7      1\n",
       "25     1\n",
       "23     1\n",
       "31     1\n",
       "14     1\n",
       "9      1\n",
       "15     1\n",
       "37     1\n",
       "45     1\n",
       "46     1\n",
       "42     1\n",
       "28     1\n",
       "39     1\n",
       "55     1\n",
       "Name: count, dtype: int64"
      ]
     },
     "execution_count": 73,
     "metadata": {},
     "output_type": "execute_result"
    }
   ],
   "source": [
    "# observe the label frequency, to gain an understanding of outliers and inlier values\n",
    "df_vis['Organization type'].value_counts()    # some values to note: 7 repeats 13 times, 18 repeats 38  times, 23 repeats 12 times, 25 repeats 30 times, 30 repeats 47 times, 49 repeats 27 times."
   ]
  },
  {
   "cell_type": "code",
   "execution_count": 74,
   "id": "6c2f14c41cfaefbd",
   "metadata": {
    "ExecuteTime": {
     "end_time": "2023-09-09T19:20:03.427983800Z",
     "start_time": "2023-09-09T19:20:02.955234800Z"
    },
    "collapsed": false
   },
   "outputs": [
    {
     "data": {
      "text/plain": [
       "0                      hacked\n",
       "1                      hacked\n",
       "2               poor security\n",
       "3                      hacked\n",
       "4               poor security\n",
       "                ...          \n",
       "340             poor security\n",
       "341    accidentally published\n",
       "342                    hacked\n",
       "343                    hacked\n",
       "344                    hacked\n",
       "Name: Method, Length: 345, dtype: object"
      ]
     },
     "execution_count": 74,
     "metadata": {},
     "output_type": "execute_result"
    }
   ],
   "source": [
    "df_vis['Method']  # we will also need to perform label encoding on the method section"
   ]
  },
  {
   "cell_type": "code",
   "execution_count": 75,
   "id": "92d34f54c0a578de",
   "metadata": {
    "ExecuteTime": {
     "end_time": "2023-09-09T19:20:03.427983800Z",
     "start_time": "2023-09-09T19:20:02.974881300Z"
    },
    "collapsed": false
   },
   "outputs": [
    {
     "data": {
      "text/plain": [
       "array(['hacked', 'poor security', 'lost / stolen media',\n",
       "       'accidentally published', 'inside job, hacked',\n",
       "       'lost / stolen computer', 'unsecured S3 bucket', 'unknown',\n",
       "       'inside job', 'accidentally uploaded', 'poor security / hacked',\n",
       "       'Poor security', 'unprotected api', 'poor security/inside job',\n",
       "       'data exposed by misconfiguration', 'intentionally lost',\n",
       "       'misconfiguration/poor security', 'ransomware hacked',\n",
       "       'rogue contractor', 'improper setting, hacked',\n",
       "       'hacked/misconfiguration',\n",
       "       'publicly accessible Amazon Web Services (AWS) server',\n",
       "       'accidentally exposed', 'social engineering'], dtype=object)"
      ]
     },
     "execution_count": 75,
     "metadata": {},
     "output_type": "execute_result"
    }
   ],
   "source": [
    "df_vis['Method'].unique()"
   ]
  },
  {
   "cell_type": "code",
   "execution_count": 76,
   "id": "a8c301eddc412f9b",
   "metadata": {
    "ExecuteTime": {
     "end_time": "2023-09-09T19:20:03.432040600Z",
     "start_time": "2023-09-09T19:20:02.991663500Z"
    },
    "collapsed": false
   },
   "outputs": [
    {
     "data": {
      "text/plain": [
       "Method\n",
       "hacked                                                  190\n",
       "poor security                                            41\n",
       "lost / stolen media                                      33\n",
       "accidentally published                                   21\n",
       "inside job                                               19\n",
       "lost / stolen computer                                   16\n",
       "unknown                                                   6\n",
       "improper setting, hacked                                  2\n",
       "poor security/inside job                                  2\n",
       "misconfiguration/poor security                            1\n",
       "accidentally exposed                                      1\n",
       "publicly accessible Amazon Web Services (AWS) server      1\n",
       "hacked/misconfiguration                                   1\n",
       "rogue contractor                                          1\n",
       "ransomware hacked                                         1\n",
       "unprotected api                                           1\n",
       "intentionally lost                                        1\n",
       "data exposed by misconfiguration                          1\n",
       "Poor security                                             1\n",
       "poor security / hacked                                    1\n",
       "accidentally uploaded                                     1\n",
       "unsecured S3 bucket                                       1\n",
       "inside job, hacked                                        1\n",
       "social engineering                                        1\n",
       "Name: count, dtype: int64"
      ]
     },
     "execution_count": 76,
     "metadata": {},
     "output_type": "execute_result"
    }
   ],
   "source": [
    "\"\"# seems like the method column contains certain NaN values and certain Unknown values, we will need to determine whether we replace such values or drop them in its entirety\n",
    "df_vis['Method'].value_counts()     "
   ]
  },
  {
   "cell_type": "code",
   "execution_count": 77,
   "id": "fe34e170",
   "metadata": {},
   "outputs": [
    {
     "name": "stdout",
     "output_type": "stream",
     "text": [
      "     Index                               Entity  Year    Records  \\\n",
      "40      40                Bethesda Game Studios  2018        NaN   \n",
      "69      69  Philippines Commission on Elections  2016   55000000   \n",
      "83      83        Democratic National Committee  2016      19252   \n",
      "192    192             Mobile TeleSystems (MTS)  2019  100000000   \n",
      "337    337                            WordPress  2018        NaN   \n",
      "\n",
      "      Organization type                          Method Sources  \\\n",
      "40               gaming          accidentally published    [53]   \n",
      "69           government                          hacked     NaN   \n",
      "83            political                             NaN   [106]   \n",
      "192  telecommunications  misconfiguration/poor security     NaN   \n",
      "337         web service                          hacked   [392]   \n",
      "\n",
      "                                         hashed_Entity  \n",
      "40   8506a2a312971641f5628bc44178b2c41e564141d10d4e...  \n",
      "69   f7ddf80072a8eecdad46535cd4e2d9303e0bd21d124193...  \n",
      "83   d3e8e2cd093cfaf6a5acf71ecd132db8f32a8de0a2ffc2...  \n",
      "192  8307ff685f205d40c441bcafcfe8e829a544c8b13d377c...  \n",
      "337  712297890c221ff0492423f14d5df9faf5f9171813c324...  \n"
     ]
    }
   ],
   "source": [
    "#check which columns have null/unknoown values\n",
    "null_mask = df.isnull().any(axis=1)\n",
    "null_rows=df[null_mask]\n",
    "\n",
    "print(null_rows)"
   ]
  },
  {
   "cell_type": "code",
   "execution_count": 78,
   "id": "696b076f",
   "metadata": {},
   "outputs": [
    {
     "data": {
      "text/html": [
       "<div>\n",
       "<style scoped>\n",
       "    .dataframe tbody tr th:only-of-type {\n",
       "        vertical-align: middle;\n",
       "    }\n",
       "\n",
       "    .dataframe tbody tr th {\n",
       "        vertical-align: top;\n",
       "    }\n",
       "\n",
       "    .dataframe thead th {\n",
       "        text-align: right;\n",
       "    }\n",
       "</style>\n",
       "<table border=\"1\" class=\"dataframe\">\n",
       "  <thead>\n",
       "    <tr style=\"text-align: right;\">\n",
       "      <th></th>\n",
       "      <th>Index</th>\n",
       "      <th>Year</th>\n",
       "      <th>Records</th>\n",
       "      <th>Organization type</th>\n",
       "      <th>Method</th>\n",
       "    </tr>\n",
       "  </thead>\n",
       "  <tbody>\n",
       "    <tr>\n",
       "      <th>0</th>\n",
       "      <td>0.0</td>\n",
       "      <td>2016</td>\n",
       "      <td>2200000</td>\n",
       "      <td>24</td>\n",
       "      <td>hacked</td>\n",
       "    </tr>\n",
       "    <tr>\n",
       "      <th>1</th>\n",
       "      <td>1.0</td>\n",
       "      <td>2020</td>\n",
       "      <td>14870304</td>\n",
       "      <td>45</td>\n",
       "      <td>hacked</td>\n",
       "    </tr>\n",
       "    <tr>\n",
       "      <th>2</th>\n",
       "      <td>2.0</td>\n",
       "      <td>2020</td>\n",
       "      <td>175350</td>\n",
       "      <td>24</td>\n",
       "      <td>poor security</td>\n",
       "    </tr>\n",
       "    <tr>\n",
       "      <th>3</th>\n",
       "      <td>3.0</td>\n",
       "      <td>2013</td>\n",
       "      <td>152000000</td>\n",
       "      <td>47</td>\n",
       "      <td>hacked</td>\n",
       "    </tr>\n",
       "    <tr>\n",
       "      <th>4</th>\n",
       "      <td>4.0</td>\n",
       "      <td>2019</td>\n",
       "      <td>7500000</td>\n",
       "      <td>47</td>\n",
       "      <td>poor security</td>\n",
       "    </tr>\n",
       "    <tr>\n",
       "      <th>...</th>\n",
       "      <td>...</td>\n",
       "      <td>...</td>\n",
       "      <td>...</td>\n",
       "      <td>...</td>\n",
       "      <td>...</td>\n",
       "    </tr>\n",
       "    <tr>\n",
       "      <th>340</th>\n",
       "      <td>350.0</td>\n",
       "      <td>2022</td>\n",
       "      <td>6400000</td>\n",
       "      <td>55</td>\n",
       "      <td>poor security</td>\n",
       "    </tr>\n",
       "    <tr>\n",
       "      <th>341</th>\n",
       "      <td>351.0</td>\n",
       "      <td>2022</td>\n",
       "      <td>95000</td>\n",
       "      <td>41</td>\n",
       "      <td>accidentally published</td>\n",
       "    </tr>\n",
       "    <tr>\n",
       "      <th>342</th>\n",
       "      <td>352.0</td>\n",
       "      <td>2020</td>\n",
       "      <td>6697200</td>\n",
       "      <td>54</td>\n",
       "      <td>hacked</td>\n",
       "    </tr>\n",
       "    <tr>\n",
       "      <th>343</th>\n",
       "      <td>353.0</td>\n",
       "      <td>2019</td>\n",
       "      <td>1000000</td>\n",
       "      <td>40</td>\n",
       "      <td>hacked</td>\n",
       "    </tr>\n",
       "    <tr>\n",
       "      <th>344</th>\n",
       "      <td>354.0</td>\n",
       "      <td>2015</td>\n",
       "      <td>181500</td>\n",
       "      <td>26</td>\n",
       "      <td>hacked</td>\n",
       "    </tr>\n",
       "  </tbody>\n",
       "</table>\n",
       "<p>345 rows × 5 columns</p>\n",
       "</div>"
      ],
      "text/plain": [
       "     Index  Year    Records  Organization type                  Method\n",
       "0      0.0  2016    2200000                 24                  hacked\n",
       "1      1.0  2020   14870304                 45                  hacked\n",
       "2      2.0  2020     175350                 24           poor security\n",
       "3      3.0  2013  152000000                 47                  hacked\n",
       "4      4.0  2019    7500000                 47           poor security\n",
       "..     ...   ...        ...                ...                     ...\n",
       "340  350.0  2022    6400000                 55           poor security\n",
       "341  351.0  2022      95000                 41  accidentally published\n",
       "342  352.0  2020    6697200                 54                  hacked\n",
       "343  353.0  2019    1000000                 40                  hacked\n",
       "344  354.0  2015     181500                 26                  hacked\n",
       "\n",
       "[345 rows x 5 columns]"
      ]
     },
     "execution_count": 78,
     "metadata": {},
     "output_type": "execute_result"
    }
   ],
   "source": [
    "#drop sources and index\n",
    "#df_vis.drop(columns=['Index', 'Sources'], axis=1, inplace=True)\n",
    "df_vis"
   ]
  },
  {
   "cell_type": "code",
   "execution_count": 79,
   "id": "b2bd475012cbaf9a",
   "metadata": {
    "ExecuteTime": {
     "end_time": "2023-09-09T19:20:03.432040600Z",
     "start_time": "2023-09-09T19:20:03.002592600Z"
    },
    "collapsed": false
   },
   "outputs": [
    {
     "data": {
      "text/html": [
       "<div>\n",
       "<style scoped>\n",
       "    .dataframe tbody tr th:only-of-type {\n",
       "        vertical-align: middle;\n",
       "    }\n",
       "\n",
       "    .dataframe tbody tr th {\n",
       "        vertical-align: top;\n",
       "    }\n",
       "\n",
       "    .dataframe thead th {\n",
       "        text-align: right;\n",
       "    }\n",
       "</style>\n",
       "<table border=\"1\" class=\"dataframe\">\n",
       "  <thead>\n",
       "    <tr style=\"text-align: right;\">\n",
       "      <th></th>\n",
       "      <th>Index</th>\n",
       "      <th>Year</th>\n",
       "      <th>Records</th>\n",
       "      <th>Organization type</th>\n",
       "      <th>Method</th>\n",
       "    </tr>\n",
       "  </thead>\n",
       "  <tbody>\n",
       "    <tr>\n",
       "      <th>0</th>\n",
       "      <td>0.0</td>\n",
       "      <td>2016</td>\n",
       "      <td>2200000</td>\n",
       "      <td>24</td>\n",
       "      <td>hacked</td>\n",
       "    </tr>\n",
       "    <tr>\n",
       "      <th>1</th>\n",
       "      <td>1.0</td>\n",
       "      <td>2020</td>\n",
       "      <td>14870304</td>\n",
       "      <td>45</td>\n",
       "      <td>hacked</td>\n",
       "    </tr>\n",
       "    <tr>\n",
       "      <th>2</th>\n",
       "      <td>2.0</td>\n",
       "      <td>2020</td>\n",
       "      <td>175350</td>\n",
       "      <td>24</td>\n",
       "      <td>poor security</td>\n",
       "    </tr>\n",
       "    <tr>\n",
       "      <th>3</th>\n",
       "      <td>3.0</td>\n",
       "      <td>2013</td>\n",
       "      <td>152000000</td>\n",
       "      <td>47</td>\n",
       "      <td>hacked</td>\n",
       "    </tr>\n",
       "    <tr>\n",
       "      <th>4</th>\n",
       "      <td>4.0</td>\n",
       "      <td>2019</td>\n",
       "      <td>7500000</td>\n",
       "      <td>47</td>\n",
       "      <td>poor security</td>\n",
       "    </tr>\n",
       "    <tr>\n",
       "      <th>...</th>\n",
       "      <td>...</td>\n",
       "      <td>...</td>\n",
       "      <td>...</td>\n",
       "      <td>...</td>\n",
       "      <td>...</td>\n",
       "    </tr>\n",
       "    <tr>\n",
       "      <th>340</th>\n",
       "      <td>350.0</td>\n",
       "      <td>2022</td>\n",
       "      <td>6400000</td>\n",
       "      <td>55</td>\n",
       "      <td>poor security</td>\n",
       "    </tr>\n",
       "    <tr>\n",
       "      <th>341</th>\n",
       "      <td>351.0</td>\n",
       "      <td>2022</td>\n",
       "      <td>95000</td>\n",
       "      <td>41</td>\n",
       "      <td>accidentally published</td>\n",
       "    </tr>\n",
       "    <tr>\n",
       "      <th>342</th>\n",
       "      <td>352.0</td>\n",
       "      <td>2020</td>\n",
       "      <td>6697200</td>\n",
       "      <td>54</td>\n",
       "      <td>hacked</td>\n",
       "    </tr>\n",
       "    <tr>\n",
       "      <th>343</th>\n",
       "      <td>353.0</td>\n",
       "      <td>2019</td>\n",
       "      <td>1000000</td>\n",
       "      <td>40</td>\n",
       "      <td>hacked</td>\n",
       "    </tr>\n",
       "    <tr>\n",
       "      <th>344</th>\n",
       "      <td>354.0</td>\n",
       "      <td>2015</td>\n",
       "      <td>181500</td>\n",
       "      <td>26</td>\n",
       "      <td>hacked</td>\n",
       "    </tr>\n",
       "  </tbody>\n",
       "</table>\n",
       "<p>345 rows × 5 columns</p>\n",
       "</div>"
      ],
      "text/plain": [
       "     Index  Year    Records  Organization type                  Method\n",
       "0      0.0  2016    2200000                 24                  hacked\n",
       "1      1.0  2020   14870304                 45                  hacked\n",
       "2      2.0  2020     175350                 24           poor security\n",
       "3      3.0  2013  152000000                 47                  hacked\n",
       "4      4.0  2019    7500000                 47           poor security\n",
       "..     ...   ...        ...                ...                     ...\n",
       "340  350.0  2022    6400000                 55           poor security\n",
       "341  351.0  2022      95000                 41  accidentally published\n",
       "342  352.0  2020    6697200                 54                  hacked\n",
       "343  353.0  2019    1000000                 40                  hacked\n",
       "344  354.0  2015     181500                 26                  hacked\n",
       "\n",
       "[345 rows x 5 columns]"
      ]
     },
     "execution_count": 79,
     "metadata": {},
     "output_type": "execute_result"
    }
   ],
   "source": [
    "\"\"\"Two changes needs to be made regarding the method column\n",
    "    1. Replace the \"Unknown\" value with the most frequently repeated word\n",
    "    2. Drop any NaN values if it exists\n",
    "\"\"\"\n",
    "most_frequent_word = df_vis['Method'].value_counts().index[0]\n",
    "#replace all occurences of \"Unknown\" with \"Hacked\"\n",
    "df_vis['Method'].replace('unknown', most_frequent_word, inplace=True)\n",
    "# drop any NaN values\n",
    "df_vis.dropna(inplace=True)\n",
    "# Print the dataframe\n",
    "df_vis"
   ]
  },
  {
   "cell_type": "code",
   "execution_count": 80,
   "id": "637d2b426b89eef3",
   "metadata": {
    "ExecuteTime": {
     "end_time": "2023-09-09T19:20:03.432040600Z",
     "start_time": "2023-09-09T19:20:03.034179100Z"
    },
    "collapsed": false
   },
   "outputs": [
    {
     "data": {
      "text/plain": [
       "Index                False\n",
       "Year                 False\n",
       "Records              False\n",
       "Organization type    False\n",
       "Method               False\n",
       "dtype: bool"
      ]
     },
     "execution_count": 80,
     "metadata": {},
     "output_type": "execute_result"
    }
   ],
   "source": [
    "# let's verify if the method column contains any nan/null values\n",
    "df_vis.isnull().all()   # seems that none of the values here contain any more null values, as we can see none of the datatype has any null values now"
   ]
  },
  {
   "cell_type": "code",
   "execution_count": 81,
   "id": "6ec8a20de5f47bd4",
   "metadata": {
    "ExecuteTime": {
     "end_time": "2023-09-09T19:20:03.438779200Z",
     "start_time": "2023-09-09T19:20:03.049184600Z"
    },
    "collapsed": false
   },
   "outputs": [
    {
     "name": "stdout",
     "output_type": "stream",
     "text": [
      "['hacked', 'poor security', 'lost / stolen media', 'accidentally published', 'inside job, hacked', 'lost / stolen computer', 'unsecured S3 bucket', 'inside job', 'accidentally uploaded', 'poor security / hacked', 'Poor security', 'unprotected api', 'poor security/inside job', 'data exposed by misconfiguration', 'intentionally lost', 'misconfiguration/poor security', 'ransomware hacked', 'rogue contractor', 'improper setting, hacked', 'hacked/misconfiguration', 'publicly accessible Amazon Web Services (AWS) server', 'accidentally exposed', 'social engineering']\n"
     ]
    },
    {
     "data": {
      "text/plain": [
       "[196, 41, 33, 21, 19, 16, 2, 2, 1, 1, 1, 1, 1, 1, 1, 1, 1, 1, 1, 1, 1, 1, 1]"
      ]
     },
     "execution_count": 81,
     "metadata": {},
     "output_type": "execute_result"
    }
   ],
   "source": [
    "print(list(df_vis['Method'].unique()))   # based on the list, we can see that the Method column doesn't contain unknown anymore.\n",
    "list(df_vis['Method'].value_counts())   # we also gain insight into the frequency of the methods being repeated, there's 24 methods, therefore, the label encoding will range from 0-23"
   ]
  },
  {
   "cell_type": "code",
   "execution_count": 82,
   "id": "6dc22b2bec14c0fc",
   "metadata": {
    "ExecuteTime": {
     "end_time": "2023-09-09T19:20:03.740022400Z",
     "start_time": "2023-09-09T19:20:03.066149600Z"
    },
    "collapsed": false
   },
   "outputs": [
    {
     "data": {
      "text/plain": [
       "['hacked',\n",
       " 'poor_security',\n",
       " 'lost_stolen_media',\n",
       " 'accidentally_published',\n",
       " 'inside_job,_hacked',\n",
       " 'lost_stolen_computer',\n",
       " 'unsecured_s3_bucket',\n",
       " 'inside_job',\n",
       " 'accidentally_uploaded',\n",
       " 'poor_security_hacked',\n",
       " 'unprotected_api',\n",
       " 'poor_security_inside_job',\n",
       " 'data_exposed_by_misconfiguration',\n",
       " 'intentionally_lost',\n",
       " 'misconfiguration_poor_security',\n",
       " 'ransomware_hacked',\n",
       " 'rogue_contractor',\n",
       " 'improper_setting,_hacked',\n",
       " 'hacked_misconfiguration',\n",
       " 'publicly_accessible_amazon_web_services_(aws)_server',\n",
       " 'accidentally_exposed',\n",
       " 'social_engineering']"
      ]
     },
     "execution_count": 82,
     "metadata": {},
     "output_type": "execute_result"
    }
   ],
   "source": [
    "# prior to implementing label encoding, we will need to clear up the string of some grammatical issues that will cause mismatched data when we train the model otherwise\n",
    "# we want uniformity for the data input values\n",
    "# convert all uppercase letters to lowercase\n",
    "df_vis['Method'] = df_vis['Method'].str.lower()\n",
    "\n",
    "# replace all spaces with \"_\"\n",
    "df_vis['Method'] = df_vis['Method'].str.replace(' ', '_')\n",
    "\n",
    "# replace all slash signs with \"_\"\n",
    "df_vis['Method'] = df_vis['Method'].str.replace('/', '_')\n",
    "\n",
    "# replace all __ and ___ with _\n",
    "df_vis['Method'] = df_vis['Method'].str.replace('___', '_')\n",
    "df_vis['Method'] = df_vis['Method'].str.replace('__', '_')\n",
    "\n",
    "# check the updated dataframe\n",
    "list(df_vis['Method'].unique())"
   ]
  },
  {
   "cell_type": "code",
   "execution_count": 83,
   "id": "226c00a1c46c21c5",
   "metadata": {
    "ExecuteTime": {
     "end_time": "2023-09-09T19:20:03.740022400Z",
     "start_time": "2023-09-09T19:20:03.112754400Z"
    },
    "collapsed": false
   },
   "outputs": [
    {
     "data": {
      "text/html": [
       "<div>\n",
       "<style scoped>\n",
       "    .dataframe tbody tr th:only-of-type {\n",
       "        vertical-align: middle;\n",
       "    }\n",
       "\n",
       "    .dataframe tbody tr th {\n",
       "        vertical-align: top;\n",
       "    }\n",
       "\n",
       "    .dataframe thead th {\n",
       "        text-align: right;\n",
       "    }\n",
       "</style>\n",
       "<table border=\"1\" class=\"dataframe\">\n",
       "  <thead>\n",
       "    <tr style=\"text-align: right;\">\n",
       "      <th></th>\n",
       "      <th>Index</th>\n",
       "      <th>Year</th>\n",
       "      <th>Records</th>\n",
       "      <th>Organization type</th>\n",
       "      <th>Method</th>\n",
       "    </tr>\n",
       "  </thead>\n",
       "  <tbody>\n",
       "    <tr>\n",
       "      <th>0</th>\n",
       "      <td>0.0</td>\n",
       "      <td>2016</td>\n",
       "      <td>2200000</td>\n",
       "      <td>24</td>\n",
       "      <td>4</td>\n",
       "    </tr>\n",
       "    <tr>\n",
       "      <th>1</th>\n",
       "      <td>1.0</td>\n",
       "      <td>2020</td>\n",
       "      <td>14870304</td>\n",
       "      <td>45</td>\n",
       "      <td>4</td>\n",
       "    </tr>\n",
       "    <tr>\n",
       "      <th>2</th>\n",
       "      <td>2.0</td>\n",
       "      <td>2020</td>\n",
       "      <td>175350</td>\n",
       "      <td>24</td>\n",
       "      <td>13</td>\n",
       "    </tr>\n",
       "    <tr>\n",
       "      <th>3</th>\n",
       "      <td>3.0</td>\n",
       "      <td>2013</td>\n",
       "      <td>152000000</td>\n",
       "      <td>47</td>\n",
       "      <td>4</td>\n",
       "    </tr>\n",
       "    <tr>\n",
       "      <th>4</th>\n",
       "      <td>4.0</td>\n",
       "      <td>2019</td>\n",
       "      <td>7500000</td>\n",
       "      <td>47</td>\n",
       "      <td>13</td>\n",
       "    </tr>\n",
       "    <tr>\n",
       "      <th>...</th>\n",
       "      <td>...</td>\n",
       "      <td>...</td>\n",
       "      <td>...</td>\n",
       "      <td>...</td>\n",
       "      <td>...</td>\n",
       "    </tr>\n",
       "    <tr>\n",
       "      <th>340</th>\n",
       "      <td>350.0</td>\n",
       "      <td>2022</td>\n",
       "      <td>6400000</td>\n",
       "      <td>55</td>\n",
       "      <td>13</td>\n",
       "    </tr>\n",
       "    <tr>\n",
       "      <th>341</th>\n",
       "      <td>351.0</td>\n",
       "      <td>2022</td>\n",
       "      <td>95000</td>\n",
       "      <td>41</td>\n",
       "      <td>1</td>\n",
       "    </tr>\n",
       "    <tr>\n",
       "      <th>342</th>\n",
       "      <td>352.0</td>\n",
       "      <td>2020</td>\n",
       "      <td>6697200</td>\n",
       "      <td>54</td>\n",
       "      <td>4</td>\n",
       "    </tr>\n",
       "    <tr>\n",
       "      <th>343</th>\n",
       "      <td>353.0</td>\n",
       "      <td>2019</td>\n",
       "      <td>1000000</td>\n",
       "      <td>40</td>\n",
       "      <td>4</td>\n",
       "    </tr>\n",
       "    <tr>\n",
       "      <th>344</th>\n",
       "      <td>354.0</td>\n",
       "      <td>2015</td>\n",
       "      <td>181500</td>\n",
       "      <td>26</td>\n",
       "      <td>4</td>\n",
       "    </tr>\n",
       "  </tbody>\n",
       "</table>\n",
       "<p>345 rows × 5 columns</p>\n",
       "</div>"
      ],
      "text/plain": [
       "     Index  Year    Records  Organization type  Method\n",
       "0      0.0  2016    2200000                 24       4\n",
       "1      1.0  2020   14870304                 45       4\n",
       "2      2.0  2020     175350                 24      13\n",
       "3      3.0  2013  152000000                 47       4\n",
       "4      4.0  2019    7500000                 47      13\n",
       "..     ...   ...        ...                ...     ...\n",
       "340  350.0  2022    6400000                 55      13\n",
       "341  351.0  2022      95000                 41       1\n",
       "342  352.0  2020    6697200                 54       4\n",
       "343  353.0  2019    1000000                 40       4\n",
       "344  354.0  2015     181500                 26       4\n",
       "\n",
       "[345 rows x 5 columns]"
      ]
     },
     "execution_count": 83,
     "metadata": {},
     "output_type": "execute_result"
    }
   ],
   "source": [
    "# now the method column is ready for label encoding preprocessing, since we already called on the label encoder previously, we can reuse it\n",
    "le.fit(df_vis['Method'])  # train the label encoder on the column data we want to train\n",
    "df_vis['Method'] = le.transform(df_vis['Method'])\n",
    "df_vis   # observe that method has been successfully encoded by label"
   ]
  },
  {
   "cell_type": "code",
   "execution_count": 87,
   "id": "bb398959",
   "metadata": {},
   "outputs": [],
   "source": [
    "#continue here  --> https://machinelearningmastery.com/building-a-regression-model-in-pytorch/"
   ]
  },
  {
   "cell_type": "code",
   "execution_count": 94,
   "id": "34cc7ca0e870548e",
   "metadata": {
    "ExecuteTime": {
     "end_time": "2023-09-09T19:20:03.740022400Z",
     "start_time": "2023-09-09T19:20:03.149368100Z"
    },
    "collapsed": false
   },
   "outputs": [
    {
     "data": {
      "text/plain": [
       "Method\n",
       "hacked                                                  192\n",
       "poor security                                            43\n",
       "lost / stolen media                                      33\n",
       "accidentally published                                   21\n",
       "inside job                                               19\n",
       "lost / stolen computer                                   16\n",
       "unknown                                                   7\n",
       "improper setting, hacked                                  2\n",
       "poor security/inside job                                  2\n",
       "intentionally lost                                        1\n",
       "accidentally exposed                                      1\n",
       "publicly accessible Amazon Web Services (AWS) server      1\n",
       "hacked/misconfiguration                                   1\n",
       "rogue contractor                                          1\n",
       "ransomware hacked                                         1\n",
       "misconfiguration/poor security                            1\n",
       "unprotected api                                           1\n",
       "zero-day vulnerabilities                                  1\n",
       "data exposed by misconfiguration                          1\n",
       "Poor security                                             1\n",
       "poor security / hacked                                    1\n",
       "accidentally uploaded                                     1\n",
       "unsecured S3 bucket                                       1\n",
       "inside job, hacked                                        1\n",
       "social engineering                                        1\n",
       "Name: count, dtype: int64"
      ]
     },
     "execution_count": 94,
     "metadata": {},
     "output_type": "execute_result"
    }
   ],
   "source": [
    "df_copy1['Method'].value_counts()  # judging by the values shown here, seems like 4 represents 'hacked'"
   ]
  },
  {
   "cell_type": "code",
   "execution_count": 95,
   "id": "012aba13",
   "metadata": {},
   "outputs": [
    {
     "data": {
      "text/plain": [
       "'hacked'"
      ]
     },
     "execution_count": 95,
     "metadata": {},
     "output_type": "execute_result"
    }
   ],
   "source": [
    "# Use the inverse_transform method if you need to decode the method back to the original text\n",
    "original_text = le.inverse_transform([4])\n",
    "original_text[0]"
   ]
  },
  {
   "cell_type": "code",
   "execution_count": 96,
   "id": "538534f6dc02a826",
   "metadata": {
    "ExecuteTime": {
     "end_time": "2023-09-09T19:20:03.740022400Z",
     "start_time": "2023-09-09T19:20:03.176187100Z"
    },
    "collapsed": false
   },
   "outputs": [
    {
     "data": {
      "text/plain": [
       "Index                  int64\n",
       "Year                  object\n",
       "Records              float64\n",
       "Organization type     object\n",
       "Method                object\n",
       "dtype: object"
      ]
     },
     "execution_count": 96,
     "metadata": {},
     "output_type": "execute_result"
    }
   ],
   "source": [
    "df_copy1.dtypes  # reobserve the data, as we can see, the columns that are of object datatype needs to be changed"
   ]
  },
  {
   "cell_type": "code",
   "execution_count": 97,
   "id": "a500f423ffe8d0bb",
   "metadata": {
    "ExecuteTime": {
     "end_time": "2023-09-09T19:20:03.740022400Z",
     "start_time": "2023-09-09T19:20:03.232405900Z"
    },
    "collapsed": false
   },
   "outputs": [
    {
     "ename": "KeyError",
     "evalue": "\"['hashed_Entity'] not in index\"",
     "output_type": "error",
     "traceback": [
      "\u001b[0;31m---------------------------------------------------------------------------\u001b[0m",
      "\u001b[0;31mKeyError\u001b[0m                                  Traceback (most recent call last)",
      "\u001b[1;32m/Users/georginawoo/Desktop/HUNTER/1semesters/F23/databreach/Accenture3A_Project/Accenture_3A.ipynb Cell 48\u001b[0m line \u001b[0;36m2\n\u001b[1;32m      <a href='vscode-notebook-cell:/Users/georginawoo/Desktop/HUNTER/1semesters/F23/databreach/Accenture3A_Project/Accenture_3A.ipynb#Y166sZmlsZQ%3D%3D?line=0'>1</a>\u001b[0m object_to_numeric \u001b[39m=\u001b[39m [\u001b[39m'\u001b[39m\u001b[39mYear\u001b[39m\u001b[39m'\u001b[39m, \u001b[39m'\u001b[39m\u001b[39mRecords\u001b[39m\u001b[39m'\u001b[39m, \u001b[39m'\u001b[39m\u001b[39mhashed_Entity\u001b[39m\u001b[39m'\u001b[39m]\n\u001b[0;32m----> <a href='vscode-notebook-cell:/Users/georginawoo/Desktop/HUNTER/1semesters/F23/databreach/Accenture3A_Project/Accenture_3A.ipynb#Y166sZmlsZQ%3D%3D?line=1'>2</a>\u001b[0m df_copy1[object_to_numeric] \u001b[39m=\u001b[39m df_copy1[object_to_numeric]\u001b[39m.\u001b[39mapply(pd\u001b[39m.\u001b[39mto_numeric, errors\u001b[39m=\u001b[39m\u001b[39m\"\u001b[39m\u001b[39mignore\u001b[39m\u001b[39m\"\u001b[39m, axis\u001b[39m=\u001b[39m\u001b[39m1\u001b[39m)   \u001b[39m# we have successfully converted the dataframe from object to float, this ensures it's ready to be trained using machine learning model\u001b[39;00m\n\u001b[1;32m      <a href='vscode-notebook-cell:/Users/georginawoo/Desktop/HUNTER/1semesters/F23/databreach/Accenture3A_Project/Accenture_3A.ipynb#Y166sZmlsZQ%3D%3D?line=2'>3</a>\u001b[0m df_copy1\u001b[39m.\u001b[39mdtypes\n",
      "File \u001b[0;32m/Library/Frameworks/Python.framework/Versions/3.11/lib/python3.11/site-packages/pandas/core/frame.py:3902\u001b[0m, in \u001b[0;36mDataFrame.__getitem__\u001b[0;34m(self, key)\u001b[0m\n\u001b[1;32m   3900\u001b[0m     \u001b[39mif\u001b[39;00m is_iterator(key):\n\u001b[1;32m   3901\u001b[0m         key \u001b[39m=\u001b[39m \u001b[39mlist\u001b[39m(key)\n\u001b[0;32m-> 3902\u001b[0m     indexer \u001b[39m=\u001b[39m \u001b[39mself\u001b[39;49m\u001b[39m.\u001b[39;49mcolumns\u001b[39m.\u001b[39;49m_get_indexer_strict(key, \u001b[39m\"\u001b[39;49m\u001b[39mcolumns\u001b[39;49m\u001b[39m\"\u001b[39;49m)[\u001b[39m1\u001b[39m]\n\u001b[1;32m   3904\u001b[0m \u001b[39m# take() does not accept boolean indexers\u001b[39;00m\n\u001b[1;32m   3905\u001b[0m \u001b[39mif\u001b[39;00m \u001b[39mgetattr\u001b[39m(indexer, \u001b[39m\"\u001b[39m\u001b[39mdtype\u001b[39m\u001b[39m\"\u001b[39m, \u001b[39mNone\u001b[39;00m) \u001b[39m==\u001b[39m \u001b[39mbool\u001b[39m:\n",
      "File \u001b[0;32m/Library/Frameworks/Python.framework/Versions/3.11/lib/python3.11/site-packages/pandas/core/indexes/base.py:6114\u001b[0m, in \u001b[0;36mIndex._get_indexer_strict\u001b[0;34m(self, key, axis_name)\u001b[0m\n\u001b[1;32m   6111\u001b[0m \u001b[39melse\u001b[39;00m:\n\u001b[1;32m   6112\u001b[0m     keyarr, indexer, new_indexer \u001b[39m=\u001b[39m \u001b[39mself\u001b[39m\u001b[39m.\u001b[39m_reindex_non_unique(keyarr)\n\u001b[0;32m-> 6114\u001b[0m \u001b[39mself\u001b[39;49m\u001b[39m.\u001b[39;49m_raise_if_missing(keyarr, indexer, axis_name)\n\u001b[1;32m   6116\u001b[0m keyarr \u001b[39m=\u001b[39m \u001b[39mself\u001b[39m\u001b[39m.\u001b[39mtake(indexer)\n\u001b[1;32m   6117\u001b[0m \u001b[39mif\u001b[39;00m \u001b[39misinstance\u001b[39m(key, Index):\n\u001b[1;32m   6118\u001b[0m     \u001b[39m# GH 42790 - Preserve name from an Index\u001b[39;00m\n",
      "File \u001b[0;32m/Library/Frameworks/Python.framework/Versions/3.11/lib/python3.11/site-packages/pandas/core/indexes/base.py:6178\u001b[0m, in \u001b[0;36mIndex._raise_if_missing\u001b[0;34m(self, key, indexer, axis_name)\u001b[0m\n\u001b[1;32m   6175\u001b[0m     \u001b[39mraise\u001b[39;00m \u001b[39mKeyError\u001b[39;00m(\u001b[39mf\u001b[39m\u001b[39m\"\u001b[39m\u001b[39mNone of [\u001b[39m\u001b[39m{\u001b[39;00mkey\u001b[39m}\u001b[39;00m\u001b[39m] are in the [\u001b[39m\u001b[39m{\u001b[39;00maxis_name\u001b[39m}\u001b[39;00m\u001b[39m]\u001b[39m\u001b[39m\"\u001b[39m)\n\u001b[1;32m   6177\u001b[0m not_found \u001b[39m=\u001b[39m \u001b[39mlist\u001b[39m(ensure_index(key)[missing_mask\u001b[39m.\u001b[39mnonzero()[\u001b[39m0\u001b[39m]]\u001b[39m.\u001b[39munique())\n\u001b[0;32m-> 6178\u001b[0m \u001b[39mraise\u001b[39;00m \u001b[39mKeyError\u001b[39;00m(\u001b[39mf\u001b[39m\u001b[39m\"\u001b[39m\u001b[39m{\u001b[39;00mnot_found\u001b[39m}\u001b[39;00m\u001b[39m not in index\u001b[39m\u001b[39m\"\u001b[39m)\n",
      "\u001b[0;31mKeyError\u001b[0m: \"['hashed_Entity'] not in index\""
     ]
    }
   ],
   "source": [
    "object_to_numeric = ['Year', 'Records', 'hashed_Entity']\n",
    "df_copy1[object_to_numeric] = df_copy1[object_to_numeric].apply(pd.to_numeric, errors=\"ignore\", axis=1)   # we have successfully converted the dataframe from object to float, this ensures it's ready to be trained using machine learning model\n",
    "df_copy1.dtypes"
   ]
  },
  {
   "cell_type": "code",
   "execution_count": null,
   "id": "c2ec8854588b7b18",
   "metadata": {
    "ExecuteTime": {
     "end_time": "2023-09-09T19:20:03.740022400Z",
     "start_time": "2023-09-09T19:20:03.286655600Z"
    },
    "collapsed": false
   },
   "outputs": [],
   "source": [
    "df_copy1"
   ]
  },
  {
   "cell_type": "code",
   "execution_count": null,
   "id": "5cb87cac2c1e7490",
   "metadata": {
    "ExecuteTime": {
     "end_time": "2023-09-09T19:20:03.740022400Z",
     "start_time": "2023-09-09T19:20:03.317731Z"
    },
    "collapsed": false
   },
   "outputs": [],
   "source": [
    "df_copy1.isnull().values.any()   # the entirety of the dataframe does not contain any null values."
   ]
  },
  {
   "cell_type": "code",
   "execution_count": null,
   "id": "862344dad3f7099",
   "metadata": {
    "ExecuteTime": {
     "end_time": "2023-09-09T19:20:03.748110100Z",
     "start_time": "2023-09-09T19:20:03.335555Z"
    },
    "collapsed": false
   },
   "outputs": [],
   "source": [
    "df.columns"
   ]
  },
  {
   "cell_type": "markdown",
   "id": "943417e8484d5b66",
   "metadata": {
    "collapsed": false
   },
   "source": [
    "Marks the end of the data preprcoessing."
   ]
  },
  {
   "cell_type": "code",
   "execution_count": null,
   "id": "40821708fe9172b1",
   "metadata": {
    "ExecuteTime": {
     "end_time": "2023-09-09T19:20:03.844269800Z",
     "start_time": "2023-09-09T19:20:03.395959700Z"
    },
    "collapsed": false
   },
   "outputs": [],
   "source": [
    "# using the original tabel where the name of the Entities as well as the hashed entities are together, using that we can create a lookup table in the form of a dictionary\n",
    "\n",
    "dictionary = {}  # create a dictionary that maps the hashed company names to the original company names\n",
    "\n",
    "for index, row in df.iterrows():\n",
    "    hashed_company_name = row[\"hashed_Entity\"]\n",
    "    original_company_name = row[\"Entity\"]\n",
    "    dictionary[hashed_company_name] = original_company_name\n",
    "    "
   ]
  },
  {
   "cell_type": "code",
   "execution_count": null,
   "id": "a04373ced2ac0e6c",
   "metadata": {
    "ExecuteTime": {
     "end_time": "2023-09-09T19:20:03.944673Z",
     "start_time": "2023-09-09T19:20:03.417380100Z"
    },
    "collapsed": false
   },
   "outputs": [],
   "source": [
    "dictionary   # we have successfully created a dictionary that maps the hashed values to the name of the original companues"
   ]
  },
  {
   "cell_type": "code",
   "execution_count": null,
   "id": "19035cda3ece7ea9",
   "metadata": {
    "ExecuteTime": {
     "end_time": "2023-09-09T19:20:03.956703Z",
     "start_time": "2023-09-09T19:20:03.448668500Z"
    },
    "collapsed": false
   },
   "outputs": [],
   "source": [
    "# add a new column to the DataFrame that maps the hashed company names to the original company names\n",
    "df_copy1[\"original_Entity\"] = df[\"hashed_Entity\"].apply(lambda x: dictionary[x])"
   ]
  },
  {
   "cell_type": "code",
   "execution_count": null,
   "id": "8172449e30301788",
   "metadata": {
    "ExecuteTime": {
     "end_time": "2023-09-09T19:20:04.001324100Z",
     "start_time": "2023-09-09T19:20:03.466481400Z"
    },
    "collapsed": false
   },
   "outputs": [],
   "source": [
    "df_copy1"
   ]
  }
 ],
 "metadata": {
  "kernelspec": {
   "display_name": "Python 3",
   "language": "python",
   "name": "python3"
  },
  "language_info": {
   "codemirror_mode": {
    "name": "ipython",
    "version": 3
   },
   "file_extension": ".py",
   "mimetype": "text/x-python",
   "name": "python",
   "nbconvert_exporter": "python",
   "pygments_lexer": "ipython3",
   "version": "3.11.5"
  }
 },
 "nbformat": 4,
 "nbformat_minor": 5
}
