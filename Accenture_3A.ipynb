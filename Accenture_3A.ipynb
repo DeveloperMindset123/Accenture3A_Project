{
 "cells": [
  {
   "cell_type": "code",
   "execution_count": 94,
   "id": "initial_id",
   "metadata": {
    "collapsed": true,
    "ExecuteTime": {
     "end_time": "2023-09-09T19:20:31.132750700Z",
     "start_time": "2023-09-09T19:20:31.117340600Z"
    }
   },
   "outputs": [],
   "source": [
    "# import the neccessary dependacies we will use by default\n",
    "import numpy as np\n",
    "import pandas as pd\n",
    "import matplotlib.pyplot as plt\n",
    "import seaborn as sns\n",
    "import os"
   ]
  },
  {
   "cell_type": "markdown",
   "source": [
    "Some insights into this project:\n",
    "- The category of machine learning models that these fall into is _supervised learning_. Supervised learning is a type of machine learning where the model is trained on labeled data. The label in this case is the method of data breach.\n",
    "\n",
    "The models that will be tested out will fall into the following category of machine learning:\n",
    "* <u><b>Logistic Regression</b></u>: This is a supervised Learning that can be used to predict a categorical outcome. In this case, the categorical outcome is the method of the data breach. The features that will be used are: entity, year, records and organization type.\n",
    "* <u><b>Decision Trees</b></u>: This is another supervised learning algorithm that can be used to predict a categorical outcome. Decision trees work by creating a tree-like structure that represents the relationships between the features and the outcomes.\n",
    "* <u><b>Support Vector Machine(SVMs):</u></b> This is a supervised learning algorithm that can be used to predict both categorical and continous outcomes. SVMs work by finding the hyperplane that best seperates the data points into different classes.\n",
    "* <u><b>Random Forests</u></b> This is an ensemble learning algorithm that combines multiple decision trees to improve the accuracy of the predictions.\n",
    "* <u><b>Neural Networks</u></b> This is a more complex algorithm that can be used to predict both categorical and continuous outcomes. Neural Networks work by learning the relationships between the features and the outcome through a process called backpropogation."
   ],
   "metadata": {
    "collapsed": false
   },
   "id": "4b3a5b2fc17a89d0"
  },
  {
   "cell_type": "code",
   "execution_count": 95,
   "outputs": [
    {
     "data": {
      "text/plain": "    Unnamed: 0                                  Entity  Year  \\\n0            0                   21st Century Oncology  2016   \n1            1                                   500px  2020   \n2            2                   Accendo Insurance Co.  2020   \n3            3              Adobe Systems Incorporated  2013   \n4            4                              Adobe Inc.  2019   \n5            5                  Advocate Medical Group  2017   \n6            6          AerServ (subsidiary of InMobi)  2018   \n7            7              Affinity Health Plan, Inc.  2013   \n8            8                                  Airtel  2019   \n9            9                              Air Canada  2018   \n10          10                       Amazon Japan G.K.  2019   \n11          11                           TD Ameritrade  2005   \n12          12                            Ancestry.com  2021   \n13          13                              Animal Jam  2020   \n14          14  Ankle & Foot Center of Tampa Bay, Inc.  2021   \n15          15                             Anthem Inc.  2015   \n16          16                                     AOL  2004   \n17          17                                     AOL  2006   \n18          18                                     AOL  2014   \n19          19                    Apple, Inc./BlueToad  2021   \n20          20                                   Apple  2021   \n21          21                   Apple Health Medicaid  2021   \n22          22                          Ashley Madison  2015   \n23          23                                    AT&T  2008   \n24          24                                    AT&T  2010   \n25          25                                   Atraf  2021   \n26          26                           Auction.co.kr  2008   \n27          27       Australian Immigration Department  2015   \n28          28          Australian National University  2019   \n29          29               Automatic Data Processing  2005   \n\n              Records   Organization type                  Method   Sources  \n0             2200000          healthcare                  hacked    [5][6]  \n1            14870304   social networking                  hacked       [7]  \n2              175350          healthcare           poor security    [8][9]  \n3           152000000                tech                  hacked      [10]  \n4             7500000                tech           poor security  [11][12]  \n5             4000000          healthcare     lost / stolen media  [13][14]  \n6               75000         advertising                  hacked      [15]  \n7              344579          healthcare     lost / stolen media  [16][17]  \n8           320000000  telecommunications           poor security      [18]  \n9               20000           transport                  hacked      [19]  \n10            unknown                 web  accidentally published  [20][21]  \n11             200000           financial     lost / stolen media      [22]  \n12             300000                 web           poor security      [23]  \n13           46000000              gaming                  hacked      [24]  \n14             156000          healthcare                  hacked      [25]  \n15           80000000          healthcare                  hacked  [26][27]  \n16           92000000                 web      inside job, hacked  [28][29]  \n17           20000000                 web  accidentally published      [30]  \n18            2400000                 web                  hacked      [31]  \n19           12367232        tech, retail  accidentally published      [32]  \n20             275000                tech                  hacked      [33]  \n21              91000          healthcare           poor security      [34]  \n22           32000000                 web                  hacked      [35]  \n23             113000            telecoms  lost / stolen computer      [36]  \n24             114000            telecoms                  hacked      [37]  \n25            unknown              dating                  hacked      [38]  \n26           18000000                 web                  hacked      [39]  \n27  G20 world leaders          government  accidentally published      [40]  \n28   19 years of data            academic                  hacked      [41]  \n29             125000           financial           poor security      [42]  ",
      "text/html": "<div>\n<style scoped>\n    .dataframe tbody tr th:only-of-type {\n        vertical-align: middle;\n    }\n\n    .dataframe tbody tr th {\n        vertical-align: top;\n    }\n\n    .dataframe thead th {\n        text-align: right;\n    }\n</style>\n<table border=\"1\" class=\"dataframe\">\n  <thead>\n    <tr style=\"text-align: right;\">\n      <th></th>\n      <th>Unnamed: 0</th>\n      <th>Entity</th>\n      <th>Year</th>\n      <th>Records</th>\n      <th>Organization type</th>\n      <th>Method</th>\n      <th>Sources</th>\n    </tr>\n  </thead>\n  <tbody>\n    <tr>\n      <th>0</th>\n      <td>0</td>\n      <td>21st Century Oncology</td>\n      <td>2016</td>\n      <td>2200000</td>\n      <td>healthcare</td>\n      <td>hacked</td>\n      <td>[5][6]</td>\n    </tr>\n    <tr>\n      <th>1</th>\n      <td>1</td>\n      <td>500px</td>\n      <td>2020</td>\n      <td>14870304</td>\n      <td>social networking</td>\n      <td>hacked</td>\n      <td>[7]</td>\n    </tr>\n    <tr>\n      <th>2</th>\n      <td>2</td>\n      <td>Accendo Insurance Co.</td>\n      <td>2020</td>\n      <td>175350</td>\n      <td>healthcare</td>\n      <td>poor security</td>\n      <td>[8][9]</td>\n    </tr>\n    <tr>\n      <th>3</th>\n      <td>3</td>\n      <td>Adobe Systems Incorporated</td>\n      <td>2013</td>\n      <td>152000000</td>\n      <td>tech</td>\n      <td>hacked</td>\n      <td>[10]</td>\n    </tr>\n    <tr>\n      <th>4</th>\n      <td>4</td>\n      <td>Adobe Inc.</td>\n      <td>2019</td>\n      <td>7500000</td>\n      <td>tech</td>\n      <td>poor security</td>\n      <td>[11][12]</td>\n    </tr>\n    <tr>\n      <th>5</th>\n      <td>5</td>\n      <td>Advocate Medical Group</td>\n      <td>2017</td>\n      <td>4000000</td>\n      <td>healthcare</td>\n      <td>lost / stolen media</td>\n      <td>[13][14]</td>\n    </tr>\n    <tr>\n      <th>6</th>\n      <td>6</td>\n      <td>AerServ (subsidiary of InMobi)</td>\n      <td>2018</td>\n      <td>75000</td>\n      <td>advertising</td>\n      <td>hacked</td>\n      <td>[15]</td>\n    </tr>\n    <tr>\n      <th>7</th>\n      <td>7</td>\n      <td>Affinity Health Plan, Inc.</td>\n      <td>2013</td>\n      <td>344579</td>\n      <td>healthcare</td>\n      <td>lost / stolen media</td>\n      <td>[16][17]</td>\n    </tr>\n    <tr>\n      <th>8</th>\n      <td>8</td>\n      <td>Airtel</td>\n      <td>2019</td>\n      <td>320000000</td>\n      <td>telecommunications</td>\n      <td>poor security</td>\n      <td>[18]</td>\n    </tr>\n    <tr>\n      <th>9</th>\n      <td>9</td>\n      <td>Air Canada</td>\n      <td>2018</td>\n      <td>20000</td>\n      <td>transport</td>\n      <td>hacked</td>\n      <td>[19]</td>\n    </tr>\n    <tr>\n      <th>10</th>\n      <td>10</td>\n      <td>Amazon Japan G.K.</td>\n      <td>2019</td>\n      <td>unknown</td>\n      <td>web</td>\n      <td>accidentally published</td>\n      <td>[20][21]</td>\n    </tr>\n    <tr>\n      <th>11</th>\n      <td>11</td>\n      <td>TD Ameritrade</td>\n      <td>2005</td>\n      <td>200000</td>\n      <td>financial</td>\n      <td>lost / stolen media</td>\n      <td>[22]</td>\n    </tr>\n    <tr>\n      <th>12</th>\n      <td>12</td>\n      <td>Ancestry.com</td>\n      <td>2021</td>\n      <td>300000</td>\n      <td>web</td>\n      <td>poor security</td>\n      <td>[23]</td>\n    </tr>\n    <tr>\n      <th>13</th>\n      <td>13</td>\n      <td>Animal Jam</td>\n      <td>2020</td>\n      <td>46000000</td>\n      <td>gaming</td>\n      <td>hacked</td>\n      <td>[24]</td>\n    </tr>\n    <tr>\n      <th>14</th>\n      <td>14</td>\n      <td>Ankle &amp; Foot Center of Tampa Bay, Inc.</td>\n      <td>2021</td>\n      <td>156000</td>\n      <td>healthcare</td>\n      <td>hacked</td>\n      <td>[25]</td>\n    </tr>\n    <tr>\n      <th>15</th>\n      <td>15</td>\n      <td>Anthem Inc.</td>\n      <td>2015</td>\n      <td>80000000</td>\n      <td>healthcare</td>\n      <td>hacked</td>\n      <td>[26][27]</td>\n    </tr>\n    <tr>\n      <th>16</th>\n      <td>16</td>\n      <td>AOL</td>\n      <td>2004</td>\n      <td>92000000</td>\n      <td>web</td>\n      <td>inside job, hacked</td>\n      <td>[28][29]</td>\n    </tr>\n    <tr>\n      <th>17</th>\n      <td>17</td>\n      <td>AOL</td>\n      <td>2006</td>\n      <td>20000000</td>\n      <td>web</td>\n      <td>accidentally published</td>\n      <td>[30]</td>\n    </tr>\n    <tr>\n      <th>18</th>\n      <td>18</td>\n      <td>AOL</td>\n      <td>2014</td>\n      <td>2400000</td>\n      <td>web</td>\n      <td>hacked</td>\n      <td>[31]</td>\n    </tr>\n    <tr>\n      <th>19</th>\n      <td>19</td>\n      <td>Apple, Inc./BlueToad</td>\n      <td>2021</td>\n      <td>12367232</td>\n      <td>tech, retail</td>\n      <td>accidentally published</td>\n      <td>[32]</td>\n    </tr>\n    <tr>\n      <th>20</th>\n      <td>20</td>\n      <td>Apple</td>\n      <td>2021</td>\n      <td>275000</td>\n      <td>tech</td>\n      <td>hacked</td>\n      <td>[33]</td>\n    </tr>\n    <tr>\n      <th>21</th>\n      <td>21</td>\n      <td>Apple Health Medicaid</td>\n      <td>2021</td>\n      <td>91000</td>\n      <td>healthcare</td>\n      <td>poor security</td>\n      <td>[34]</td>\n    </tr>\n    <tr>\n      <th>22</th>\n      <td>22</td>\n      <td>Ashley Madison</td>\n      <td>2015</td>\n      <td>32000000</td>\n      <td>web</td>\n      <td>hacked</td>\n      <td>[35]</td>\n    </tr>\n    <tr>\n      <th>23</th>\n      <td>23</td>\n      <td>AT&amp;T</td>\n      <td>2008</td>\n      <td>113000</td>\n      <td>telecoms</td>\n      <td>lost / stolen computer</td>\n      <td>[36]</td>\n    </tr>\n    <tr>\n      <th>24</th>\n      <td>24</td>\n      <td>AT&amp;T</td>\n      <td>2010</td>\n      <td>114000</td>\n      <td>telecoms</td>\n      <td>hacked</td>\n      <td>[37]</td>\n    </tr>\n    <tr>\n      <th>25</th>\n      <td>25</td>\n      <td>Atraf</td>\n      <td>2021</td>\n      <td>unknown</td>\n      <td>dating</td>\n      <td>hacked</td>\n      <td>[38]</td>\n    </tr>\n    <tr>\n      <th>26</th>\n      <td>26</td>\n      <td>Auction.co.kr</td>\n      <td>2008</td>\n      <td>18000000</td>\n      <td>web</td>\n      <td>hacked</td>\n      <td>[39]</td>\n    </tr>\n    <tr>\n      <th>27</th>\n      <td>27</td>\n      <td>Australian Immigration Department</td>\n      <td>2015</td>\n      <td>G20 world leaders</td>\n      <td>government</td>\n      <td>accidentally published</td>\n      <td>[40]</td>\n    </tr>\n    <tr>\n      <th>28</th>\n      <td>28</td>\n      <td>Australian National University</td>\n      <td>2019</td>\n      <td>19 years of data</td>\n      <td>academic</td>\n      <td>hacked</td>\n      <td>[41]</td>\n    </tr>\n    <tr>\n      <th>29</th>\n      <td>29</td>\n      <td>Automatic Data Processing</td>\n      <td>2005</td>\n      <td>125000</td>\n      <td>financial</td>\n      <td>poor security</td>\n      <td>[42]</td>\n    </tr>\n  </tbody>\n</table>\n</div>"
     },
     "execution_count": 95,
     "metadata": {},
     "output_type": "execute_result"
    }
   ],
   "source": [
    "# load the dataset we will be using\n",
    "csv_file_path = os.path.abspath('df_1.csv');  # get the absolute path of the CSV file\n",
    "\n",
    "df = pd.read_csv(csv_file_path);   # Read the CSV file into a dataframe\n",
    "# display the head to see if the dataset works as intended\n",
    "df.head(30)"
   ],
   "metadata": {
    "collapsed": false,
    "ExecuteTime": {
     "end_time": "2023-09-09T19:20:31.530128100Z",
     "start_time": "2023-09-09T19:20:31.452203700Z"
    }
   },
   "id": "4d4a0b8ccba56a7f"
  },
  {
   "cell_type": "code",
   "execution_count": 96,
   "outputs": [],
   "source": [
    "# drop the columns we don't need\n",
    "df.drop(columns='Sources', inplace=True);"
   ],
   "metadata": {
    "collapsed": false,
    "ExecuteTime": {
     "end_time": "2023-09-09T19:20:33.075783600Z",
     "start_time": "2023-09-09T19:20:33.033969700Z"
    }
   },
   "id": "8f42c1901cfcefb6"
  },
  {
   "cell_type": "code",
   "execution_count": 97,
   "outputs": [
    {
     "data": {
      "text/plain": "Index(['Unnamed: 0', 'Entity', 'Year', 'Records', 'Organization type',\n       'Method'],\n      dtype='object')"
     },
     "execution_count": 97,
     "metadata": {},
     "output_type": "execute_result"
    }
   ],
   "source": [
    "df.columns # observe that the columns list has been dropped"
   ],
   "metadata": {
    "collapsed": false,
    "ExecuteTime": {
     "end_time": "2023-09-09T19:20:33.325609Z",
     "start_time": "2023-09-09T19:20:33.265630700Z"
    }
   },
   "id": "f4b9e109abfaf428"
  },
  {
   "cell_type": "code",
   "execution_count": 98,
   "outputs": [],
   "source": [
    "# we will need to rename the unnamed column\n",
    "df.rename(columns={'Unnamed: 0' : 'Index'}, inplace=True)"
   ],
   "metadata": {
    "collapsed": false,
    "ExecuteTime": {
     "end_time": "2023-09-09T19:20:33.816103200Z",
     "start_time": "2023-09-09T19:20:33.785937900Z"
    }
   },
   "id": "c0cc115ab662e2dc"
  },
  {
   "cell_type": "code",
   "execution_count": 99,
   "outputs": [
    {
     "data": {
      "text/plain": "   Index                      Entity  Year    Records  Organization type  \\\n0      0       21st Century Oncology  2016    2200000         healthcare   \n1      1                       500px  2020   14870304  social networking   \n2      2       Accendo Insurance Co.  2020     175350         healthcare   \n3      3  Adobe Systems Incorporated  2013  152000000               tech   \n4      4                  Adobe Inc.  2019    7500000               tech   \n\n          Method  \n0         hacked  \n1         hacked  \n2  poor security  \n3         hacked  \n4  poor security  ",
      "text/html": "<div>\n<style scoped>\n    .dataframe tbody tr th:only-of-type {\n        vertical-align: middle;\n    }\n\n    .dataframe tbody tr th {\n        vertical-align: top;\n    }\n\n    .dataframe thead th {\n        text-align: right;\n    }\n</style>\n<table border=\"1\" class=\"dataframe\">\n  <thead>\n    <tr style=\"text-align: right;\">\n      <th></th>\n      <th>Index</th>\n      <th>Entity</th>\n      <th>Year</th>\n      <th>Records</th>\n      <th>Organization type</th>\n      <th>Method</th>\n    </tr>\n  </thead>\n  <tbody>\n    <tr>\n      <th>0</th>\n      <td>0</td>\n      <td>21st Century Oncology</td>\n      <td>2016</td>\n      <td>2200000</td>\n      <td>healthcare</td>\n      <td>hacked</td>\n    </tr>\n    <tr>\n      <th>1</th>\n      <td>1</td>\n      <td>500px</td>\n      <td>2020</td>\n      <td>14870304</td>\n      <td>social networking</td>\n      <td>hacked</td>\n    </tr>\n    <tr>\n      <th>2</th>\n      <td>2</td>\n      <td>Accendo Insurance Co.</td>\n      <td>2020</td>\n      <td>175350</td>\n      <td>healthcare</td>\n      <td>poor security</td>\n    </tr>\n    <tr>\n      <th>3</th>\n      <td>3</td>\n      <td>Adobe Systems Incorporated</td>\n      <td>2013</td>\n      <td>152000000</td>\n      <td>tech</td>\n      <td>hacked</td>\n    </tr>\n    <tr>\n      <th>4</th>\n      <td>4</td>\n      <td>Adobe Inc.</td>\n      <td>2019</td>\n      <td>7500000</td>\n      <td>tech</td>\n      <td>poor security</td>\n    </tr>\n  </tbody>\n</table>\n</div>"
     },
     "execution_count": 99,
     "metadata": {},
     "output_type": "execute_result"
    }
   ],
   "source": [
    "df.head()"
   ],
   "metadata": {
    "collapsed": false,
    "ExecuteTime": {
     "end_time": "2023-09-09T19:20:34.333874500Z",
     "start_time": "2023-09-09T19:20:34.264516200Z"
    }
   },
   "id": "8ee54eb48bc1811b"
  },
  {
   "cell_type": "code",
   "execution_count": 100,
   "outputs": [
    {
     "data": {
      "text/plain": "Index                 int64\nEntity               object\nYear                 object\nRecords              object\nOrganization type    object\nMethod               object\ndtype: object"
     },
     "execution_count": 100,
     "metadata": {},
     "output_type": "execute_result"
    }
   ],
   "source": [
    "df.dtypes   # in the case of this dataframe, we have only the index as an integer datatype, whereas, everything else is considered object data"
   ],
   "metadata": {
    "collapsed": false,
    "ExecuteTime": {
     "end_time": "2023-09-09T19:20:34.688691400Z",
     "start_time": "2023-09-09T19:20:34.658248700Z"
    }
   },
   "id": "34d1974bf075b892"
  },
  {
   "cell_type": "code",
   "execution_count": 101,
   "outputs": [
    {
     "data": {
      "text/plain": "331"
     },
     "execution_count": 101,
     "metadata": {},
     "output_type": "execute_result"
    }
   ],
   "source": [
    "# Test out the number of unique values contained in Entity\n",
    "len(df['Entity'].unique())   #there's a total of 331 unique name for comapnies"
   ],
   "metadata": {
    "collapsed": false,
    "ExecuteTime": {
     "end_time": "2023-09-09T19:20:35.163638500Z",
     "start_time": "2023-09-09T19:20:35.143525800Z"
    }
   },
   "id": "b20893287fb448ea"
  },
  {
   "cell_type": "markdown",
   "source": [
    "Regarding the column __Entity__, there's 2 options in terms of data preprocessing:\n",
    "* Drop the column altogether\n",
    "* Apply Hashing"
   ],
   "metadata": {
    "collapsed": false
   },
   "id": "e538d1fc6af68ec2"
  },
  {
   "cell_type": "code",
   "execution_count": 102,
   "outputs": [
    {
     "data": {
      "text/plain": "   Index                      Entity  Year    Records  Organization type  \\\n0      0       21st Century Oncology  2016    2200000         healthcare   \n1      1                       500px  2020   14870304  social networking   \n2      2       Accendo Insurance Co.  2020     175350         healthcare   \n3      3  Adobe Systems Incorporated  2013  152000000               tech   \n4      4                  Adobe Inc.  2019    7500000               tech   \n\n          Method                                      hashed_Entity  \n0         hacked  c3a872f67b2c21449ed696e019d008cbb15b384ed63164...  \n1         hacked  39b1d7f5c52ecec4511c7d93214a3dc33915fcb67c51e1...  \n2  poor security  d37b82c7c3fef3eb56a05bc88697bd64c489f8b13b9ed8...  \n3         hacked  4ea8e5179ec6c6866f040ebfa23a41946cb05bd37b5ebc...  \n4  poor security  4e2eb72d6ffd4a841309dcd87b646d2408ac7394956117...  ",
      "text/html": "<div>\n<style scoped>\n    .dataframe tbody tr th:only-of-type {\n        vertical-align: middle;\n    }\n\n    .dataframe tbody tr th {\n        vertical-align: top;\n    }\n\n    .dataframe thead th {\n        text-align: right;\n    }\n</style>\n<table border=\"1\" class=\"dataframe\">\n  <thead>\n    <tr style=\"text-align: right;\">\n      <th></th>\n      <th>Index</th>\n      <th>Entity</th>\n      <th>Year</th>\n      <th>Records</th>\n      <th>Organization type</th>\n      <th>Method</th>\n      <th>hashed_Entity</th>\n    </tr>\n  </thead>\n  <tbody>\n    <tr>\n      <th>0</th>\n      <td>0</td>\n      <td>21st Century Oncology</td>\n      <td>2016</td>\n      <td>2200000</td>\n      <td>healthcare</td>\n      <td>hacked</td>\n      <td>c3a872f67b2c21449ed696e019d008cbb15b384ed63164...</td>\n    </tr>\n    <tr>\n      <th>1</th>\n      <td>1</td>\n      <td>500px</td>\n      <td>2020</td>\n      <td>14870304</td>\n      <td>social networking</td>\n      <td>hacked</td>\n      <td>39b1d7f5c52ecec4511c7d93214a3dc33915fcb67c51e1...</td>\n    </tr>\n    <tr>\n      <th>2</th>\n      <td>2</td>\n      <td>Accendo Insurance Co.</td>\n      <td>2020</td>\n      <td>175350</td>\n      <td>healthcare</td>\n      <td>poor security</td>\n      <td>d37b82c7c3fef3eb56a05bc88697bd64c489f8b13b9ed8...</td>\n    </tr>\n    <tr>\n      <th>3</th>\n      <td>3</td>\n      <td>Adobe Systems Incorporated</td>\n      <td>2013</td>\n      <td>152000000</td>\n      <td>tech</td>\n      <td>hacked</td>\n      <td>4ea8e5179ec6c6866f040ebfa23a41946cb05bd37b5ebc...</td>\n    </tr>\n    <tr>\n      <th>4</th>\n      <td>4</td>\n      <td>Adobe Inc.</td>\n      <td>2019</td>\n      <td>7500000</td>\n      <td>tech</td>\n      <td>poor security</td>\n      <td>4e2eb72d6ffd4a841309dcd87b646d2408ac7394956117...</td>\n    </tr>\n  </tbody>\n</table>\n</div>"
     },
     "execution_count": 102,
     "metadata": {},
     "output_type": "execute_result"
    }
   ],
   "source": [
    "import hashlib\n",
    "\n",
    "#create a hash function\n",
    "def hash_function(text):\n",
    "    return hashlib.sha256(text.encode()).hexdigest()\n",
    "\n",
    "# create a new column for the hashed values\n",
    "df['hashed_Entity'] = df['Entity'].apply(hash_function)\n",
    "\n",
    "#observe the hashed column\n",
    "df.head()  # we have the hashed entity"
   ],
   "metadata": {
    "collapsed": false,
    "ExecuteTime": {
     "end_time": "2023-09-09T19:20:37.408211600Z",
     "start_time": "2023-09-09T19:20:37.349619700Z"
    }
   },
   "id": "62ef5e43a5667284"
  },
  {
   "cell_type": "code",
   "execution_count": 103,
   "outputs": [],
   "source": [
    "# create a copy of the dataframe and drop the Entity column \n",
    "df_copy1 = df.drop(columns={'Entity'})"
   ],
   "metadata": {
    "collapsed": false,
    "ExecuteTime": {
     "end_time": "2023-09-09T19:20:37.594094400Z",
     "start_time": "2023-09-09T19:20:37.545021700Z"
    }
   },
   "id": "cccce59fbb9cacbd"
  },
  {
   "cell_type": "code",
   "execution_count": 104,
   "outputs": [
    {
     "data": {
      "text/plain": "     Index  Year    Records  Organization type                  Method  \\\n0        0  2016    2200000         healthcare                  hacked   \n1        1  2020   14870304  social networking                  hacked   \n2        2  2020     175350         healthcare           poor security   \n3        3  2013  152000000               tech                  hacked   \n4        4  2019    7500000               tech           poor security   \n..     ...   ...        ...                ...                     ...   \n347    347  2019  173000000     social network                  hacked   \n348    348  2020  200000000          financial  accidentally published   \n349    349  2020     391250         healthcare           poor security   \n350    350  2022    6400000            various           poor security   \n351    351  2022      95000             retail  accidentally published   \n\n                                         hashed_Entity  \n0    c3a872f67b2c21449ed696e019d008cbb15b384ed63164...  \n1    39b1d7f5c52ecec4511c7d93214a3dc33915fcb67c51e1...  \n2    d37b82c7c3fef3eb56a05bc88697bd64c489f8b13b9ed8...  \n3    4ea8e5179ec6c6866f040ebfa23a41946cb05bd37b5ebc...  \n4    4e2eb72d6ffd4a841309dcd87b646d2408ac7394956117...  \n..                                                 ...  \n347  637e6be11e5f556343bad0073ff64ddcf396a88cec35d7...  \n348  985ee128022c38982d1de4c4173f538ced9151f0517fe9...  \n349  869ada24f3639cb94ed2dd22ec15aca5928cb7b7c0bc28...  \n350  89def538702db6ab06b39b1d28f5f7980de01dd04bd0a0...  \n351  15b201796837385fb129c2cede3326a4c0a8d07c20283b...  \n\n[352 rows x 6 columns]",
      "text/html": "<div>\n<style scoped>\n    .dataframe tbody tr th:only-of-type {\n        vertical-align: middle;\n    }\n\n    .dataframe tbody tr th {\n        vertical-align: top;\n    }\n\n    .dataframe thead th {\n        text-align: right;\n    }\n</style>\n<table border=\"1\" class=\"dataframe\">\n  <thead>\n    <tr style=\"text-align: right;\">\n      <th></th>\n      <th>Index</th>\n      <th>Year</th>\n      <th>Records</th>\n      <th>Organization type</th>\n      <th>Method</th>\n      <th>hashed_Entity</th>\n    </tr>\n  </thead>\n  <tbody>\n    <tr>\n      <th>0</th>\n      <td>0</td>\n      <td>2016</td>\n      <td>2200000</td>\n      <td>healthcare</td>\n      <td>hacked</td>\n      <td>c3a872f67b2c21449ed696e019d008cbb15b384ed63164...</td>\n    </tr>\n    <tr>\n      <th>1</th>\n      <td>1</td>\n      <td>2020</td>\n      <td>14870304</td>\n      <td>social networking</td>\n      <td>hacked</td>\n      <td>39b1d7f5c52ecec4511c7d93214a3dc33915fcb67c51e1...</td>\n    </tr>\n    <tr>\n      <th>2</th>\n      <td>2</td>\n      <td>2020</td>\n      <td>175350</td>\n      <td>healthcare</td>\n      <td>poor security</td>\n      <td>d37b82c7c3fef3eb56a05bc88697bd64c489f8b13b9ed8...</td>\n    </tr>\n    <tr>\n      <th>3</th>\n      <td>3</td>\n      <td>2013</td>\n      <td>152000000</td>\n      <td>tech</td>\n      <td>hacked</td>\n      <td>4ea8e5179ec6c6866f040ebfa23a41946cb05bd37b5ebc...</td>\n    </tr>\n    <tr>\n      <th>4</th>\n      <td>4</td>\n      <td>2019</td>\n      <td>7500000</td>\n      <td>tech</td>\n      <td>poor security</td>\n      <td>4e2eb72d6ffd4a841309dcd87b646d2408ac7394956117...</td>\n    </tr>\n    <tr>\n      <th>...</th>\n      <td>...</td>\n      <td>...</td>\n      <td>...</td>\n      <td>...</td>\n      <td>...</td>\n      <td>...</td>\n    </tr>\n    <tr>\n      <th>347</th>\n      <td>347</td>\n      <td>2019</td>\n      <td>173000000</td>\n      <td>social network</td>\n      <td>hacked</td>\n      <td>637e6be11e5f556343bad0073ff64ddcf396a88cec35d7...</td>\n    </tr>\n    <tr>\n      <th>348</th>\n      <td>348</td>\n      <td>2020</td>\n      <td>200000000</td>\n      <td>financial</td>\n      <td>accidentally published</td>\n      <td>985ee128022c38982d1de4c4173f538ced9151f0517fe9...</td>\n    </tr>\n    <tr>\n      <th>349</th>\n      <td>349</td>\n      <td>2020</td>\n      <td>391250</td>\n      <td>healthcare</td>\n      <td>poor security</td>\n      <td>869ada24f3639cb94ed2dd22ec15aca5928cb7b7c0bc28...</td>\n    </tr>\n    <tr>\n      <th>350</th>\n      <td>350</td>\n      <td>2022</td>\n      <td>6400000</td>\n      <td>various</td>\n      <td>poor security</td>\n      <td>89def538702db6ab06b39b1d28f5f7980de01dd04bd0a0...</td>\n    </tr>\n    <tr>\n      <th>351</th>\n      <td>351</td>\n      <td>2022</td>\n      <td>95000</td>\n      <td>retail</td>\n      <td>accidentally published</td>\n      <td>15b201796837385fb129c2cede3326a4c0a8d07c20283b...</td>\n    </tr>\n  </tbody>\n</table>\n<p>352 rows × 6 columns</p>\n</div>"
     },
     "execution_count": 104,
     "metadata": {},
     "output_type": "execute_result"
    }
   ],
   "source": [
    "df_copy1 "
   ],
   "metadata": {
    "collapsed": false,
    "ExecuteTime": {
     "end_time": "2023-09-09T19:20:37.803496900Z",
     "start_time": "2023-09-09T19:20:37.688758800Z"
    }
   },
   "id": "1e84958bb201b54a"
  },
  {
   "cell_type": "code",
   "execution_count": 68,
   "outputs": [
    {
     "data": {
      "text/plain": "70"
     },
     "execution_count": 68,
     "metadata": {},
     "output_type": "execute_result"
    }
   ],
   "source": [
    "len(df_copy1['Organization type'].unique())   # in terms of organization type, there's 70 different unique values"
   ],
   "metadata": {
    "collapsed": false,
    "ExecuteTime": {
     "end_time": "2023-09-09T19:20:03.417380100Z",
     "start_time": "2023-09-09T19:20:02.813591Z"
    }
   },
   "id": "8603b602fd5debd5"
  },
  {
   "cell_type": "code",
   "execution_count": 69,
   "outputs": [],
   "source": [
    "# remove the special characters\n",
    "df_copy1['Organization type'] = df_copy1['Organization type'].str.replace(',', '_')  # replace the cases of ',' with '_'.\n",
    "df_copy1['Organization type'] = df_copy1['Organization type'].str.replace(' ', '_') # we also replace the cases of spacing with '_'.\n",
    "df_copy1['Organization type'] = df_copy1['Organization type'].str.replace('__', '_')  # replace all instances of __ with _"
   ],
   "metadata": {
    "collapsed": false,
    "ExecuteTime": {
     "end_time": "2023-09-09T19:20:03.417380100Z",
     "start_time": "2023-09-09T19:20:02.833091200Z"
    }
   },
   "id": "38dc8a351025f36a"
  },
  {
   "cell_type": "code",
   "execution_count": 70,
   "outputs": [
    {
     "data": {
      "text/plain": "     Index  Year    Records  Organization type                  Method  \\\n0        0  2016    2200000         healthcare                  hacked   \n1        1  2020   14870304  social_networking                  hacked   \n2        2  2020     175350         healthcare           poor security   \n3        3  2013  152000000               tech                  hacked   \n4        4  2019    7500000               tech           poor security   \n..     ...   ...        ...                ...                     ...   \n347    347  2019  173000000     social_network                  hacked   \n348    348  2020  200000000          financial  accidentally published   \n349    349  2020     391250         healthcare           poor security   \n350    350  2022    6400000            various           poor security   \n351    351  2022      95000             retail  accidentally published   \n\n                                         hashed_Entity  \n0    c3a872f67b2c21449ed696e019d008cbb15b384ed63164...  \n1    39b1d7f5c52ecec4511c7d93214a3dc33915fcb67c51e1...  \n2    d37b82c7c3fef3eb56a05bc88697bd64c489f8b13b9ed8...  \n3    4ea8e5179ec6c6866f040ebfa23a41946cb05bd37b5ebc...  \n4    4e2eb72d6ffd4a841309dcd87b646d2408ac7394956117...  \n..                                                 ...  \n347  637e6be11e5f556343bad0073ff64ddcf396a88cec35d7...  \n348  985ee128022c38982d1de4c4173f538ced9151f0517fe9...  \n349  869ada24f3639cb94ed2dd22ec15aca5928cb7b7c0bc28...  \n350  89def538702db6ab06b39b1d28f5f7980de01dd04bd0a0...  \n351  15b201796837385fb129c2cede3326a4c0a8d07c20283b...  \n\n[352 rows x 6 columns]",
      "text/html": "<div>\n<style scoped>\n    .dataframe tbody tr th:only-of-type {\n        vertical-align: middle;\n    }\n\n    .dataframe tbody tr th {\n        vertical-align: top;\n    }\n\n    .dataframe thead th {\n        text-align: right;\n    }\n</style>\n<table border=\"1\" class=\"dataframe\">\n  <thead>\n    <tr style=\"text-align: right;\">\n      <th></th>\n      <th>Index</th>\n      <th>Year</th>\n      <th>Records</th>\n      <th>Organization type</th>\n      <th>Method</th>\n      <th>hashed_Entity</th>\n    </tr>\n  </thead>\n  <tbody>\n    <tr>\n      <th>0</th>\n      <td>0</td>\n      <td>2016</td>\n      <td>2200000</td>\n      <td>healthcare</td>\n      <td>hacked</td>\n      <td>c3a872f67b2c21449ed696e019d008cbb15b384ed63164...</td>\n    </tr>\n    <tr>\n      <th>1</th>\n      <td>1</td>\n      <td>2020</td>\n      <td>14870304</td>\n      <td>social_networking</td>\n      <td>hacked</td>\n      <td>39b1d7f5c52ecec4511c7d93214a3dc33915fcb67c51e1...</td>\n    </tr>\n    <tr>\n      <th>2</th>\n      <td>2</td>\n      <td>2020</td>\n      <td>175350</td>\n      <td>healthcare</td>\n      <td>poor security</td>\n      <td>d37b82c7c3fef3eb56a05bc88697bd64c489f8b13b9ed8...</td>\n    </tr>\n    <tr>\n      <th>3</th>\n      <td>3</td>\n      <td>2013</td>\n      <td>152000000</td>\n      <td>tech</td>\n      <td>hacked</td>\n      <td>4ea8e5179ec6c6866f040ebfa23a41946cb05bd37b5ebc...</td>\n    </tr>\n    <tr>\n      <th>4</th>\n      <td>4</td>\n      <td>2019</td>\n      <td>7500000</td>\n      <td>tech</td>\n      <td>poor security</td>\n      <td>4e2eb72d6ffd4a841309dcd87b646d2408ac7394956117...</td>\n    </tr>\n    <tr>\n      <th>...</th>\n      <td>...</td>\n      <td>...</td>\n      <td>...</td>\n      <td>...</td>\n      <td>...</td>\n      <td>...</td>\n    </tr>\n    <tr>\n      <th>347</th>\n      <td>347</td>\n      <td>2019</td>\n      <td>173000000</td>\n      <td>social_network</td>\n      <td>hacked</td>\n      <td>637e6be11e5f556343bad0073ff64ddcf396a88cec35d7...</td>\n    </tr>\n    <tr>\n      <th>348</th>\n      <td>348</td>\n      <td>2020</td>\n      <td>200000000</td>\n      <td>financial</td>\n      <td>accidentally published</td>\n      <td>985ee128022c38982d1de4c4173f538ced9151f0517fe9...</td>\n    </tr>\n    <tr>\n      <th>349</th>\n      <td>349</td>\n      <td>2020</td>\n      <td>391250</td>\n      <td>healthcare</td>\n      <td>poor security</td>\n      <td>869ada24f3639cb94ed2dd22ec15aca5928cb7b7c0bc28...</td>\n    </tr>\n    <tr>\n      <th>350</th>\n      <td>350</td>\n      <td>2022</td>\n      <td>6400000</td>\n      <td>various</td>\n      <td>poor security</td>\n      <td>89def538702db6ab06b39b1d28f5f7980de01dd04bd0a0...</td>\n    </tr>\n    <tr>\n      <th>351</th>\n      <td>351</td>\n      <td>2022</td>\n      <td>95000</td>\n      <td>retail</td>\n      <td>accidentally published</td>\n      <td>15b201796837385fb129c2cede3326a4c0a8d07c20283b...</td>\n    </tr>\n  </tbody>\n</table>\n<p>352 rows × 6 columns</p>\n</div>"
     },
     "execution_count": 70,
     "metadata": {},
     "output_type": "execute_result"
    }
   ],
   "source": [
    "df_copy1"
   ],
   "metadata": {
    "collapsed": false,
    "ExecuteTime": {
     "end_time": "2023-09-09T19:20:03.417380100Z",
     "start_time": "2023-09-09T19:20:02.847272400Z"
    }
   },
   "id": "e1ce8d0263117907"
  },
  {
   "cell_type": "code",
   "execution_count": 71,
   "outputs": [
    {
     "data": {
      "text/plain": "array(['healthcare', 'social_networking', 'tech', 'advertising',\n       'telecommunications', 'transport', 'web', 'financial', 'gaming',\n       'tech_retail', 'telecoms', 'dating', 'government', 'academic',\n       'retail', 'educational_services', 'gambling', 'banking', 'game',\n       'energy', 'background_check', 'information_technology',\n       'hosting_provider', 'military', 'health', 'consulting_accounting',\n       'political', 'messaging_app', 'restaurant',\n       'financial_credit_reporting', 'data_broker', 'social_network',\n       'financial_service_company', 'Information_Security',\n       'personal_and_demographic_data_about_residents_and_their_properties_of_US',\n       'hotel', 'humanitarian', 'special_public_corporation', 'shopping',\n       'local_search', 'mobile_carrier', 'publisher_(magazine)',\n       'government_healthcare', 'software', 'web_military',\n       'online_shopping', 'genealogy', 'media', 'telecom',\n       'QR_code_payment', 'fashion', 'Clinical_Laboratory',\n       'Question_&_Answer', 'web_gaming', 'government_database',\n       'phone_accessories', 'web_tech', 'Network_Monitoring',\n       'market_analysis', 'ticket_distribution', 'social_media',\n       'military_healthcare', 'Telephone_directory', 'Consumer_Goods',\n       'government_military', 'online_marketing', 'arts_group',\n       'web_service', 'tech_web', 'various'], dtype=object)"
     },
     "execution_count": 71,
     "metadata": {},
     "output_type": "execute_result"
    }
   ],
   "source": [
    "df_copy1['Organization type'].unique()"
   ],
   "metadata": {
    "collapsed": false,
    "ExecuteTime": {
     "end_time": "2023-09-09T19:20:03.417380100Z",
     "start_time": "2023-09-09T19:20:02.878799600Z"
    }
   },
   "id": "aa512522e893902e"
  },
  {
   "cell_type": "code",
   "execution_count": 72,
   "outputs": [
    {
     "data": {
      "text/plain": "   Index  Year    Records  Organization type         Method  \\\n0      0  2016    2200000                 30         hacked   \n1      1  2020   14870304                 53         hacked   \n2      2  2020     175350                 30  poor security   \n3      3  2013  152000000                 56         hacked   \n4      4  2019    7500000                 56  poor security   \n\n                                       hashed_Entity  \n0  c3a872f67b2c21449ed696e019d008cbb15b384ed63164...  \n1  39b1d7f5c52ecec4511c7d93214a3dc33915fcb67c51e1...  \n2  d37b82c7c3fef3eb56a05bc88697bd64c489f8b13b9ed8...  \n3  4ea8e5179ec6c6866f040ebfa23a41946cb05bd37b5ebc...  \n4  4e2eb72d6ffd4a841309dcd87b646d2408ac7394956117...  ",
      "text/html": "<div>\n<style scoped>\n    .dataframe tbody tr th:only-of-type {\n        vertical-align: middle;\n    }\n\n    .dataframe tbody tr th {\n        vertical-align: top;\n    }\n\n    .dataframe thead th {\n        text-align: right;\n    }\n</style>\n<table border=\"1\" class=\"dataframe\">\n  <thead>\n    <tr style=\"text-align: right;\">\n      <th></th>\n      <th>Index</th>\n      <th>Year</th>\n      <th>Records</th>\n      <th>Organization type</th>\n      <th>Method</th>\n      <th>hashed_Entity</th>\n    </tr>\n  </thead>\n  <tbody>\n    <tr>\n      <th>0</th>\n      <td>0</td>\n      <td>2016</td>\n      <td>2200000</td>\n      <td>30</td>\n      <td>hacked</td>\n      <td>c3a872f67b2c21449ed696e019d008cbb15b384ed63164...</td>\n    </tr>\n    <tr>\n      <th>1</th>\n      <td>1</td>\n      <td>2020</td>\n      <td>14870304</td>\n      <td>53</td>\n      <td>hacked</td>\n      <td>39b1d7f5c52ecec4511c7d93214a3dc33915fcb67c51e1...</td>\n    </tr>\n    <tr>\n      <th>2</th>\n      <td>2</td>\n      <td>2020</td>\n      <td>175350</td>\n      <td>30</td>\n      <td>poor security</td>\n      <td>d37b82c7c3fef3eb56a05bc88697bd64c489f8b13b9ed8...</td>\n    </tr>\n    <tr>\n      <th>3</th>\n      <td>3</td>\n      <td>2013</td>\n      <td>152000000</td>\n      <td>56</td>\n      <td>hacked</td>\n      <td>4ea8e5179ec6c6866f040ebfa23a41946cb05bd37b5ebc...</td>\n    </tr>\n    <tr>\n      <th>4</th>\n      <td>4</td>\n      <td>2019</td>\n      <td>7500000</td>\n      <td>56</td>\n      <td>poor security</td>\n      <td>4e2eb72d6ffd4a841309dcd87b646d2408ac7394956117...</td>\n    </tr>\n  </tbody>\n</table>\n</div>"
     },
     "execution_count": 72,
     "metadata": {},
     "output_type": "execute_result"
    }
   ],
   "source": [
    "from sklearn.preprocessing import LabelEncoder   # we will be using Label Encoding the Organization type column\n",
    "le = LabelEncoder()\n",
    "\n",
    "# implement label encoding on the Organization type column\n",
    "le.fit(df_copy1['Organization type'])   # fit the data we want to train the encoder on\n",
    "df_copy1['Organization type'] = le.transform(df_copy1['Organization type'])\n",
    "# observe how the column 'Organization Type' has changed\n",
    "df_copy1.head()"
   ],
   "metadata": {
    "collapsed": false,
    "ExecuteTime": {
     "end_time": "2023-09-09T19:20:03.425964400Z",
     "start_time": "2023-09-09T19:20:02.896640200Z"
    }
   },
   "id": "d8136bba27fff91b"
  },
  {
   "cell_type": "code",
   "execution_count": 73,
   "outputs": [
    {
     "data": {
      "text/plain": "Index                 int64\nYear                 object\nRecords              object\nOrganization type     int32\nMethod               object\nhashed_Entity        object\ndtype: object"
     },
     "execution_count": 73,
     "metadata": {},
     "output_type": "execute_result"
    }
   ],
   "source": [
    "df_copy1.dtypes   # as we can see, the Organization type changed from Object --> intger datatype"
   ],
   "metadata": {
    "collapsed": false,
    "ExecuteTime": {
     "end_time": "2023-09-09T19:20:03.427983800Z",
     "start_time": "2023-09-09T19:20:02.925385200Z"
    }
   },
   "id": "beeae597c9415ca"
  },
  {
   "cell_type": "code",
   "execution_count": 74,
   "outputs": [
    {
     "data": {
      "text/plain": "65    53\n30    47\n18    38\n25    30\n49    27\n      ..\n33     1\n55     1\n50     1\n35     1\n64     1\nName: Organization type, Length: 70, dtype: int64"
     },
     "execution_count": 74,
     "metadata": {},
     "output_type": "execute_result"
    }
   ],
   "source": [
    "# observe the label frequency, to gain an understanding of outliers and inlier values\n",
    "df_copy1['Organization type'].value_counts()    # some values to note: 7 repeats 13 times, 18 repeats 38  times, 23 repeats 12 times, 25 repeats 30 times, 30 repeats 47 times, 49 repeats 27 times."
   ],
   "metadata": {
    "collapsed": false,
    "ExecuteTime": {
     "end_time": "2023-09-09T19:20:03.427983800Z",
     "start_time": "2023-09-09T19:20:02.940609300Z"
    }
   },
   "id": "bf9bc04877c52067"
  },
  {
   "cell_type": "code",
   "execution_count": 75,
   "outputs": [
    {
     "data": {
      "text/plain": "0                      hacked\n1                      hacked\n2               poor security\n3                      hacked\n4               poor security\n                ...          \n347                    hacked\n348    accidentally published\n349             poor security\n350             poor security\n351    accidentally published\nName: Method, Length: 352, dtype: object"
     },
     "execution_count": 75,
     "metadata": {},
     "output_type": "execute_result"
    }
   ],
   "source": [
    "df_copy1['Method']"
   ],
   "metadata": {
    "collapsed": false,
    "ExecuteTime": {
     "end_time": "2023-09-09T19:20:03.427983800Z",
     "start_time": "2023-09-09T19:20:02.955234800Z"
    }
   },
   "id": "6c2f14c41cfaefbd"
  },
  {
   "cell_type": "code",
   "execution_count": 76,
   "outputs": [
    {
     "data": {
      "text/plain": "array(['hacked', 'poor security', 'lost / stolen media',\n       'accidentally published', 'inside job, hacked',\n       'lost / stolen computer', 'unknown', 'unsecured S3 bucket',\n       'inside job', nan, 'accidentally uploaded',\n       'poor security / hacked', 'Poor security', 'unprotected api',\n       'poor security/inside job', 'data exposed by misconfiguration',\n       'zero-day vulnerabilities', 'intentionally lost',\n       'misconfiguration/poor security', 'ransomware hacked',\n       'rogue contractor', 'improper setting, hacked',\n       'hacked/misconfiguration',\n       'publicly accessible Amazon Web Services (AWS) server',\n       'accidentally exposed', 'social engineering'], dtype=object)"
     },
     "execution_count": 76,
     "metadata": {},
     "output_type": "execute_result"
    }
   ],
   "source": [
    "df_copy1['Method'].unique()"
   ],
   "metadata": {
    "collapsed": false,
    "ExecuteTime": {
     "end_time": "2023-09-09T19:20:03.427983800Z",
     "start_time": "2023-09-09T19:20:02.974881300Z"
    }
   },
   "id": "92d34f54c0a578de"
  },
  {
   "cell_type": "code",
   "execution_count": 77,
   "outputs": [
    {
     "data": {
      "text/plain": "hacked                                                  192\npoor security                                            43\nlost / stolen media                                      33\naccidentally published                                   21\ninside job                                               19\nlost / stolen computer                                   16\nunknown                                                   7\nimproper setting, hacked                                  2\npoor security/inside job                                  2\nintentionally lost                                        1\naccidentally exposed                                      1\npublicly accessible Amazon Web Services (AWS) server      1\nhacked/misconfiguration                                   1\nrogue contractor                                          1\nransomware hacked                                         1\nmisconfiguration/poor security                            1\nunprotected api                                           1\nzero-day vulnerabilities                                  1\ndata exposed by misconfiguration                          1\nPoor security                                             1\npoor security / hacked                                    1\naccidentally uploaded                                     1\nunsecured S3 bucket                                       1\ninside job, hacked                                        1\nsocial engineering                                        1\nName: Method, dtype: int64"
     },
     "execution_count": 77,
     "metadata": {},
     "output_type": "execute_result"
    }
   ],
   "source": [
    "\"\"# seems like the method column contains certain NaN values and certain Unknown values, we will need to determine whether we replace such values or drop them in its entirety\n",
    "df_copy1['Method'].value_counts()"
   ],
   "metadata": {
    "collapsed": false,
    "ExecuteTime": {
     "end_time": "2023-09-09T19:20:03.432040600Z",
     "start_time": "2023-09-09T19:20:02.991663500Z"
    }
   },
   "id": "a8c301eddc412f9b"
  },
  {
   "cell_type": "code",
   "execution_count": 78,
   "outputs": [
    {
     "data": {
      "text/plain": "     Index  Year    Records  Organization type                  Method  \\\n0        0  2016    2200000                 30                  hacked   \n1        1  2020   14870304                 53                  hacked   \n2        2  2020     175350                 30           poor security   \n3        3  2013  152000000                 56                  hacked   \n4        4  2019    7500000                 56           poor security   \n..     ...   ...        ...                ...                     ...   \n347    347  2019  173000000                 52                  hacked   \n348    348  2020  200000000                 18  accidentally published   \n349    349  2020     391250                 30           poor security   \n350    350  2022    6400000                 64           poor security   \n351    351  2022      95000                 49  accidentally published   \n\n                                         hashed_Entity  \n0    c3a872f67b2c21449ed696e019d008cbb15b384ed63164...  \n1    39b1d7f5c52ecec4511c7d93214a3dc33915fcb67c51e1...  \n2    d37b82c7c3fef3eb56a05bc88697bd64c489f8b13b9ed8...  \n3    4ea8e5179ec6c6866f040ebfa23a41946cb05bd37b5ebc...  \n4    4e2eb72d6ffd4a841309dcd87b646d2408ac7394956117...  \n..                                                 ...  \n347  637e6be11e5f556343bad0073ff64ddcf396a88cec35d7...  \n348  985ee128022c38982d1de4c4173f538ced9151f0517fe9...  \n349  869ada24f3639cb94ed2dd22ec15aca5928cb7b7c0bc28...  \n350  89def538702db6ab06b39b1d28f5f7980de01dd04bd0a0...  \n351  15b201796837385fb129c2cede3326a4c0a8d07c20283b...  \n\n[349 rows x 6 columns]",
      "text/html": "<div>\n<style scoped>\n    .dataframe tbody tr th:only-of-type {\n        vertical-align: middle;\n    }\n\n    .dataframe tbody tr th {\n        vertical-align: top;\n    }\n\n    .dataframe thead th {\n        text-align: right;\n    }\n</style>\n<table border=\"1\" class=\"dataframe\">\n  <thead>\n    <tr style=\"text-align: right;\">\n      <th></th>\n      <th>Index</th>\n      <th>Year</th>\n      <th>Records</th>\n      <th>Organization type</th>\n      <th>Method</th>\n      <th>hashed_Entity</th>\n    </tr>\n  </thead>\n  <tbody>\n    <tr>\n      <th>0</th>\n      <td>0</td>\n      <td>2016</td>\n      <td>2200000</td>\n      <td>30</td>\n      <td>hacked</td>\n      <td>c3a872f67b2c21449ed696e019d008cbb15b384ed63164...</td>\n    </tr>\n    <tr>\n      <th>1</th>\n      <td>1</td>\n      <td>2020</td>\n      <td>14870304</td>\n      <td>53</td>\n      <td>hacked</td>\n      <td>39b1d7f5c52ecec4511c7d93214a3dc33915fcb67c51e1...</td>\n    </tr>\n    <tr>\n      <th>2</th>\n      <td>2</td>\n      <td>2020</td>\n      <td>175350</td>\n      <td>30</td>\n      <td>poor security</td>\n      <td>d37b82c7c3fef3eb56a05bc88697bd64c489f8b13b9ed8...</td>\n    </tr>\n    <tr>\n      <th>3</th>\n      <td>3</td>\n      <td>2013</td>\n      <td>152000000</td>\n      <td>56</td>\n      <td>hacked</td>\n      <td>4ea8e5179ec6c6866f040ebfa23a41946cb05bd37b5ebc...</td>\n    </tr>\n    <tr>\n      <th>4</th>\n      <td>4</td>\n      <td>2019</td>\n      <td>7500000</td>\n      <td>56</td>\n      <td>poor security</td>\n      <td>4e2eb72d6ffd4a841309dcd87b646d2408ac7394956117...</td>\n    </tr>\n    <tr>\n      <th>...</th>\n      <td>...</td>\n      <td>...</td>\n      <td>...</td>\n      <td>...</td>\n      <td>...</td>\n      <td>...</td>\n    </tr>\n    <tr>\n      <th>347</th>\n      <td>347</td>\n      <td>2019</td>\n      <td>173000000</td>\n      <td>52</td>\n      <td>hacked</td>\n      <td>637e6be11e5f556343bad0073ff64ddcf396a88cec35d7...</td>\n    </tr>\n    <tr>\n      <th>348</th>\n      <td>348</td>\n      <td>2020</td>\n      <td>200000000</td>\n      <td>18</td>\n      <td>accidentally published</td>\n      <td>985ee128022c38982d1de4c4173f538ced9151f0517fe9...</td>\n    </tr>\n    <tr>\n      <th>349</th>\n      <td>349</td>\n      <td>2020</td>\n      <td>391250</td>\n      <td>30</td>\n      <td>poor security</td>\n      <td>869ada24f3639cb94ed2dd22ec15aca5928cb7b7c0bc28...</td>\n    </tr>\n    <tr>\n      <th>350</th>\n      <td>350</td>\n      <td>2022</td>\n      <td>6400000</td>\n      <td>64</td>\n      <td>poor security</td>\n      <td>89def538702db6ab06b39b1d28f5f7980de01dd04bd0a0...</td>\n    </tr>\n    <tr>\n      <th>351</th>\n      <td>351</td>\n      <td>2022</td>\n      <td>95000</td>\n      <td>49</td>\n      <td>accidentally published</td>\n      <td>15b201796837385fb129c2cede3326a4c0a8d07c20283b...</td>\n    </tr>\n  </tbody>\n</table>\n<p>349 rows × 6 columns</p>\n</div>"
     },
     "execution_count": 78,
     "metadata": {},
     "output_type": "execute_result"
    }
   ],
   "source": [
    "\"\"\"Two changes needs to be made regarding the method column\n",
    "    1. Replace the \"Unknown\" value with the most frequently repeated word\n",
    "    2. Drop any NaN values if it exists\n",
    "\"\"\"\n",
    "\n",
    "most_frequent_word = df_copy1['Method'].value_counts().index[0]\n",
    "#replace all occurences of \"Unknown\" with \"Hacked\"\n",
    "df_copy1['Method'].replace('unknown', most_frequent_word, inplace=True)\n",
    "\n",
    "# drop any NaN values\n",
    "df_copy1.dropna(inplace=True)\n",
    "\n",
    "# Print the dataframe\n",
    "df_copy1\n"
   ],
   "metadata": {
    "collapsed": false,
    "ExecuteTime": {
     "end_time": "2023-09-09T19:20:03.432040600Z",
     "start_time": "2023-09-09T19:20:03.002592600Z"
    }
   },
   "id": "b2bd475012cbaf9a"
  },
  {
   "cell_type": "code",
   "execution_count": 79,
   "outputs": [
    {
     "data": {
      "text/plain": "False"
     },
     "execution_count": 79,
     "metadata": {},
     "output_type": "execute_result"
    }
   ],
   "source": [
    "# let's verify if the method column contains any nan/null values\n",
    "df_copy1['Method'].isnull().all()   # seems that none of the values here contain any more null values"
   ],
   "metadata": {
    "collapsed": false,
    "ExecuteTime": {
     "end_time": "2023-09-09T19:20:03.432040600Z",
     "start_time": "2023-09-09T19:20:03.034179100Z"
    }
   },
   "id": "637d2b426b89eef3"
  },
  {
   "cell_type": "code",
   "execution_count": 80,
   "outputs": [
    {
     "name": "stdout",
     "output_type": "stream",
     "text": [
      "['hacked', 'poor security', 'lost / stolen media', 'accidentally published', 'inside job, hacked', 'lost / stolen computer', 'unsecured S3 bucket', 'inside job', 'accidentally uploaded', 'poor security / hacked', 'Poor security', 'unprotected api', 'poor security/inside job', 'data exposed by misconfiguration', 'zero-day vulnerabilities', 'intentionally lost', 'misconfiguration/poor security', 'ransomware hacked', 'rogue contractor', 'improper setting, hacked', 'hacked/misconfiguration', 'publicly accessible Amazon Web Services (AWS) server', 'accidentally exposed', 'social engineering']\n"
     ]
    },
    {
     "data": {
      "text/plain": "[198, 43, 33, 20, 19, 16, 2, 2, 1, 1, 1, 1, 1, 1, 1, 1, 1, 1, 1, 1, 1, 1, 1, 1]"
     },
     "execution_count": 80,
     "metadata": {},
     "output_type": "execute_result"
    }
   ],
   "source": [
    "print(list(df_copy1['Method'].unique()))   # based on the list, we can see that the Method column doesn't contain unknown anymore.\n",
    "list(df_copy1['Method'].value_counts())   # we also gain insight into the frequency of the methods being repeated, there's 24 methods, therefore, the label encoding will range from 0-23"
   ],
   "metadata": {
    "collapsed": false,
    "ExecuteTime": {
     "end_time": "2023-09-09T19:20:03.438779200Z",
     "start_time": "2023-09-09T19:20:03.049184600Z"
    }
   },
   "id": "6ec8a20de5f47bd4"
  },
  {
   "cell_type": "code",
   "execution_count": 81,
   "outputs": [
    {
     "data": {
      "text/plain": "['hacked',\n 'poor_security',\n 'lost_stolen_media',\n 'accidentally_published',\n 'inside_job,_hacked',\n 'lost_stolen_computer',\n 'unsecured_s3_bucket',\n 'inside_job',\n 'accidentally_uploaded',\n 'poor_security_hacked',\n 'unprotected_api',\n 'poor_security_inside_job',\n 'data_exposed_by_misconfiguration',\n 'zero-day_vulnerabilities',\n 'intentionally_lost',\n 'misconfiguration_poor_security',\n 'ransomware_hacked',\n 'rogue_contractor',\n 'improper_setting,_hacked',\n 'hacked_misconfiguration',\n 'publicly_accessible_amazon_web_services_(aws)_server',\n 'accidentally_exposed',\n 'social_engineering']"
     },
     "execution_count": 81,
     "metadata": {},
     "output_type": "execute_result"
    }
   ],
   "source": [
    "# prior to implementing label encoding, we will need to clear up the string of some grammatical issues that will cause mismatched data when we train the model otherwise\n",
    "\n",
    "# convert all uppercase letters to lowercase\n",
    "df_copy1['Method'] = df_copy1['Method'].str.lower()\n",
    "\n",
    "# replace all spaces with \"_\"\n",
    "df_copy1['Method'] = df_copy1['Method'].str.replace(' ', '_')\n",
    "\n",
    "# replace all slash signs with \"_\"\n",
    "df_copy1['Method'] = df_copy1['Method'].str.replace('/', '_')\n",
    "\n",
    "# replace all __ and ___ with _\n",
    "df_copy1['Method'] = df_copy1['Method'].str.replace('___', '_')\n",
    "df_copy1['Method'] = df_copy1['Method'].str.replace('__', '_')\n",
    "\n",
    "# check the updated dataframe\n",
    "list(df_copy1['Method'].unique())"
   ],
   "metadata": {
    "collapsed": false,
    "ExecuteTime": {
     "end_time": "2023-09-09T19:20:03.740022400Z",
     "start_time": "2023-09-09T19:20:03.066149600Z"
    }
   },
   "id": "6dc22b2bec14c0fc"
  },
  {
   "cell_type": "code",
   "execution_count": 82,
   "outputs": [
    {
     "data": {
      "text/plain": "     Index  Year    Records  Organization type  Method  \\\n0        0  2016    2200000                 30       4   \n1        1  2020   14870304                 53       4   \n2        2  2020     175350                 30      13   \n3        3  2013  152000000                 56       4   \n4        4  2019    7500000                 56      13   \n..     ...   ...        ...                ...     ...   \n347    347  2019  173000000                 52       4   \n348    348  2020  200000000                 18       1   \n349    349  2020     391250                 30      13   \n350    350  2022    6400000                 64      13   \n351    351  2022      95000                 49       1   \n\n                                         hashed_Entity  \n0    c3a872f67b2c21449ed696e019d008cbb15b384ed63164...  \n1    39b1d7f5c52ecec4511c7d93214a3dc33915fcb67c51e1...  \n2    d37b82c7c3fef3eb56a05bc88697bd64c489f8b13b9ed8...  \n3    4ea8e5179ec6c6866f040ebfa23a41946cb05bd37b5ebc...  \n4    4e2eb72d6ffd4a841309dcd87b646d2408ac7394956117...  \n..                                                 ...  \n347  637e6be11e5f556343bad0073ff64ddcf396a88cec35d7...  \n348  985ee128022c38982d1de4c4173f538ced9151f0517fe9...  \n349  869ada24f3639cb94ed2dd22ec15aca5928cb7b7c0bc28...  \n350  89def538702db6ab06b39b1d28f5f7980de01dd04bd0a0...  \n351  15b201796837385fb129c2cede3326a4c0a8d07c20283b...  \n\n[349 rows x 6 columns]",
      "text/html": "<div>\n<style scoped>\n    .dataframe tbody tr th:only-of-type {\n        vertical-align: middle;\n    }\n\n    .dataframe tbody tr th {\n        vertical-align: top;\n    }\n\n    .dataframe thead th {\n        text-align: right;\n    }\n</style>\n<table border=\"1\" class=\"dataframe\">\n  <thead>\n    <tr style=\"text-align: right;\">\n      <th></th>\n      <th>Index</th>\n      <th>Year</th>\n      <th>Records</th>\n      <th>Organization type</th>\n      <th>Method</th>\n      <th>hashed_Entity</th>\n    </tr>\n  </thead>\n  <tbody>\n    <tr>\n      <th>0</th>\n      <td>0</td>\n      <td>2016</td>\n      <td>2200000</td>\n      <td>30</td>\n      <td>4</td>\n      <td>c3a872f67b2c21449ed696e019d008cbb15b384ed63164...</td>\n    </tr>\n    <tr>\n      <th>1</th>\n      <td>1</td>\n      <td>2020</td>\n      <td>14870304</td>\n      <td>53</td>\n      <td>4</td>\n      <td>39b1d7f5c52ecec4511c7d93214a3dc33915fcb67c51e1...</td>\n    </tr>\n    <tr>\n      <th>2</th>\n      <td>2</td>\n      <td>2020</td>\n      <td>175350</td>\n      <td>30</td>\n      <td>13</td>\n      <td>d37b82c7c3fef3eb56a05bc88697bd64c489f8b13b9ed8...</td>\n    </tr>\n    <tr>\n      <th>3</th>\n      <td>3</td>\n      <td>2013</td>\n      <td>152000000</td>\n      <td>56</td>\n      <td>4</td>\n      <td>4ea8e5179ec6c6866f040ebfa23a41946cb05bd37b5ebc...</td>\n    </tr>\n    <tr>\n      <th>4</th>\n      <td>4</td>\n      <td>2019</td>\n      <td>7500000</td>\n      <td>56</td>\n      <td>13</td>\n      <td>4e2eb72d6ffd4a841309dcd87b646d2408ac7394956117...</td>\n    </tr>\n    <tr>\n      <th>...</th>\n      <td>...</td>\n      <td>...</td>\n      <td>...</td>\n      <td>...</td>\n      <td>...</td>\n      <td>...</td>\n    </tr>\n    <tr>\n      <th>347</th>\n      <td>347</td>\n      <td>2019</td>\n      <td>173000000</td>\n      <td>52</td>\n      <td>4</td>\n      <td>637e6be11e5f556343bad0073ff64ddcf396a88cec35d7...</td>\n    </tr>\n    <tr>\n      <th>348</th>\n      <td>348</td>\n      <td>2020</td>\n      <td>200000000</td>\n      <td>18</td>\n      <td>1</td>\n      <td>985ee128022c38982d1de4c4173f538ced9151f0517fe9...</td>\n    </tr>\n    <tr>\n      <th>349</th>\n      <td>349</td>\n      <td>2020</td>\n      <td>391250</td>\n      <td>30</td>\n      <td>13</td>\n      <td>869ada24f3639cb94ed2dd22ec15aca5928cb7b7c0bc28...</td>\n    </tr>\n    <tr>\n      <th>350</th>\n      <td>350</td>\n      <td>2022</td>\n      <td>6400000</td>\n      <td>64</td>\n      <td>13</td>\n      <td>89def538702db6ab06b39b1d28f5f7980de01dd04bd0a0...</td>\n    </tr>\n    <tr>\n      <th>351</th>\n      <td>351</td>\n      <td>2022</td>\n      <td>95000</td>\n      <td>49</td>\n      <td>1</td>\n      <td>15b201796837385fb129c2cede3326a4c0a8d07c20283b...</td>\n    </tr>\n  </tbody>\n</table>\n<p>349 rows × 6 columns</p>\n</div>"
     },
     "execution_count": 82,
     "metadata": {},
     "output_type": "execute_result"
    }
   ],
   "source": [
    "# now the method column is ready for label encoding preprocessing, since we already called on the label encoder previously, we can reuse it\n",
    "le.fit(df_copy1['Method'])  # train the label encoder on the column data we want to train\n",
    "df_copy1['Method'] = le.transform(df_copy1['Method'])\n",
    "df_copy1   # observe that method has been successfully encoded by label"
   ],
   "metadata": {
    "collapsed": false,
    "ExecuteTime": {
     "end_time": "2023-09-09T19:20:03.740022400Z",
     "start_time": "2023-09-09T19:20:03.112754400Z"
    }
   },
   "id": "226c00a1c46c21c5"
  },
  {
   "cell_type": "code",
   "execution_count": 83,
   "outputs": [
    {
     "name": "stdout",
     "output_type": "stream",
     "text": [
      "min: 0\n",
      "max: 22\n"
     ]
    }
   ],
   "source": [
    "# let's take a look at the minimum and maximum values\n",
    "print('min:', min(df_copy1['Method']))\n",
    "print('max:', max(df_copy1['Method']))  # the smallest value is represented using 0 and the largest value is represented using 22"
   ],
   "metadata": {
    "collapsed": false,
    "ExecuteTime": {
     "end_time": "2023-09-09T19:20:03.740022400Z",
     "start_time": "2023-09-09T19:20:03.129281400Z"
    }
   },
   "id": "4a8391986fffbde3"
  },
  {
   "cell_type": "code",
   "execution_count": 84,
   "outputs": [
    {
     "data": {
      "text/plain": "4     198\n13     44\n11     33\n1      20\n7      19\n10     16\n6       2\n15      2\n2       1\n14      1\n20      1\n21      1\n3       1\n22      1\n9       1\n12      1\n17      1\n18      1\n8       1\n5       1\n16      1\n0       1\n19      1\nName: Method, dtype: int64"
     },
     "execution_count": 84,
     "metadata": {},
     "output_type": "execute_result"
    }
   ],
   "source": [
    "df_copy1['Method'].value_counts()  # judging by the values shown here, seems like 4 represents 'hacked'"
   ],
   "metadata": {
    "collapsed": false,
    "ExecuteTime": {
     "end_time": "2023-09-09T19:20:03.740022400Z",
     "start_time": "2023-09-09T19:20:03.149368100Z"
    }
   },
   "id": "34cc7ca0e870548e"
  },
  {
   "cell_type": "code",
   "execution_count": 85,
   "outputs": [
    {
     "data": {
      "text/plain": "Index                 int64\nYear                 object\nRecords              object\nOrganization type     int32\nMethod                int32\nhashed_Entity        object\ndtype: object"
     },
     "execution_count": 85,
     "metadata": {},
     "output_type": "execute_result"
    }
   ],
   "source": [
    "df_copy1.dtypes  # reobserve the data, as we can see, the columns that are of object datatype needs to be changed"
   ],
   "metadata": {
    "collapsed": false,
    "ExecuteTime": {
     "end_time": "2023-09-09T19:20:03.740022400Z",
     "start_time": "2023-09-09T19:20:03.176187100Z"
    }
   },
   "id": "538534f6dc02a826"
  },
  {
   "cell_type": "code",
   "execution_count": 86,
   "outputs": [
    {
     "data": {
      "text/plain": "Index                 int64\nYear                 object\nRecords              object\nOrganization type     int32\nMethod                int32\nhashed_Entity        object\ndtype: object"
     },
     "execution_count": 86,
     "metadata": {},
     "output_type": "execute_result"
    }
   ],
   "source": [
    "object_to_numeric = ['Year', 'Records', 'hashed_Entity']\n",
    "df_copy1[object_to_numeric] = df_copy1[object_to_numeric].apply(pd.to_numeric, errors=\"ignore\", axis=1)   # we have successfully converted the dataframe from object to float, this ensures it's ready to be trained using machine learning model\n",
    "df_copy1.dtypes"
   ],
   "metadata": {
    "collapsed": false,
    "ExecuteTime": {
     "end_time": "2023-09-09T19:20:03.740022400Z",
     "start_time": "2023-09-09T19:20:03.232405900Z"
    }
   },
   "id": "a500f423ffe8d0bb"
  },
  {
   "cell_type": "code",
   "execution_count": 87,
   "outputs": [
    {
     "data": {
      "text/plain": "     Index  Year    Records  Organization type  Method  \\\n0        0  2016    2200000                 30       4   \n1        1  2020   14870304                 53       4   \n2        2  2020     175350                 30      13   \n3        3  2013  152000000                 56       4   \n4        4  2019    7500000                 56      13   \n..     ...   ...        ...                ...     ...   \n347    347  2019  173000000                 52       4   \n348    348  2020  200000000                 18       1   \n349    349  2020     391250                 30      13   \n350    350  2022    6400000                 64      13   \n351    351  2022      95000                 49       1   \n\n                                         hashed_Entity  \n0    c3a872f67b2c21449ed696e019d008cbb15b384ed63164...  \n1    39b1d7f5c52ecec4511c7d93214a3dc33915fcb67c51e1...  \n2    d37b82c7c3fef3eb56a05bc88697bd64c489f8b13b9ed8...  \n3    4ea8e5179ec6c6866f040ebfa23a41946cb05bd37b5ebc...  \n4    4e2eb72d6ffd4a841309dcd87b646d2408ac7394956117...  \n..                                                 ...  \n347  637e6be11e5f556343bad0073ff64ddcf396a88cec35d7...  \n348  985ee128022c38982d1de4c4173f538ced9151f0517fe9...  \n349  869ada24f3639cb94ed2dd22ec15aca5928cb7b7c0bc28...  \n350  89def538702db6ab06b39b1d28f5f7980de01dd04bd0a0...  \n351  15b201796837385fb129c2cede3326a4c0a8d07c20283b...  \n\n[349 rows x 6 columns]",
      "text/html": "<div>\n<style scoped>\n    .dataframe tbody tr th:only-of-type {\n        vertical-align: middle;\n    }\n\n    .dataframe tbody tr th {\n        vertical-align: top;\n    }\n\n    .dataframe thead th {\n        text-align: right;\n    }\n</style>\n<table border=\"1\" class=\"dataframe\">\n  <thead>\n    <tr style=\"text-align: right;\">\n      <th></th>\n      <th>Index</th>\n      <th>Year</th>\n      <th>Records</th>\n      <th>Organization type</th>\n      <th>Method</th>\n      <th>hashed_Entity</th>\n    </tr>\n  </thead>\n  <tbody>\n    <tr>\n      <th>0</th>\n      <td>0</td>\n      <td>2016</td>\n      <td>2200000</td>\n      <td>30</td>\n      <td>4</td>\n      <td>c3a872f67b2c21449ed696e019d008cbb15b384ed63164...</td>\n    </tr>\n    <tr>\n      <th>1</th>\n      <td>1</td>\n      <td>2020</td>\n      <td>14870304</td>\n      <td>53</td>\n      <td>4</td>\n      <td>39b1d7f5c52ecec4511c7d93214a3dc33915fcb67c51e1...</td>\n    </tr>\n    <tr>\n      <th>2</th>\n      <td>2</td>\n      <td>2020</td>\n      <td>175350</td>\n      <td>30</td>\n      <td>13</td>\n      <td>d37b82c7c3fef3eb56a05bc88697bd64c489f8b13b9ed8...</td>\n    </tr>\n    <tr>\n      <th>3</th>\n      <td>3</td>\n      <td>2013</td>\n      <td>152000000</td>\n      <td>56</td>\n      <td>4</td>\n      <td>4ea8e5179ec6c6866f040ebfa23a41946cb05bd37b5ebc...</td>\n    </tr>\n    <tr>\n      <th>4</th>\n      <td>4</td>\n      <td>2019</td>\n      <td>7500000</td>\n      <td>56</td>\n      <td>13</td>\n      <td>4e2eb72d6ffd4a841309dcd87b646d2408ac7394956117...</td>\n    </tr>\n    <tr>\n      <th>...</th>\n      <td>...</td>\n      <td>...</td>\n      <td>...</td>\n      <td>...</td>\n      <td>...</td>\n      <td>...</td>\n    </tr>\n    <tr>\n      <th>347</th>\n      <td>347</td>\n      <td>2019</td>\n      <td>173000000</td>\n      <td>52</td>\n      <td>4</td>\n      <td>637e6be11e5f556343bad0073ff64ddcf396a88cec35d7...</td>\n    </tr>\n    <tr>\n      <th>348</th>\n      <td>348</td>\n      <td>2020</td>\n      <td>200000000</td>\n      <td>18</td>\n      <td>1</td>\n      <td>985ee128022c38982d1de4c4173f538ced9151f0517fe9...</td>\n    </tr>\n    <tr>\n      <th>349</th>\n      <td>349</td>\n      <td>2020</td>\n      <td>391250</td>\n      <td>30</td>\n      <td>13</td>\n      <td>869ada24f3639cb94ed2dd22ec15aca5928cb7b7c0bc28...</td>\n    </tr>\n    <tr>\n      <th>350</th>\n      <td>350</td>\n      <td>2022</td>\n      <td>6400000</td>\n      <td>64</td>\n      <td>13</td>\n      <td>89def538702db6ab06b39b1d28f5f7980de01dd04bd0a0...</td>\n    </tr>\n    <tr>\n      <th>351</th>\n      <td>351</td>\n      <td>2022</td>\n      <td>95000</td>\n      <td>49</td>\n      <td>1</td>\n      <td>15b201796837385fb129c2cede3326a4c0a8d07c20283b...</td>\n    </tr>\n  </tbody>\n</table>\n<p>349 rows × 6 columns</p>\n</div>"
     },
     "execution_count": 87,
     "metadata": {},
     "output_type": "execute_result"
    }
   ],
   "source": [
    "df_copy1"
   ],
   "metadata": {
    "collapsed": false,
    "ExecuteTime": {
     "end_time": "2023-09-09T19:20:03.740022400Z",
     "start_time": "2023-09-09T19:20:03.286655600Z"
    }
   },
   "id": "c2ec8854588b7b18"
  },
  {
   "cell_type": "code",
   "execution_count": 88,
   "outputs": [
    {
     "data": {
      "text/plain": "False"
     },
     "execution_count": 88,
     "metadata": {},
     "output_type": "execute_result"
    }
   ],
   "source": [
    "df_copy1.isnull().values.any()   # the entirety of the dataframe does not contain any null values."
   ],
   "metadata": {
    "collapsed": false,
    "ExecuteTime": {
     "end_time": "2023-09-09T19:20:03.740022400Z",
     "start_time": "2023-09-09T19:20:03.317731Z"
    }
   },
   "id": "5cb87cac2c1e7490"
  },
  {
   "cell_type": "code",
   "execution_count": 89,
   "outputs": [
    {
     "data": {
      "text/plain": "Index(['Index', 'Entity', 'Year', 'Records', 'Organization type', 'Method',\n       'hashed_Entity'],\n      dtype='object')"
     },
     "execution_count": 89,
     "metadata": {},
     "output_type": "execute_result"
    }
   ],
   "source": [
    "df.columns"
   ],
   "metadata": {
    "collapsed": false,
    "ExecuteTime": {
     "end_time": "2023-09-09T19:20:03.748110100Z",
     "start_time": "2023-09-09T19:20:03.335555Z"
    }
   },
   "id": "862344dad3f7099"
  },
  {
   "cell_type": "markdown",
   "source": [
    "Marks the end of the data preprcoessing."
   ],
   "metadata": {
    "collapsed": false
   },
   "id": "943417e8484d5b66"
  },
  {
   "cell_type": "code",
   "execution_count": 90,
   "outputs": [],
   "source": [
    "# using the original tabel where the name of the Entities as well as the hashed entities are together, using that we can create a lookup table in the form of a dictionary\n",
    "\n",
    "dictionary = {}  # create a dictionary that maps the hashed company names to the original company names\n",
    "\n",
    "for index, row in df.iterrows():\n",
    "    hashed_company_name = row[\"hashed_Entity\"]\n",
    "    original_company_name = row[\"Entity\"]\n",
    "    dictionary[hashed_company_name] = original_company_name\n",
    "    "
   ],
   "metadata": {
    "collapsed": false,
    "ExecuteTime": {
     "end_time": "2023-09-09T19:20:03.844269800Z",
     "start_time": "2023-09-09T19:20:03.395959700Z"
    }
   },
   "id": "40821708fe9172b1"
  },
  {
   "cell_type": "code",
   "execution_count": 91,
   "outputs": [
    {
     "data": {
      "text/plain": "{'c3a872f67b2c21449ed696e019d008cbb15b384ed63164e81323988f392393b8': '21st Century Oncology',\n '39b1d7f5c52ecec4511c7d93214a3dc33915fcb67c51e11567530c81d23dc0e8': '500px',\n 'd37b82c7c3fef3eb56a05bc88697bd64c489f8b13b9ed8f7981228bc35b52cff': 'Accendo Insurance Co.',\n '4ea8e5179ec6c6866f040ebfa23a41946cb05bd37b5ebccc3fc50eeddde049c4': 'Adobe Systems Incorporated',\n '4e2eb72d6ffd4a841309dcd87b646d2408ac7394956117693744b8be8c7b7fcf': 'Adobe Inc.',\n 'af361c9abf383a77a99945a0c69f6f20c2c3d9071a110fabef8f453a67a2518a': 'Advocate Medical Group',\n 'a911e109f9deb9670641003e51f943c3b68e87b9fb90ebb159aa0112df8e031c': 'AerServ (subsidiary of InMobi)',\n '122698080b869d034496ec8437ef1a36bc1991344fc5b412b8bb655b6a5033e6': 'Affinity Health Plan, Inc.',\n '8f96973ac6f41ec98492711f4bb5d7197df6fd62d3216f488a269968b0d8dd07': 'Airtel',\n 'b81e4231ad14925e7b2a1e20687aae512273423e7ffe9fb8c9d6d37fbd04ade8': 'Air Canada',\n '5ab772f3a8ed175a9a525b6deda16620558ddf98a281a3cd3dc62a80da92c4c5': 'Amazon Japan G.K.',\n '35da57f1fd3c2a47a6f8422cb69c27b3e071933e9bba9bb28c2e394fb0d6fcce': 'TD Ameritrade',\n '401f9b80805c835b898fa94518867e57bbddbcaf63f284e195c0608ed6d5689a': 'Ancestry.com',\n 'aacd72648bfc12b9d35bbfbfa422a933cc14b0dcdfecd582f901710bedcabeec': 'Animal Jam',\n 'ed035ac5c22f4a9fcb265c32a818d0d48c9850c3ddd2d524de84a1fe692ffec7': 'Ankle & Foot Center of Tampa Bay, Inc.',\n '384ab4e485582e28dea175ddc18692a72f98372ae31cee5f883c29a3f5a4ca4d': 'Anthem Inc.',\n '163bba7f3c932407243baea472729262e6af1216538bab56a949fa71a214f48a': 'AOL',\n 'a81c77f4d780a48eee3ab764d59c0af1447e32b2b1ea681f79573bbc444d57e5': 'Apple, Inc./BlueToad',\n 'f223faa96f22916294922b171a2696d868fd1f9129302eb41a45b2a2ea2ebbfd': 'Apple',\n 'fb172744a7b127bfe0dbe672f895cee3c8850c8968509fcc5f562ae906740e85': 'Apple Health Medicaid',\n 'cf68a94ce88b825bfaffbfe0b42c161c82ebb10e673c7550b143968e1a15d561': 'Ashley Madison',\n 'd1aff162effb746e1b996600bd9114e58fbdc6ba3c40646d2c5f4c455267a649': 'AT&T',\n '5bc4ceb7527cfc39a12b487493fccf69311d030e3ac42a6deece623e585c89c1': 'Atraf',\n '6e09843a1d386066d0ec10a54be18be9068a4daa39c13197967de17cbf1e90c5': 'Auction.co.kr',\n '5b7e43cd3380a02f28596a039ddd89e09863a70a73d19b7f2fcb88f5f8bdc0de': 'Australian Immigration Department',\n '3f8fe7ad83e78affb6298f2c39a673fe6ce3fa125fb1057e922faabc5b7b3d7d': 'Australian National University',\n '8fc1372c56a7b097e03dedb5ab29f2be54b2d73247ff955001052aa0dde31fb1': 'Automatic Data Processing',\n '0b08502d6a6367adbe8f2c69d49bdd742fb83ddd11326ac0224eaa033fe9e44d': 'AvMed, Inc.',\n '1376b0225f2308584fbff071ae09a318bad5dfa57940b47b95260fc56c2b91b0': \"Bailey's Inc.\",\n '04be81b8d8b6d24df6ba93ceceac010fd125739f3183ab0f5f92c76b9d643ffe': 'The Bank of New York Mellon',\n '952395274255063a41aebea974555f153e354ebeb6d30a49150d428d50dd0a89': 'Bank of America',\n '0539bb21695495887ba9a25fb604b282319c1d879165ff9e440ec0b4b814aa2e': 'Barnes & Noble',\n 'e95c350387279067f116545b701672ba13dbff843275d39e2ea7e5a33a6e08e6': 'Bell Canada',\n '0b8f007e2a4ad6ec7ee21f59f782c8e842a613f669f1c24c54dd0877f2db1180': 'Benesse',\n 'aa05fb707c9327414ccd19203c301958c0cbb22071b2295c749117fc20494106': 'Betfair',\n '8506a2a312971641f5628bc44178b2c41e564141d10d4e0e5d14322e8d64478b': 'Bethesda Game Studios',\n 'c1a57bf46a64f06f3ce74158015e38792e0190b1ba7f92033b9a52229899bfb8': 'Betsson Group',\n 'cbb86535ca695aac450fa9a5d38395908f060fb0c1082302e4024dab632ed074': 'Blank Media Games',\n '91ab620ad7916020772b4dc8765434b40f267dc0f5f87d8a7f0a5fff3e10442e': 'Blizzard Entertainment',\n '391dcc33b1a654e0de1a5dd94db0bdacc64ba63064cbfc90cd253a92787d304f': 'BlueCross BlueShield of Tennessee',\n '09c5ef5755947a1cf40d11b8f26a34cbf94bd671d282dbc2f4e60a91a35796e6': 'BMO and Simplii',\n '17ac59bf6ea6dd1d0da54e649ac4cfae64b5a25d49d1bf77ead4a6d8d9a6a095': '2018 British Airways cyberattack',\n 'e1e52c780b0ca42feaf92f8b4ce371d6a38c2c388be8bc55aa49f00ceca9749e': 'British Airways',\n '1ef5919025d44a11a33807d70c95a01df426ba41f65dfd294d106efd0a4802c3': '2019 Bulgarian revenue agency hack',\n 'fec3cf8d9efc184a7a1a7147610d50aaac98cafec87c45776bdeeefda5c37241': 'California Department of Child Support Services',\n '2f73335c712c9214b73a4ac18ffa87fd17f0dc53d2f3b84b98cc44abd5dcd00e': 'Canva',\n '46a14e5ad06862c8a5909246b3fbaf0eeb3343bdd1325e530b90252c380b8c33': 'Capcom',\n 'cf480cbb7a87b6d3440e2a068ee6a57592e14188a6cb9d8c3ac90803aa054e1c': 'Capital One',\n '75c6d7bded89e52e5f8b5524eb933a39827ee18d58bcb1745baaaa2a8d254454': 'CardSystems Solutions Inc. (MasterCard, Visa, Discover Financial Services and American Express)',\n 'de06f8b9e4e646f098b56a829927263212fce3b555ce12e7e754ef7791329aec': 'Cathay Pacific Airways',\n 'bcc8ded9898f8c1d6fddfbdd4de3953ff7494ec16acb79b60d68e3d9473ee1fb': 'CareFirst BlueCross Blue Shield - Maryland',\n 'd79da48ec2ccc83f864e87389769714e415a414899c7d7e82909d0d3e005b7b5': 'Central Coast Credit Union',\n 'b613a5876753c6ff2838abea2e0d7f4b994670033afa387b8b78948039214946': 'Central Hudson Gas & Electric',\n '93e00534db14284b24e152bf175c03cb22eea3b38b93dbacd2b8dac83d08a6a5': 'CheckFree Corporation',\n 'a87b40fa89d3286014dcefdc2318666cd1424370101e11900e2bd257ecbeeadf': 'CheckPeople',\n '30846277e6af5298d3da70657046822dde85ccdd24c8dd30b5a183d4d689ca6c': 'China Software Developer Network',\n '4b32970056c88efb11d9db449ee8d8ef4a7ad7386fc52e94e79007bd4c896549': 'Chinese gaming websites (three: Duowan, 7K7K, 178.com)',\n '04ace81129308b95f284d1960ac959c718cf1506f5e915d20970e16798d31ae0': 'Citigroup',\n '943a4c6d4dc248ca003da750daebf889767ce729750a8bdeab1366282ad76ce5': 'City and Hackney Teaching Primary Care Trust',\n 'aa5c3386aebcaa27b3203f52e3b371a09cdd860c6db1b604b23fc3f0b4b5d041': 'Clearview AI',\n '0224fb538185a06156d10b2cdbaf19beed9ab8386a517b073af9dd6272491f58': 'Colorado government',\n '66805d07e40a4a70948df9c46c3bf2b42822f29a71c81da05d854b06bad83470': 'Community Health Systems',\n 'f7ddf80072a8eecdad46535cd4e2d9303e0bd21d124193064f0438daccbde49f': 'Philippines Commission on Elections',\n '11dda030e273dfa561d0ad7a7a0aa3d0603e7af8f67c48cfdeb92774fd01d756': 'Compass Bank',\n '001e1862cb140a1baec0d929310694040fb396502269e82c56212b24c1a103b7': 'Countrywide Financial Corp',\n 'e76538b3bb1ff1121785329f53dccb898ac5626776f33ab42b23f27061966bdf': 'Centers for Medicare & Medicaid Services',\n '5f7e021be158a24fca7ec3cd2dac681ad0bd30aea346805d0562d1f10cf1e558': 'Cox Communications',\n '2d6d48a3b978934a139685cb4b9be82d6c50e078971ca2f882b0a455f60078f0': 'Crescent Health Inc., Walgreens',\n '6bda74c96c41df2b39496aeb2495758f101cc77fdd240671e007dba82650e43e': 'CVS',\n 'f6acf3b9bc185358905abb6da8286e20063774b114549e18db11464823915767': 'CyberServe',\n 'adb14de5f46325cc45f6a0568ae6de21ce5eefe62b7f16ba24f3c086113aa853': 'Dai Nippon Printing',\n 'c8f9dd4f5ab75bd430cb378ecf8f921f6bab88267055c694e68d033b3f423389': 'Data Processors International (MasterCard, Visa, Discover Financial Services and American Express)',\n 'e0628963119b6afa7724bf5d9647f723470b7af7d4d4024fadd8f34c2b764c9f': 'Defense Integrated Data Center (South Korea)',\n '7841ddf7e00433c6d8489aff3ffaf19ff15f029093aa2feada8ea0e0dcf3ccee': 'Dedalus',\n 'f3f5cc986b466b373e36cd7ae0091abe13bcbb26b6fd79e520a66d7e2ef3758c': 'Deloitte',\n 'd3e8e2cd093cfaf6a5acf71ecd132db8f32a8de0a2ffc282465504c7b661f18e': 'Democratic National Committee',\n '8050df8b60bddd4a669c545ee800a7f9928c8424008693b2fa62a208f3c8a4e4': 'US Department of Homeland Security',\n 'ae36dba764c9752805ec7dd4d58a7cc080b928dd283512735fa4e16aa7fd4e90': 'Desjardins',\n 'd2858dd20b569ddaf3a5ac98eaa17b310e10ea75c154945e8c12fdce1655569d': \"Domino's Pizza (France)\",\n '153091ce6e774499ac663ffcc9849da5880059b1e3ba334344fb4be7102c5556': 'DoorDash',\n 'd13aff27c72643b37546501daf1cca3b36fe4e86c70b4522d56aeaa0f843b19e': 'UK Driving Standards Agency',\n '4750d0a12e03a1be0f78518ae2f73538e8b2748c4284244504ff3bc3fd31c3a9': 'Dropbox',\n 'baaa9628fa121456f9d4eca4f101c47ef0edd8aba08212099c32b0ac4965341c': 'Drupal',\n 'dbbbdb599b8b11cba5e934ca4b986f3711e29cdff97f03d8c274af4ce9029742': 'DSW Inc.',\n '6c80eb2388b728e48804be5a5733b577c0e9a2dff899be9d49251f6ac3d588c0': 'Dubsmash',\n 'e7da44a09bff4cac22a7858f9c779214c09817015dde9ba709114761af9baabc': 'Dun & Bradstreet',\n '03af86cc5742cbd829c969c7e128af8bc2029442fe28ca2e9cddbb078566f0a3': 'EasyJet',\n '10c2fec550e262efcc23279e9737cc8a9d33f065d1c5360c1db7c89130a61988': 'eBay',\n '476c20911554723575ec2a9ec13807f52d63b3b1834e5fba75abc5a732422785': 'Earl Enterprises(Buca di Beppo, Earl of Sandwich, Planet Hollywood,Chicken Guy, Mixology, Tequila Taqueria)',\n '0c41d38f77dd0d4444cdc85a46e3fd8664d8b1e5a978a3795bfb22e29594d446': 'Educational Credit Management Corporation',\n '40654b5cc29b2c15e014e9bedf4e368633300c19f4290089a2396d35aa369c76': 'Eisenhower Medical Center',\n '49d61497a73b815f20283dcdc8f7056c4be80d8925332ed29dbafbeababc5603': 'ElasticSearch',\n '51cc65d578f2edef43a1a8e623ad47382642428fec34e05b0cc53498ec4811fd': 'Embassy Cables',\n '9c0e5a0814cc33905a31571b867b3a396891345b2b6deb2a1a4c825a55688dd5': 'Emergency Healthcare Physicians, Ltd.',\n 'c67138f7dd75adf162cdc5a987e44b1543ad7ea2b0b573f7f65c4adc45199d2a': 'Emory Healthcare',\n '3d434656feaab1029598a8373b67afe15addaa17cf1d5fa94859546b29f7475b': 'Equifax',\n '9e4441bcea16609f466548726051ae8076bb1626d7f36e971058b6c809722dff': 'European Central Bank',\n '5213036e6f48cea00f6b69badbcfb0069e52d2718b9fff68210e6818154209d8': 'Evernote',\n '151235aa8b3e6be0a73376e40b854c95c20ba86143ee38b38374ed2c12a2a7eb': 'Exactis',\n 'faaf35f4a2f5e0cb6bac62a85bccd3754dc590496a0d3ebf3492faa3aae97adf': 'Excellus BlueCross BlueShield',\n '0823a3ed3bec369ee00897e2d70c8b9a143a49f457f7519cce4e6cc04ce890a5': 'Experian - T-Mobile US',\n 'cf457f66548e2b44f6a18a9958dcac73e6419a24ec1ba0dffe5d7ade14eb5002': 'EyeWire',\n 'd41f5b4977ee05c6b61b3b5f054784628f5cd1cbe06a82a5484d1e6de6eefe85': 'Facebook',\n '0a46f9903f6b735543b81e81b6fca8d3ac8427aa8a341b51488902cb2320b5d9': 'Fast Retailing',\n '31d9578d9e9d10833533eac227c60d4db25595e1c48ddfde28fa8133e7fde8b5': 'Federal Reserve Bank of Cleveland',\n '12c1063ee41d89f5944085d42f291b392d31d85e7a3cd1acf7afa978e3b603ee': 'Fidelity National Information Services',\n 'b0212219a7100acfca9f4b566b96bafcd2d3e7dd75bc2fea6c51c26b0e282cb4': 'First American Corporation',\n '28c7f29ec2fee65b46208314bd805c7a589041c14eb3b9e2293c65ae5f652faa': 'FireEye',\n 'b0c78c19671124c84ca29c1dcc03ee70b79b0fddb9b6710bde76bea8424e2c65': 'Florida Department of Juvenile Justice',\n '0962b1558058d4c02bf7dcb4a1377c2c0e8127fd45973e930cccdc85645356fd': 'Friend Finder Networks',\n '1db377ce21ed7a4ceaf90ac212021aa9e2e125144d98853a85ab6719db019b8b': 'Funimation',\n '181794edb03a0579db68be2780e454dbacdab48e7145a81d6e69cc0b8125de63': 'Formspring',\n 'b764cdc0eab7137467211272fa539f1260d1bf2e71bcf6ff3bdc960f5c16aa14': 'Unknown',\n '1f34edcec57744e575233bbb38bc4f1f66b5168b9a5433f483068bc5dd916b6b': 'Gamigo',\n '48d1c55bd453535fc4e96d413ded0a15171dcfb87a2743f3c4c9646b2864d30b': 'Gap Inc.',\n 'ddb876dcc39aa99b602820505e965e5c99858ed90fd84ec0fa1716d5a0cd67a1': 'Gawker',\n '344578fce9ea0425ca1381926fb43b92fe72f0fb7c4b188e6988949dc0c64cf3': 'Global Payments',\n 'd19a15c70437ed6ea0e4bd1bce2cb335edaf30e47c44bb1b195937dda84ce65f': 'Gmail',\n '9b8dea491dbbee81bc06472012d6d400130e692b8dd45a354cfa11db2fbc4dff': 'Google Plus',\n 'df413c91f1565f591dcd72d0c6808b364513a3dad49b01d93d56d99410d97f61': 'Greek government',\n '047b7c6d0dc18f560899d0b51e4f45daa7e54495e0664c49137a7bf28c80eb12': 'Grozio Chirurgija',\n '55a83e3aedf2c458c42a25ceb32451ee0f7944e5d580843df372bff1968517d7': 'GS Caltex',\n '234f3e4501c08f56bdce215075c834026a9e14be7d56111c4fa49281f064fa7e': 'Gyft',\n '13b2d13a32eb4ac5ba2a7ed03251b19d865a7e5cd26a4e5befae2cf53ae6613c': 'Hannaford Brothers Supermarket Chain',\n 'f7c49b1492b48450e51f5af1970580d860c64adca23cec011707833d2930a47a': 'HauteLook',\n 'e1cddcab60edffe81ed836f196eb69c709e8f088ccac8f25a99f553cab5a5e1f': 'Health Net',\n '64144bfa95b0a95a95de204a03a5797b6ce8a89e58ecb45a7aabe26a7758a14f': 'Health Net\\xa0— IBM',\n '61568768ddda39d7d6c7b48f92e2d18532e07d3a12782bf3a76438a900e3be20': 'Health Sciences Authority (Singapore)',\n '9de927a0359e991dbb4311e190e495ba1686a30230a51695d286b94d5de99bb8': 'Health Service Executive',\n '901b24abc0f113e6d704e0c113f680ddf93c2f56936d8de44867afe2678b1945': 'Heartland',\n '2f4d2ea877a95ff155b91df6751f2f932bac49949de7a239d4c0ff265cfb1f51': 'Heathrow Airport',\n '08915f2bc47a8bf58af8eea0582b912afd546b715695c4a72df9bb02d99091c5': 'Hewlett Packard',\n '411cbf91efcdeab859d4753084f87cfe838416ce1c4e8a20e61a604b00f465ae': 'Hilton Hotels',\n '94cbedc10bf32c2ec7759a9003223b56d3b48cc95ab0235c1b484610807a2911': 'Home Depot',\n '29dc65b17d14350b24b2aee26653d6e59b2bc62a60016f77af61ecbdfd823759': 'Honda Canada',\n 'ac680df5312067f25a1ef746d4e236267fc4f82dccf91458a59d609627e52439': 'Hyatt Hotels',\n 'e1414022ce0e764e873a82c577b9c2c35ffbecb2bfefd3ece26db759cb275a42': 'Iberdrola',\n 'bad57ef7837c8e6bf99c2a5935cc9d6fe5324a53d88744ad5551db0e46b03cd6': 'Instagram',\n '49c90fe4677fea5574445dc2c7fac6d78573d98c9754c9cbbf10163f6381d512': 'Internal Revenue Service',\n 'a496e4a4f8a8119da7ded7adb5ceb2185e5eb4e793533d54b34cf8a54a84b5e1': 'International Committee of the Red Cross',\n 'd6f473efe6b6c2573a7d5df5158902281afb8b4d0376d1086809f3e5a22d2497': 'Inuvik hospital',\n 'edc560064e912e3eac9abe0b3d01e5fa583057fd84203d28a6c02a52f43eb7d6': 'Iranian banks (three: Saderat, Eghtesad Novin, and Saman)',\n '4dfdc3ae6dd18ef203f1b49569e961252ef70b09ebc5f0dca4f2c692aa0e7000': 'Japan Pension Service',\n 'd3098022c2fb5c7f04c47fda35bd15cae02a456e1f1eaca9c1af827c8dd77ec1': 'Japanet Takata',\n 'c3322242fd383ec5a274f4ae5c7cc4698d03cbf2e2412afd198a7bbc6057d385': 'Jefferson County, West Virginia',\n '3520a11dae219162613049c3727b597f7ac8545d7c03f36cdbba2116e5760cf0': 'JP Morgan Chase',\n '05e368365ae9255b384f1d927d4d616f3afff53f30a5509b9d7f3f3dfb2d251f': 'Justdial',\n '7972bc66fe391db14008d37facdaa372372d80f2712722892ec8ec2b90e5c465': 'KDDI',\n 'ef4cc37247bdce32c708d3d2b065c4b370e8354d9cbe55771129df67846f21de': 'Kirkwood Community College',\n '99a8ae032e8b01f7141b68758dc02aa4124e56b3bfe910619e2ea48458f973b8': 'KM.RU',\n '18646d44b26705e916636a36cd62efdcca04f37325d0b3ffc66f2865f8291297': 'Koodo Mobile',\n '27a19f35c18f3f6df0200ac5ccab9b7f7ca09efdefcd82ee9e44767e7e07e65d': 'Korea Credit Bureau',\n '73a7bbe6aacfa03a422964c35a48e778d8420215b4e9522a56a09fc80cf3997c': 'Kroll Background America',\n '82f00531dda7ee5786a0c40e92e6a69e8a1806b8bf3b444478dd5587609b199b': 'KT Corporation',\n 'dec6f66e46d0cab239fcbc74d398c651ce07e884ccc14e7b97a9f712e6e24d83': 'LexisNexis',\n '8083c5f1f33e1129f3c47611dec72a7e0ac4645515cb24e53767a786e60a542e': \"Landry's, Inc.\",\n '17c82e42483c2bfc0eaa568b80c641126d63faebeb27829a2f97ab0148694617': 'Les Éditions Protégez-vous',\n '440c4290e764a044a0fbee44d4ab49c42ea2c3599771e79beb642f9a1276c484': 'LifeLabs',\n 'b4c9832c7b0ffd604a0b6bc7accc3750530d8989ae889ead604082d3663d8f56': 'Lincoln Medical & Mental Health Center',\n '0d7c3dc1f6af95437ea9124f7f07b919b4b0cc784a93e54edab0b299b8b3af4f': 'LinkedIn, eHarmony, Last.fm',\n '0b811dd4752fa8bf82b56dd7113b8f59d2226be1de02ed80386ea43c887ed4be': 'Living Social',\n '88cbe36ac3a7f19f87d9466b21cb6852059fce0cae2f32bcf1d668aed0e99416': 'MacRumors.com',\n '2b5de71f4391229551a1c9c02306dc4358ec71fdfcda1d47193325900a93d4a5': 'Mandarin Oriental Hotels',\n '9068f367261cccb45c56e7a2bf83e196e28afdad51c52d2005f7834484e4f1b1': 'Marriott International',\n '88746822840bf9078dbfc597aee3e959a8aa6977a6bc5d921678cd8c8996f78b': 'Massachusetts Government',\n 'f3fe727f32010019f39309c43a6b4dcc50732aa3649f4e18ce74044e32c1df42': 'Massive American business hack including 7-Eleven and Nasdaq',\n 'd847ab7f37010ebde8ba528d33a835a3ec62fba70150da9a4a82d0f80d701c70': 'US Medicaid',\n 'b53beb6fb8119400611f946374888f0974b1af3a07367fb3e3df4653df7d55ed': 'Medical Informatics Engineering',\n 'dad47597036261dbcf4e1d6d92ff65df055601420883f62fcb20aa8b432322c6': 'Memorial Healthcare System',\n '2e17ecd872643e87db3cd4cce7c8ad867e4f59d5e9bbcedf3a4292a58c552b04': 'Michaels',\n 'c7bac46904be785cd0c965bf5659610044f0cdb4cbb02d2ec398dc56648988fd': 'Microsoft',\n '6c6531f6c69019a875ad4db2e2ab8b2a54ed28db5ba57477b9c7a2367db6b5d7': 'Microsoft Exchange servers',\n '7ae4833ef45e0081745f0bb0f66af3b051423d944fd4c6e16a0862c64a9ccdeb': 'Militarysingles.com',\n 'ffa4f1cfa37ad81f5e07d227d87098867281c2b120cf6715288835242f563ccc': 'Ministry of Education (Chile)',\n '9270581c4a6428f50dc67a55c191487bdc2333613a083b2155431e50b6aa149e': 'Ministry of Health (Singapore)',\n '004d2cb4d5c7bef0fa0f48b9fd75a6050e5ae528f6b2abb1aa4b46229aa240fb': 'Mitsubishi Tokyo UFJ Bank',\n '91231ff9ab6685fac02e3b2f8ec250c2c866b19be46ca7a195186b9c85e6fc69': 'MongoDB',\n '8307ff685f205d40c441bcafcfe8e829a544c8b13d377c34667311a67c3b4bba': 'Mobile TeleSystems (MTS)',\n 'ae99749ac797f3fa8e11fce24616d99a814c740b0406c582dc085bcce095b903': 'Monster.com',\n '67c315837b207a73bdb04f67b5a0cd1d0e8e19ac7a38fffe12cdc3a1eced883a': 'Morgan Stanley Smith Barney',\n 'bc616338cd659e209c6765f12bdff2defce55d3016070d412f3ff11472dd89a8': 'Morinaga Confectionery',\n '099137afb52e690a8869a81c52c96528aad7def783996e0df848525872deb99f': 'Mozilla',\n '6328d7b1d1ab50c56ef69121c58edd0fdbbf7c39b969380444073071330f4514': 'MyHeritage',\n '1412dbe4c2c08c80adba26dc96a55548425cb97350d2d13b8a51f563528ebc1f': 'NASDAQ',\n '3c705c88e2108374309a9d9865d89f82f0176255e21e6ee981de45b66808454d': 'Natural Grocers',\n '950ab4e628a5d1fc2b8b97a1dc4c7b4623b8969baadf246c85414ebc7d34e9af': 'NEC Networks, LLC',\n 'a8c0669b57354d33de00e91c1fd1215d1fcd44b0b47148654e4144fc8e9dc923': 'Neiman Marcus',\n '6e9ea0eded04c46a35037cbbb5867c201ac34c6810844a0c6d44c63f1d7f6b6b': 'Nemours Foundation',\n 'b75a5cf798f724844abc8ae26fc82e4851626a82eaddbe74a5f8f0d3efad3f41': 'Network Solutions',\n 'f1d2ea6537d536fad09a53145bcefc659407c3f6f64e855468e84bd038ee1c44': 'New York City Health & Hospitals Corp.',\n '6ab8775d987b2190f7dc9626aa83ddef0cf10ae747393f95efba29508e50c1b9': 'New York State Electric & Gas',\n '338ec119713fc76c053a1bcc97c319a3d500e325386bb913f6e0d9f93f4fd9e6': 'New York Taxis',\n '7e7085afe2aa830a2569318b37d9a4179f8a1faeaff3708b637b2b2173e3e3a5': 'Nexon Korea Corp',\n '8d881754bbc49d118ed097434a5dddb4d32b5cc9394a6709f81e4eb4b928385b': 'NHS',\n '3bcb00d08245cf2bebc93e8800d59f9386ee16944c0140d0d8663b74bdd72249': 'Nintendo (Club Nintendo)',\n '05bec90c0ece23ac619e2a85ff417f9b5cc87b908beee826f38df3b7f93cb80d': 'Nintendo (Nintendo Account)',\n '7e5b20a44fc4b4eb7bb9c968990a852e37b839b80486c419533ecd0233066067': 'Nippon Television',\n 'ebfcadecdbc54c8fc99b7e20cdf1b45b259f205ac7d75fc9fa236b7c7c7ad64e': 'Nival Networks',\n 'a2bee5f0396f61e509f78d1416d5e3aa71e2d0253cf07f0164bd5afe952c646a': 'Norwegian Tax Administration',\n 'dafa0664c3dae155fcc3e03f2b52e8510390f37b901a854801f29ec36c844b02': 'Now:Pensions',\n '6a632b2f9b1de0e6c2d979c80b11b0f3a81c2e8c3d0eeb7030120c51e6b12252': 'Ofcom',\n '9ec7f16230dcb8a27cba7cdba1943e909ec95d03e6073f8ffb9f1bc48df25522': 'US Office of Personnel Management',\n 'ddaa532491b24ab433f400b19b465ee5aa958f472b7eed02408dcc6cc11da88f': 'Office of the Texas Attorney General',\n 'a54d26d570f6f6215199da9aca436bcce6c8e5bd1b02400736cfe5df397d58ce': 'Ohio State University',\n '36023c41f461a8ed66afe1c740c61837b5aa4442122488cedabff60599c5af01': 'Orbitz',\n '48ae24845a643f9d29a47cabaab379c96ad8d93e02d89a285fb54071b974f8c9': 'Oregon Department of Transportation',\n '379e84f24d05d19e023eee7f5b7c9e7e8d1adef18f1f99bc584b3340e14752ec': 'OVH',\n 'eec736f63bbbd1ec3e25cfa97f8b22687e706d4cc5b39ff29e9ab8261f01309a': 'Patreon',\n '4d54ee71b475b2a2f6cfb035ae3749a849e43a454b8e4951e2ea916610236f1e': 'PayPay',\n 'f1d4f9bd6d287bde63dfccc8851803e242ec06b723c01bfd7f829cb0a630704f': 'Popsugar',\n 'f19adb492bc05965d57aa5e146a10208c469c6a120ff81c1585fde772d0f5a40': 'Premera',\n 'd64b127bcee0a5d3ff2bab5b09daa72b1ca91babf67478a450d85d2c6a4c4ffe': 'Puerto Rico Department of Health',\n '1824406a51904a684ae7a20f078d17cc48eaa0b45c6e3be1ad5f2db9d1a7f8e4': 'Quest Diagnostics',\n 'df1891814b7ff047cb93d95ff6300c4dea3f21f0570ae480e422fa618051cc61': 'Quora',\n '2d0e92f62b907ed1bb98132729d97ff6550608a52ae87f4ed81e197869c08740': 'Rakuten',\n 'a70d84ff6989ecfed11b96f4217c905ca5ec361a379705ee029dd9c766012443': 'Rambler.ru',\n 'e6c1bccd93ea51ea1e657f066cd2d75d83f966db1f2ac6dd6f203afb6ba7f8f7': 'RBS Worldpay',\n 'eb0050f72303bcdbbdc071e2a3bf810c903be8d05cdf09f7c3106f2b6f9878bf': 'Reddit',\n '41b9e37c315c12f89821eea642bed28d6a63049a7c728887e8b5a511d4a94fbf': 'Restaurant Depot',\n '2f00ae9f07bf639572e48643a66780f872b7e944430f7d630f713801898a4928': 'RockYou!',\n 'd11242e670a02f40b4d3954193f688048963610a2536d5c0957798f2e9fbd060': 'Rosen Hotels',\n '9684b619471556f2d648849f93aa7ed7449dbadb286f58ccec6e6adb5900bed3': 'Sakai City, Japan',\n '0fd2238c34cf824d7a169d6db9334f25b4335e1b568b0b75c4daf3a7a1a15b3c': 'San Francisco Public Utilities Commission',\n '81603c393dda6711fc9a222f3213b7505dd036dabc044b33b2ca85ade6768d56': 'Scottrade',\n '42d3c373e97ea26401b0f2b22ad970a452dd404161eaf29dbecd6c31bc9b0d1a': 'Scribd',\n '81a65cb480a4471c0992719c79979073292336593def1b5eaf43003634553282': 'Seacoast Radiology, PA',\n '663a95cbfd95c2eb1184ef8db017582f1f00ada0cede1e5c36a5777d6e68d418': 'Sega',\n '0af13a224e7c4080880b04d62f28c969bb5978cce6fc654a1778e7ebc845f0fc': 'Service Personnel and Veterans Agency (UK)',\n 'cb31e692d011eae760b4e9b4e82134f4f29ebbb96aa0a39a77c01c34b1c442c5': 'ShopBack',\n '2555cb5294f60b3554fe2db35271900c48e7fc63c51701c1569c9e8ae77124d4': 'SingHealth',\n 'b27fb38ba323745c91fe7fd9021605430d43bdb7d3be765266e29364d103e26f': 'Slack',\n '7dca0fdc725f4a8ff989d0440e495c1e72e4266ce44123b676a95dcf6d65b3fc': 'SlickWraps',\n 'f22d447901f83ebef05333104f2bc912d6d50225f06b4a5d806bedc3dfa5d8d9': 'SnapChat',\n '4b248dd7ea7bc24bf343793e370ffdd3db859c9b22f1c754ed082e44d75f2be8': 'SolarWinds',\n '1a8f58aafa03d209db9214f0f00510104ade64d6bb59d71a7f26c3d6a5aedbbd': 'Sony Online Entertainment',\n '5f651390aba60fe6702150129b89c235bfd806e32e328f27b8b1e75e4235968b': 'Sony Pictures',\n '71c0f33409138a752be5bfae58e0bf5271fac867825469baa4424009a27508cf': 'Sony PlayStation Network',\n '3ecfba58cce3c4ac05dc57abc33bce20441178d2571c418be78a4fee0d3c39fa': 'South Africa police',\n '7b8a404f5448d02d74dd1b38901864c6e6fbbd381df3c978b671d04d9260f5b5': 'South Carolina Government',\n '472f91133c3a083962ec8705723a83e58138758de47ed9b382a102a2d4bbfc16': 'South Shore Hospital, Massachusetts',\n 'bb1a209b02adea91a78d02bd1a63dfa4cad4ef7b6000ae178edaad592453aec4': 'Southern California Medical-Legal Consultants',\n '4f9d8ab9f4d748f986a8f8c43c398ba99a0338f111d658d7d3fd8a2734dc79cd': 'Spartanburg Regional Healthcare System',\n '27faf32e46fae67a5c32fd349a02a188eefe70a414393a6032b3f72de5f2962d': 'Stanford University',\n '4150177b54900ee886f6f1ce42adeb5c116875e07ec181df3d989e0475f01aee': 'Starbucks',\n '9b3c1ffba5bb8df34e8720d37f01569b3b2f93d5249a49dc9edeb3583ec1af41': 'Starwoodincluding Westin Hotels & Resorts and Sheraton Hotels and Resorts',\n '2e445167dc18d071172828b5c3cf1b137ef28f5b007d37cf3000bad402535a70': 'State of Texas',\n 'f71a850301976cee8f8f2e1386105374539c67eee5f2f187c0daca2c7426360b': 'Steam',\n '918600a0391ff0f4e270cbb07861f792e76b8b3fb37e6c8e3253b79d220f6666': 'StockX',\n '153fa99b2bc0861a4975bb91f43c08aba076f199d8a73f630e2b20b96204bfa9': 'Stratfor',\n 'c85b2bebd29b72ca229999aff23a84a534d769b308d326ddc936b1bc7089c549': 'Supervalu',\n '38ed439b44e153f8769b763c9447cf9215c6a186c07dca1ce6dca9412089ba53': 'Sutter Medical Center',\n 'c3ef63678d23031e4c25326ae2656a44edfbf85f4ba87fbffc305cddcb15c307': 'Syrian government (Syria Files)',\n 'cb7cd4ac79071fdc799af1a4e76d00a40ee7c3af3ee3b8101ded9d906b7420db': 'Taobao',\n '52894c38bc45c737bb2741edac4de16d6f419b867629261942b697e5df74be9f': 'Taringa!',\n 'f12a7b7e8522c8e8ab0413c9f36ccd4e817fabdb50dce046edb5d0e3495b0db5': 'Target Corporation',\n '1940094dd0f478940bf5c361fab73a70b25eaaa2770c95386ca69ddf9e9c1b33': 'TaxSlayer.com',\n '6901b289b75742840f9c6484a391c5c84a8a5e80c5b6f9a00998fa7dd645b9c5': 'TD Bank',\n 'd8e03afe817aaacf88a18e14c429c5481a697d75637e20f9b2b462e2578ae91e': 'TerraCom & YourTel',\n '71a637acfe0d9a9ec9d25dee52f7bb1baf671e7fe786eed32c1a160b28909157': 'Tetrad',\n '316a1f1b26340a3fae285d99c20dda20de1a473eda3ade31887dc206954a35d9': 'Texas Lottery',\n '65bef4df6f3aaff6f4de7843a200e153be51393e0b3b88360131502f1c7b2c82': 'Ticketfly (subsidiary of Eventbrite)',\n '4a2f365252169b6b28e49ad57a178f42460e65c7f3ece60e4b585504e5443485': 'Tianya Club',\n '1bb6fcfbf1368a7b27a6db04802e2756a9e209eb24f189c3e35be8542f439a2c': 'TikTok',\n '6503a471c072591950d51d4297582201a44bbdf7b90b69d7eb48ce68de2e3b2b': 'TK / TJ Maxx',\n '9c01d53741a7eaabc43154821081e472e665b21d95e3d848c99486e9c95221c9': 'T-Mobile, Deutsche Telekom',\n '66bd51ee0dbc4bca7b8ae729fe09cd249b6c465fa980edd8e9e2240a1db8232d': 'T-Mobile',\n '9059519abb746a47cca0da7e09996332d7c70fc7c8f2cd48f63ea13f07c621c1': 'Tricare',\n 'c5d7ce62056c1fe1b45571a8d851e6e0de28a5b0c92e6db52f6c1cf81e5bd1ae': 'Triple-S Salud, Inc.',\n '951b20ccf1df2eb7b77e43b9aca6b53062348659200f76197020a44c1c1974db': 'Truecaller',\n 'f305191015631a0e16d779873ff1a58442d13d4da72e192862db540adf659986': 'Trump Hotels',\n '3ce8b7c75edc5d92044c920698c82cfe4ef9e99f210035429c31872e40bcd53d': 'Tumblr',\n 'a731a58c4cf35c01b23fd7dacc8e09df8eb4bc2eb15a51901ca0e290ddc55b4b': 'Twitch',\n 'bcd18ead5fa830127187d499e97e7a4dc8f641ec34d8c7e9f9f24deae2e39fdc': 'Twitter',\n '2bcaf210c1ce27b87f7f388b38f0c75581b7e028eec0acaece6a55698676321f': 'Typeform',\n '3cfbdbc3ba7620f9b1c62606674335fba55a6eb7d7d68ef69d6720f5d2870ff6': 'Uber',\n '42697e7f19cdea5e9662dfd27f88f5df43edeae4f3cd057e1e4c2bf6ba0ca858': 'Ubisoft',\n '710eb4f4d7f72b0e329a51d30a83377bc7ef6c0cca1a444bd8d2e70e72326e8f': 'Ubuntu',\n '07ec70194922e10192a6ea3c72adc70e67ecdddcab49b2a62f93e283d4c137f9': 'UCLA Medical Center, Santa Monica',\n '5923d317e04aad0e40ce7f3098f9583b2299db4d9ce8a79d9a93f40cb461d543': 'UK Home Office',\n 'c407f1019eabbc1b710485872c660a8e59fea03fe8534d3a99a2d6808985d14c': 'UK Ministry of Defence',\n '64b2a57d7b97c673b1dff093fd6957ef5c6dc90b30085718fb0eb71dddcc50b3': 'UK Revenue & Customs',\n '52c916e4e5a3a6e6f0d2e1082429e170f59133452989d524e522f46866073f17': 'Universiti Teknologi MARA',\n '743ebd748ef5df2b1245cf93d2ad75987ec399a8d6d6a453b21b071d5df15337': 'Under Armour',\n 'cffa5d58de91704c53cec2bd0c7fcd3e701e4616f007d784f69833d3769fe957': 'University of California, Berkeley',\n '34d02e0216592460a73da8de4171fbe51641bc300c93904d84054c42668d7021': 'University of Maryland, College Park',\n '62473532f00ec0262b3e93b0edd8081ba3ed61b60cb4e64190fff730aa9a1ce7': 'University of Central Florida',\n '0289f1e716162104ef09e0f678ba1a582fefba5f56d071164705cae8aa4545b8': 'University of Miami',\n 'd3429908fdaf770879b3191a1bb899b2dded36b29fe689ee4a8cef836fb82ce6': 'University of Utah Hospital & Clinics',\n 'dcf061721e7f20665b35c4ed1619912988984adf3b0df72ca47e5554714fa354': 'University of Wisconsin–Milwaukee',\n '07aca955bb3c04c03b68ca3ab51e4809b210a091ff7368d0b70d8e6a67b14384': 'United States Postal Service',\n '356479227b434e954ce1051229558fbd4b38a3d1a6bea130a0c22c5927e39ee6': 'UPS',\n 'c93d8fd63b291c6782514a6137bab427511624f9c768241be1f822ea9ec3dcdc': 'U.S. Army',\n 'e91d98ec776615e0d7c14cf6f3aa841fdd45281d2636c8000d1e93472eafbc2d': 'U.S. Army(classified Iraq War documents)',\n '14c9054a9009588d5457495b1829e63aa4c5cc64761b7e6803b1ab91551698ed': 'U.S. Department of Defense',\n '31f6043d57ee9ad83195aa021ce2140a8622198eb983f5568606f355bb4d83fa': 'U.S. Department of Veteran Affairs',\n '606bf8e181acd079643efa5b10b18dda2cadba0b25386efe6dbc68b4949acfa8': 'U.S. federal government (2020 United States federal government data breach)',\n '60a1232b6f87ea4cb6c7ab62d8c087a0c1659a060cdfe6dd26a11bb7c1d46762': 'U.S. law enforcement (70 different agencies)',\n '343840589456e6fcf4200900e85fb67a24cf8c79e6623976a832b34ea63184fe': 'National Archives and Records Administration (U.S. military veterans records)',\n '183353e08ffcd05635dcaf8cf0b52f1764019a2d2397dfe95fb259f79ac63d1f': 'U.S. government (United States diplomatic cables leak)',\n '723998ad22ec23e0b411156d5bf68589d207522ce3a986cae40fcfcd2168eed3': 'National Guard of the United States',\n '45196ce375518a901126ff824a22f5da887eb23a7051c43cdd2b6d5e96089cb5': 'Vastaamo',\n 'cd0a4fa26c9ac868d22aa36ef27f69bd72446809a39ec33d2cbd4adc37ca8e9b': 'Verizon Communications',\n 'f28cf2c5b76de71a3bd335129aef599b3fee443d690c3de64c7553a4ad2f839d': 'View Media',\n '5f6d127b08b81fc8a8e3e7b0153546bc4eaa180ad9b306ebcec17d1291ec7ac5': 'Virgin Media',\n 'ac018447619fc35393e91eba10be6777c090ac9d051f28c19cd9ca3308b6bd5e': 'Virginia Department of Health',\n '0299a451d7d8e23e305af4b2f5e56c2e3e491b435341467f0250023d8d535889': 'Virginia Prescription Monitoring Program',\n 'a9ba1feebe7ffb3878a9d0c0cde429f7144fa54a992d957ff487aa0436be46a4': 'Vodafone',\n 'ef42ebd3dbfae0f41387e768c7c8b0b9be34723e1137b5b29850ca7ef73f4f5f': 'VTech',\n '3eab285c90aa322352c76758fdb214af326503cf5eaeca3ee203e7b7cbb64f1e': 'Walmart',\n '56f3c772d27955bec66ac9374275b83baf17ae8f3d0521407343da08de37685b': 'Washington Post',\n '06ea6add041773a6d5242d3d03224ea9ca2c774aa8370f9ed9aaf20fc713f786': 'Washington State court system',\n 'de36eab4f9aee85ecf7efb3941d98ed5c3dccce2abf807a9a340f2defc838284': 'Wattpad',\n '8cc67dd62e12e887a4ae07f0702999c867adc36492bd4b5ebd274baaf0317712': 'Wawa (company)',\n '432a5747e9b3583fdcd120470ea23044aa6e81dfa7c135c461af46fe2e409b50': 'Weebly',\n '9b38aba876a4714cd2f5e78c70431bb6d37abbb1dd48f378c72cf4b8a04bcd21': \"Wendy's\",\n '4103cd9d0662437f0a772e829c0d6244d0628d63b35c6d751d867c392ab4f3ea': 'Westpac',\n '091418d1e56447b4cf3cbd3dd98653199d64ba04055018d9f193041fd39233de': 'Woodruff Arts Center',\n '712297890c221ff0492423f14d5df9faf5f9171813c32428c07c196b335d6fc9': 'WordPress',\n 'a46caa6c017b7888ca9b48f0ec2d23d64bbf91607f206e09a7b4cd9ff79cf95d': 'Writerspace.com',\n '7a79addddd9ce43d527a9c1bcd3951d4dee9c98a6f2a972a19e97a5a2d554d4f': 'Xat.com',\n 'db95f8b8ef08a81ec91b22819db5b96a133e1d54b3d9f320ad1ea5ad93e000b9': 'Yahoo',\n '771452cae002c6183d3af8298effe610bacfb38f0291a2ddeaca8a429e3b2fca': 'Yahoo Japan',\n 'f22c516689475d5083bd96539323f735f2716e4406e7351adbe5f6e9a3afed1a': 'Yahoo! Voices',\n '3628a4875ffee7d994e61ed6ae5b5269a9b9cc7162e7c46ee063b7be2a4c3199': 'Yale University',\n 'fb7accfff8c6f8ea9b03c91ee5576d0d08080e9ba35918d801aaeb6020dbc88c': 'YouTube',\n 'b2d6d6e17cbcbf33dd9e453519daaceba5a92875c0a619dcb03e906f72a1ddbd': 'Zappos',\n '637e6be11e5f556343bad0073ff64ddcf396a88cec35d7c6380f932a3f09952b': 'Zynga',\n '985ee128022c38982d1de4c4173f538ced9151f0517fe91879c00675402420ed': 'Unknown agency(believed to be tied to United States Census Bureau)',\n '869ada24f3639cb94ed2dd22ec15aca5928cb7b7c0bc28d5037c6ea6bdc0000b': 'National Health Information Center (NCZI) of Slovakia',\n '89def538702db6ab06b39b1d28f5f7980de01dd04bd0a093ca50c353721f934f': '50 companies and government institutions',\n '15b201796837385fb129c2cede3326a4c0a8d07c20283b6f3cade16b116dc124': 'IKEA'}"
     },
     "execution_count": 91,
     "metadata": {},
     "output_type": "execute_result"
    }
   ],
   "source": [
    "dictionary   # we have successfully created a dictionary that maps the hashed values to the name of the original companues"
   ],
   "metadata": {
    "collapsed": false,
    "ExecuteTime": {
     "end_time": "2023-09-09T19:20:03.944673Z",
     "start_time": "2023-09-09T19:20:03.417380100Z"
    }
   },
   "id": "a04373ced2ac0e6c"
  },
  {
   "cell_type": "code",
   "execution_count": 92,
   "outputs": [],
   "source": [
    "# add a new column to the DataFrame that maps the hashed company names to the original company names\n",
    "df_copy1[\"original_Entity\"] = df[\"hashed_Entity\"].apply(lambda x: dictionary[x])"
   ],
   "metadata": {
    "collapsed": false,
    "ExecuteTime": {
     "end_time": "2023-09-09T19:20:03.956703Z",
     "start_time": "2023-09-09T19:20:03.448668500Z"
    }
   },
   "id": "19035cda3ece7ea9"
  },
  {
   "cell_type": "code",
   "execution_count": 93,
   "outputs": [
    {
     "data": {
      "text/plain": "     Index  Year    Records  Organization type  Method  \\\n0        0  2016    2200000                 30       4   \n1        1  2020   14870304                 53       4   \n2        2  2020     175350                 30      13   \n3        3  2013  152000000                 56       4   \n4        4  2019    7500000                 56      13   \n..     ...   ...        ...                ...     ...   \n347    347  2019  173000000                 52       4   \n348    348  2020  200000000                 18       1   \n349    349  2020     391250                 30      13   \n350    350  2022    6400000                 64      13   \n351    351  2022      95000                 49       1   \n\n                                         hashed_Entity  \\\n0    c3a872f67b2c21449ed696e019d008cbb15b384ed63164...   \n1    39b1d7f5c52ecec4511c7d93214a3dc33915fcb67c51e1...   \n2    d37b82c7c3fef3eb56a05bc88697bd64c489f8b13b9ed8...   \n3    4ea8e5179ec6c6866f040ebfa23a41946cb05bd37b5ebc...   \n4    4e2eb72d6ffd4a841309dcd87b646d2408ac7394956117...   \n..                                                 ...   \n347  637e6be11e5f556343bad0073ff64ddcf396a88cec35d7...   \n348  985ee128022c38982d1de4c4173f538ced9151f0517fe9...   \n349  869ada24f3639cb94ed2dd22ec15aca5928cb7b7c0bc28...   \n350  89def538702db6ab06b39b1d28f5f7980de01dd04bd0a0...   \n351  15b201796837385fb129c2cede3326a4c0a8d07c20283b...   \n\n                                       original_Entity  \n0                                21st Century Oncology  \n1                                                500px  \n2                                Accendo Insurance Co.  \n3                           Adobe Systems Incorporated  \n4                                           Adobe Inc.  \n..                                                 ...  \n347                                              Zynga  \n348  Unknown agency(believed to be tied to United S...  \n349  National Health Information Center (NCZI) of S...  \n350           50 companies and government institutions  \n351                                               IKEA  \n\n[349 rows x 7 columns]",
      "text/html": "<div>\n<style scoped>\n    .dataframe tbody tr th:only-of-type {\n        vertical-align: middle;\n    }\n\n    .dataframe tbody tr th {\n        vertical-align: top;\n    }\n\n    .dataframe thead th {\n        text-align: right;\n    }\n</style>\n<table border=\"1\" class=\"dataframe\">\n  <thead>\n    <tr style=\"text-align: right;\">\n      <th></th>\n      <th>Index</th>\n      <th>Year</th>\n      <th>Records</th>\n      <th>Organization type</th>\n      <th>Method</th>\n      <th>hashed_Entity</th>\n      <th>original_Entity</th>\n    </tr>\n  </thead>\n  <tbody>\n    <tr>\n      <th>0</th>\n      <td>0</td>\n      <td>2016</td>\n      <td>2200000</td>\n      <td>30</td>\n      <td>4</td>\n      <td>c3a872f67b2c21449ed696e019d008cbb15b384ed63164...</td>\n      <td>21st Century Oncology</td>\n    </tr>\n    <tr>\n      <th>1</th>\n      <td>1</td>\n      <td>2020</td>\n      <td>14870304</td>\n      <td>53</td>\n      <td>4</td>\n      <td>39b1d7f5c52ecec4511c7d93214a3dc33915fcb67c51e1...</td>\n      <td>500px</td>\n    </tr>\n    <tr>\n      <th>2</th>\n      <td>2</td>\n      <td>2020</td>\n      <td>175350</td>\n      <td>30</td>\n      <td>13</td>\n      <td>d37b82c7c3fef3eb56a05bc88697bd64c489f8b13b9ed8...</td>\n      <td>Accendo Insurance Co.</td>\n    </tr>\n    <tr>\n      <th>3</th>\n      <td>3</td>\n      <td>2013</td>\n      <td>152000000</td>\n      <td>56</td>\n      <td>4</td>\n      <td>4ea8e5179ec6c6866f040ebfa23a41946cb05bd37b5ebc...</td>\n      <td>Adobe Systems Incorporated</td>\n    </tr>\n    <tr>\n      <th>4</th>\n      <td>4</td>\n      <td>2019</td>\n      <td>7500000</td>\n      <td>56</td>\n      <td>13</td>\n      <td>4e2eb72d6ffd4a841309dcd87b646d2408ac7394956117...</td>\n      <td>Adobe Inc.</td>\n    </tr>\n    <tr>\n      <th>...</th>\n      <td>...</td>\n      <td>...</td>\n      <td>...</td>\n      <td>...</td>\n      <td>...</td>\n      <td>...</td>\n      <td>...</td>\n    </tr>\n    <tr>\n      <th>347</th>\n      <td>347</td>\n      <td>2019</td>\n      <td>173000000</td>\n      <td>52</td>\n      <td>4</td>\n      <td>637e6be11e5f556343bad0073ff64ddcf396a88cec35d7...</td>\n      <td>Zynga</td>\n    </tr>\n    <tr>\n      <th>348</th>\n      <td>348</td>\n      <td>2020</td>\n      <td>200000000</td>\n      <td>18</td>\n      <td>1</td>\n      <td>985ee128022c38982d1de4c4173f538ced9151f0517fe9...</td>\n      <td>Unknown agency(believed to be tied to United S...</td>\n    </tr>\n    <tr>\n      <th>349</th>\n      <td>349</td>\n      <td>2020</td>\n      <td>391250</td>\n      <td>30</td>\n      <td>13</td>\n      <td>869ada24f3639cb94ed2dd22ec15aca5928cb7b7c0bc28...</td>\n      <td>National Health Information Center (NCZI) of S...</td>\n    </tr>\n    <tr>\n      <th>350</th>\n      <td>350</td>\n      <td>2022</td>\n      <td>6400000</td>\n      <td>64</td>\n      <td>13</td>\n      <td>89def538702db6ab06b39b1d28f5f7980de01dd04bd0a0...</td>\n      <td>50 companies and government institutions</td>\n    </tr>\n    <tr>\n      <th>351</th>\n      <td>351</td>\n      <td>2022</td>\n      <td>95000</td>\n      <td>49</td>\n      <td>1</td>\n      <td>15b201796837385fb129c2cede3326a4c0a8d07c20283b...</td>\n      <td>IKEA</td>\n    </tr>\n  </tbody>\n</table>\n<p>349 rows × 7 columns</p>\n</div>"
     },
     "execution_count": 93,
     "metadata": {},
     "output_type": "execute_result"
    }
   ],
   "source": [
    "df_copy1"
   ],
   "metadata": {
    "collapsed": false,
    "ExecuteTime": {
     "end_time": "2023-09-09T19:20:04.001324100Z",
     "start_time": "2023-09-09T19:20:03.466481400Z"
    }
   },
   "id": "8172449e30301788"
  },
  {
   "cell_type": "code",
   "execution_count": 93,
   "outputs": [],
   "source": [],
   "metadata": {
    "collapsed": false,
    "ExecuteTime": {
     "end_time": "2023-09-09T19:20:04.082705900Z",
     "start_time": "2023-09-09T19:20:03.497542800Z"
    }
   },
   "id": "32d3b37b3bf21d60"
  }
 ],
 "metadata": {
  "kernelspec": {
   "display_name": "Python 3",
   "language": "python",
   "name": "python3"
  },
  "language_info": {
   "codemirror_mode": {
    "name": "ipython",
    "version": 2
   },
   "file_extension": ".py",
   "mimetype": "text/x-python",
   "name": "python",
   "nbconvert_exporter": "python",
   "pygments_lexer": "ipython2",
   "version": "2.7.6"
  }
 },
 "nbformat": 4,
 "nbformat_minor": 5
}
