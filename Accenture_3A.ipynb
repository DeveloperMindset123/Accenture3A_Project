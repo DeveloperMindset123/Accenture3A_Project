{
 "cells": [
  {
   "cell_type": "code",
   "execution_count": 109,
   "id": "initial_id",
   "metadata": {
    "ExecuteTime": {
     "end_time": "2023-09-09T19:20:31.132750700Z",
     "start_time": "2023-09-09T19:20:31.117340600Z"
    },
    "collapsed": true
   },
   "outputs": [],
   "source": [
    "# import the neccessary dependacies we will use by default\n",
    "import numpy as np\n",
    "import pandas as pd\n",
    "import matplotlib.pyplot as plt\n",
    "import seaborn as sns\n",
    "import os\n",
    "from sklearn.preprocessing import LabelEncoder"
   ]
  },
  {
   "cell_type": "markdown",
   "id": "4b3a5b2fc17a89d0",
   "metadata": {
    "collapsed": false
   },
   "source": [
    "Some insights into this project:\n",
    "- The category of machine learning models that these fall into is _supervised learning_. Supervised learning is a type of machine learning where the model is trained on labeled data. The label in this case is the method of data breach.\n",
    "\n",
    "The models that will be tested out will fall into the following category of machine learning:\n",
    "* <u><b>Logistic Regression</b></u>: This is a supervised Learning that can be used to predict a categorical outcome. In this case, the categorical outcome is the method of the data breach. The features that will be used are: entity, year, records and organization type.\n",
    "* <u><b>Decision Trees</b></u>: This is another supervised learning algorithm that can be used to predict a categorical outcome. Decision trees work by creating a tree-like structure that represents the relationships between the features and the outcomes.\n",
    "* <u><b>Support Vector Machine(SVMs):</u></b> This is a supervised learning algorithm that can be used to predict both categorical and continous outcomes. SVMs work by finding the hyperplane that best seperates the data points into different classes.\n",
    "* <u><b>Random Forests</u></b> This is an ensemble learning algorithm that combines multiple decision trees to improve the accuracy of the predictions.\n",
    "* <u><b>Neural Networks</u></b> This is a more complex algorithm that can be used to predict both categorical and continuous outcomes. Neural Networks work by learning the relationships between the features and the outcome through a process called backpropogation."
   ]
  },
  {
   "cell_type": "code",
   "execution_count": 110,
   "id": "4d4a0b8ccba56a7f",
   "metadata": {
    "ExecuteTime": {
     "end_time": "2023-09-09T19:20:31.530128100Z",
     "start_time": "2023-09-09T19:20:31.452203700Z"
    },
    "collapsed": false
   },
   "outputs": [
    {
     "data": {
      "text/html": [
       "<div>\n",
       "<style scoped>\n",
       "    .dataframe tbody tr th:only-of-type {\n",
       "        vertical-align: middle;\n",
       "    }\n",
       "\n",
       "    .dataframe tbody tr th {\n",
       "        vertical-align: top;\n",
       "    }\n",
       "\n",
       "    .dataframe thead th {\n",
       "        text-align: right;\n",
       "    }\n",
       "</style>\n",
       "<table border=\"1\" class=\"dataframe\">\n",
       "  <thead>\n",
       "    <tr style=\"text-align: right;\">\n",
       "      <th></th>\n",
       "      <th>Unnamed: 0</th>\n",
       "      <th>Entity</th>\n",
       "      <th>Year</th>\n",
       "      <th>Records</th>\n",
       "      <th>Organization type</th>\n",
       "      <th>Method</th>\n",
       "      <th>Sources</th>\n",
       "    </tr>\n",
       "  </thead>\n",
       "  <tbody>\n",
       "    <tr>\n",
       "      <th>0</th>\n",
       "      <td>0</td>\n",
       "      <td>21st Century Oncology</td>\n",
       "      <td>2016</td>\n",
       "      <td>2200000</td>\n",
       "      <td>healthcare</td>\n",
       "      <td>hacked</td>\n",
       "      <td>[5][6]</td>\n",
       "    </tr>\n",
       "    <tr>\n",
       "      <th>1</th>\n",
       "      <td>1</td>\n",
       "      <td>500px</td>\n",
       "      <td>2020</td>\n",
       "      <td>14870304</td>\n",
       "      <td>social networking</td>\n",
       "      <td>hacked</td>\n",
       "      <td>[7]</td>\n",
       "    </tr>\n",
       "    <tr>\n",
       "      <th>2</th>\n",
       "      <td>2</td>\n",
       "      <td>Accendo Insurance Co.</td>\n",
       "      <td>2020</td>\n",
       "      <td>175350</td>\n",
       "      <td>healthcare</td>\n",
       "      <td>poor security</td>\n",
       "      <td>[8][9]</td>\n",
       "    </tr>\n",
       "    <tr>\n",
       "      <th>3</th>\n",
       "      <td>3</td>\n",
       "      <td>Adobe Systems Incorporated</td>\n",
       "      <td>2013</td>\n",
       "      <td>152000000</td>\n",
       "      <td>tech</td>\n",
       "      <td>hacked</td>\n",
       "      <td>[10]</td>\n",
       "    </tr>\n",
       "    <tr>\n",
       "      <th>4</th>\n",
       "      <td>4</td>\n",
       "      <td>Adobe Inc.</td>\n",
       "      <td>2019</td>\n",
       "      <td>7500000</td>\n",
       "      <td>tech</td>\n",
       "      <td>poor security</td>\n",
       "      <td>[11][12]</td>\n",
       "    </tr>\n",
       "    <tr>\n",
       "      <th>5</th>\n",
       "      <td>5</td>\n",
       "      <td>Advocate Medical Group</td>\n",
       "      <td>2017</td>\n",
       "      <td>4000000</td>\n",
       "      <td>healthcare</td>\n",
       "      <td>lost / stolen media</td>\n",
       "      <td>[13][14]</td>\n",
       "    </tr>\n",
       "    <tr>\n",
       "      <th>6</th>\n",
       "      <td>6</td>\n",
       "      <td>AerServ (subsidiary of InMobi)</td>\n",
       "      <td>2018</td>\n",
       "      <td>75000</td>\n",
       "      <td>advertising</td>\n",
       "      <td>hacked</td>\n",
       "      <td>[15]</td>\n",
       "    </tr>\n",
       "    <tr>\n",
       "      <th>7</th>\n",
       "      <td>7</td>\n",
       "      <td>Affinity Health Plan, Inc.</td>\n",
       "      <td>2013</td>\n",
       "      <td>344579</td>\n",
       "      <td>healthcare</td>\n",
       "      <td>lost / stolen media</td>\n",
       "      <td>[16][17]</td>\n",
       "    </tr>\n",
       "    <tr>\n",
       "      <th>8</th>\n",
       "      <td>8</td>\n",
       "      <td>Airtel</td>\n",
       "      <td>2019</td>\n",
       "      <td>320000000</td>\n",
       "      <td>telecommunications</td>\n",
       "      <td>poor security</td>\n",
       "      <td>[18]</td>\n",
       "    </tr>\n",
       "    <tr>\n",
       "      <th>9</th>\n",
       "      <td>9</td>\n",
       "      <td>Air Canada</td>\n",
       "      <td>2018</td>\n",
       "      <td>20000</td>\n",
       "      <td>transport</td>\n",
       "      <td>hacked</td>\n",
       "      <td>[19]</td>\n",
       "    </tr>\n",
       "  </tbody>\n",
       "</table>\n",
       "</div>"
      ],
      "text/plain": [
       "   Unnamed: 0                          Entity  Year    Records  \\\n",
       "0           0           21st Century Oncology  2016    2200000   \n",
       "1           1                           500px  2020   14870304   \n",
       "2           2           Accendo Insurance Co.  2020     175350   \n",
       "3           3      Adobe Systems Incorporated  2013  152000000   \n",
       "4           4                      Adobe Inc.  2019    7500000   \n",
       "5           5          Advocate Medical Group  2017    4000000   \n",
       "6           6  AerServ (subsidiary of InMobi)  2018      75000   \n",
       "7           7      Affinity Health Plan, Inc.  2013     344579   \n",
       "8           8                          Airtel  2019  320000000   \n",
       "9           9                      Air Canada  2018      20000   \n",
       "\n",
       "    Organization type               Method   Sources  \n",
       "0          healthcare               hacked    [5][6]  \n",
       "1   social networking               hacked       [7]  \n",
       "2          healthcare        poor security    [8][9]  \n",
       "3                tech               hacked      [10]  \n",
       "4                tech        poor security  [11][12]  \n",
       "5          healthcare  lost / stolen media  [13][14]  \n",
       "6         advertising               hacked      [15]  \n",
       "7          healthcare  lost / stolen media  [16][17]  \n",
       "8  telecommunications        poor security      [18]  \n",
       "9           transport               hacked      [19]  "
      ]
     },
     "execution_count": 110,
     "metadata": {},
     "output_type": "execute_result"
    }
   ],
   "source": [
    "# load the dataset(s) we will be using\n",
    "csv_file_path = os.path.abspath('df_1.csv');  # get the absolute path of the CSV file\n",
    "csv_file_path2 = os.path.abspath('df_2.csv')\n",
    "csv_file_path3 = os.path.abspath('df_3.csv')\n",
    "\n",
    "df = pd.read_csv(csv_file_path);   # Read the CSV file into a dataframe\n",
    "df2 = pd.read_csv(csv_file_path2)\n",
    "df3 = pd.read_csv(csv_file_path3)\n",
    "# display the head to see if the dataset works as intended\n",
    "df.head(10)  #adjust the parameter value as needed"
   ]
  },
  {
   "cell_type": "code",
   "execution_count": 111,
   "id": "625fab2c",
   "metadata": {},
   "outputs": [
    {
     "data": {
      "text/html": [
       "<div>\n",
       "<style scoped>\n",
       "    .dataframe tbody tr th:only-of-type {\n",
       "        vertical-align: middle;\n",
       "    }\n",
       "\n",
       "    .dataframe tbody tr th {\n",
       "        vertical-align: top;\n",
       "    }\n",
       "\n",
       "    .dataframe thead th {\n",
       "        text-align: right;\n",
       "    }\n",
       "</style>\n",
       "<table border=\"1\" class=\"dataframe\">\n",
       "  <thead>\n",
       "    <tr style=\"text-align: right;\">\n",
       "      <th></th>\n",
       "      <th>Unnamed: 0</th>\n",
       "      <th>Number</th>\n",
       "      <th>Name_of_Covered_Entity</th>\n",
       "      <th>State</th>\n",
       "      <th>Business_Associate_Involved</th>\n",
       "      <th>Individuals_Affected</th>\n",
       "      <th>Date_of_Breach</th>\n",
       "      <th>Type_of_Breach</th>\n",
       "      <th>Location_of_Breached_Information</th>\n",
       "      <th>Date_Posted_or_Updated</th>\n",
       "      <th>Summary</th>\n",
       "      <th>breach_start</th>\n",
       "      <th>breach_end</th>\n",
       "      <th>year</th>\n",
       "    </tr>\n",
       "  </thead>\n",
       "  <tbody>\n",
       "    <tr>\n",
       "      <th>0</th>\n",
       "      <td>1</td>\n",
       "      <td>0</td>\n",
       "      <td>Brooke Army Medical Center</td>\n",
       "      <td>TX</td>\n",
       "      <td>NaN</td>\n",
       "      <td>1000</td>\n",
       "      <td>10/16/2009</td>\n",
       "      <td>Theft</td>\n",
       "      <td>Paper</td>\n",
       "      <td>2014-06-30</td>\n",
       "      <td>A binder containing the protected health infor...</td>\n",
       "      <td>2009-10-16</td>\n",
       "      <td>NaN</td>\n",
       "      <td>2009</td>\n",
       "    </tr>\n",
       "    <tr>\n",
       "      <th>1</th>\n",
       "      <td>2</td>\n",
       "      <td>1</td>\n",
       "      <td>Mid America Kidney Stone Association, LLC</td>\n",
       "      <td>MO</td>\n",
       "      <td>NaN</td>\n",
       "      <td>1000</td>\n",
       "      <td>9/22/2009</td>\n",
       "      <td>Theft</td>\n",
       "      <td>Network Server</td>\n",
       "      <td>2014-05-30</td>\n",
       "      <td>Five desktop computers containing unencrypted ...</td>\n",
       "      <td>2009-09-22</td>\n",
       "      <td>NaN</td>\n",
       "      <td>2009</td>\n",
       "    </tr>\n",
       "    <tr>\n",
       "      <th>2</th>\n",
       "      <td>3</td>\n",
       "      <td>2</td>\n",
       "      <td>Alaska Department of Health and Social Services</td>\n",
       "      <td>AK</td>\n",
       "      <td>NaN</td>\n",
       "      <td>501</td>\n",
       "      <td>10/12/2009</td>\n",
       "      <td>Theft</td>\n",
       "      <td>Other Portable Electronic Device, Other</td>\n",
       "      <td>2014-01-23</td>\n",
       "      <td>NaN</td>\n",
       "      <td>2009-10-12</td>\n",
       "      <td>NaN</td>\n",
       "      <td>2009</td>\n",
       "    </tr>\n",
       "    <tr>\n",
       "      <th>3</th>\n",
       "      <td>4</td>\n",
       "      <td>3</td>\n",
       "      <td>Health Services for Children with Special Need...</td>\n",
       "      <td>DC</td>\n",
       "      <td>NaN</td>\n",
       "      <td>3800</td>\n",
       "      <td>10/9/2009</td>\n",
       "      <td>Loss</td>\n",
       "      <td>Laptop</td>\n",
       "      <td>2014-01-23</td>\n",
       "      <td>A laptop was lost by an employee while in tran...</td>\n",
       "      <td>2009-10-09</td>\n",
       "      <td>NaN</td>\n",
       "      <td>2009</td>\n",
       "    </tr>\n",
       "    <tr>\n",
       "      <th>4</th>\n",
       "      <td>5</td>\n",
       "      <td>4</td>\n",
       "      <td>L. Douglas Carlson, M.D.</td>\n",
       "      <td>CA</td>\n",
       "      <td>NaN</td>\n",
       "      <td>5257</td>\n",
       "      <td>9/27/2009</td>\n",
       "      <td>Theft</td>\n",
       "      <td>Desktop Computer</td>\n",
       "      <td>2014-01-23</td>\n",
       "      <td>A shared Computer that was used for backup was...</td>\n",
       "      <td>2009-09-27</td>\n",
       "      <td>NaN</td>\n",
       "      <td>2009</td>\n",
       "    </tr>\n",
       "    <tr>\n",
       "      <th>5</th>\n",
       "      <td>6</td>\n",
       "      <td>5</td>\n",
       "      <td>David I. Cohen, MD</td>\n",
       "      <td>CA</td>\n",
       "      <td>NaN</td>\n",
       "      <td>857</td>\n",
       "      <td>9/27/2009</td>\n",
       "      <td>Theft</td>\n",
       "      <td>Desktop Computer</td>\n",
       "      <td>2014-01-23</td>\n",
       "      <td>A shared Computer that was used for backup was...</td>\n",
       "      <td>2009-09-27</td>\n",
       "      <td>NaN</td>\n",
       "      <td>2009</td>\n",
       "    </tr>\n",
       "    <tr>\n",
       "      <th>6</th>\n",
       "      <td>7</td>\n",
       "      <td>6</td>\n",
       "      <td>Michele Del Vicario, MD</td>\n",
       "      <td>CA</td>\n",
       "      <td>NaN</td>\n",
       "      <td>6145</td>\n",
       "      <td>9/27/2009</td>\n",
       "      <td>Theft</td>\n",
       "      <td>Desktop Computer</td>\n",
       "      <td>2014-01-23</td>\n",
       "      <td>A shared Computer that was used for backup was...</td>\n",
       "      <td>2009-09-27</td>\n",
       "      <td>NaN</td>\n",
       "      <td>2009</td>\n",
       "    </tr>\n",
       "    <tr>\n",
       "      <th>7</th>\n",
       "      <td>8</td>\n",
       "      <td>7</td>\n",
       "      <td>Joseph F. Lopez, MD</td>\n",
       "      <td>CA</td>\n",
       "      <td>NaN</td>\n",
       "      <td>952</td>\n",
       "      <td>9/27/2009</td>\n",
       "      <td>Theft</td>\n",
       "      <td>Desktop Computer</td>\n",
       "      <td>2014-01-23</td>\n",
       "      <td>A shared Computer that was used for backup was...</td>\n",
       "      <td>2009-09-27</td>\n",
       "      <td>NaN</td>\n",
       "      <td>2009</td>\n",
       "    </tr>\n",
       "    <tr>\n",
       "      <th>8</th>\n",
       "      <td>9</td>\n",
       "      <td>8</td>\n",
       "      <td>Mark D. Lurie, MD</td>\n",
       "      <td>CA</td>\n",
       "      <td>NaN</td>\n",
       "      <td>5166</td>\n",
       "      <td>9/27/2009</td>\n",
       "      <td>Theft</td>\n",
       "      <td>Desktop Computer</td>\n",
       "      <td>2014-01-23</td>\n",
       "      <td>A shared Computer that was used for backup was...</td>\n",
       "      <td>2009-09-27</td>\n",
       "      <td>NaN</td>\n",
       "      <td>2009</td>\n",
       "    </tr>\n",
       "    <tr>\n",
       "      <th>9</th>\n",
       "      <td>10</td>\n",
       "      <td>9</td>\n",
       "      <td>City of Hope National Medical Center</td>\n",
       "      <td>CA</td>\n",
       "      <td>NaN</td>\n",
       "      <td>5900</td>\n",
       "      <td>9/27/2009</td>\n",
       "      <td>Theft</td>\n",
       "      <td>Laptop</td>\n",
       "      <td>2014-01-23</td>\n",
       "      <td>A laptop computer was stolen from a workforce ...</td>\n",
       "      <td>2009-09-27</td>\n",
       "      <td>NaN</td>\n",
       "      <td>2009</td>\n",
       "    </tr>\n",
       "  </tbody>\n",
       "</table>\n",
       "</div>"
      ],
      "text/plain": [
       "   Unnamed: 0  Number                             Name_of_Covered_Entity  \\\n",
       "0           1       0                         Brooke Army Medical Center   \n",
       "1           2       1          Mid America Kidney Stone Association, LLC   \n",
       "2           3       2    Alaska Department of Health and Social Services   \n",
       "3           4       3  Health Services for Children with Special Need...   \n",
       "4           5       4                           L. Douglas Carlson, M.D.   \n",
       "5           6       5                                 David I. Cohen, MD   \n",
       "6           7       6                            Michele Del Vicario, MD   \n",
       "7           8       7                                Joseph F. Lopez, MD   \n",
       "8           9       8                                  Mark D. Lurie, MD   \n",
       "9          10       9               City of Hope National Medical Center   \n",
       "\n",
       "  State Business_Associate_Involved  Individuals_Affected Date_of_Breach  \\\n",
       "0    TX                         NaN                  1000     10/16/2009   \n",
       "1    MO                         NaN                  1000      9/22/2009   \n",
       "2    AK                         NaN                   501     10/12/2009   \n",
       "3    DC                         NaN                  3800      10/9/2009   \n",
       "4    CA                         NaN                  5257      9/27/2009   \n",
       "5    CA                         NaN                   857      9/27/2009   \n",
       "6    CA                         NaN                  6145      9/27/2009   \n",
       "7    CA                         NaN                   952      9/27/2009   \n",
       "8    CA                         NaN                  5166      9/27/2009   \n",
       "9    CA                         NaN                  5900      9/27/2009   \n",
       "\n",
       "  Type_of_Breach         Location_of_Breached_Information  \\\n",
       "0          Theft                                    Paper   \n",
       "1          Theft                           Network Server   \n",
       "2          Theft  Other Portable Electronic Device, Other   \n",
       "3           Loss                                   Laptop   \n",
       "4          Theft                         Desktop Computer   \n",
       "5          Theft                         Desktop Computer   \n",
       "6          Theft                         Desktop Computer   \n",
       "7          Theft                         Desktop Computer   \n",
       "8          Theft                         Desktop Computer   \n",
       "9          Theft                                   Laptop   \n",
       "\n",
       "  Date_Posted_or_Updated                                            Summary  \\\n",
       "0             2014-06-30  A binder containing the protected health infor...   \n",
       "1             2014-05-30  Five desktop computers containing unencrypted ...   \n",
       "2             2014-01-23                                                NaN   \n",
       "3             2014-01-23  A laptop was lost by an employee while in tran...   \n",
       "4             2014-01-23  A shared Computer that was used for backup was...   \n",
       "5             2014-01-23  A shared Computer that was used for backup was...   \n",
       "6             2014-01-23  A shared Computer that was used for backup was...   \n",
       "7             2014-01-23  A shared Computer that was used for backup was...   \n",
       "8             2014-01-23  A shared Computer that was used for backup was...   \n",
       "9             2014-01-23  A laptop computer was stolen from a workforce ...   \n",
       "\n",
       "  breach_start breach_end  year  \n",
       "0   2009-10-16        NaN  2009  \n",
       "1   2009-09-22        NaN  2009  \n",
       "2   2009-10-12        NaN  2009  \n",
       "3   2009-10-09        NaN  2009  \n",
       "4   2009-09-27        NaN  2009  \n",
       "5   2009-09-27        NaN  2009  \n",
       "6   2009-09-27        NaN  2009  \n",
       "7   2009-09-27        NaN  2009  \n",
       "8   2009-09-27        NaN  2009  \n",
       "9   2009-09-27        NaN  2009  "
      ]
     },
     "execution_count": 111,
     "metadata": {},
     "output_type": "execute_result"
    }
   ],
   "source": [
    "#view the second dataset\n",
    "df2.head(10)"
   ]
  },
  {
   "cell_type": "code",
   "execution_count": 112,
   "id": "b9f80e4c",
   "metadata": {},
   "outputs": [],
   "source": [
    "#we will need to rename certain columns to mathc the first dataset\n",
    "#first we need to rename the columns in the second dataset to match the column name in the first dataset\n",
    "df2 = df2.rename(columns={\"Name_of_Covered_Entity\":\"Entity\", \"Individuals_Affected\":\"Records\", \"Type_of_Breach\":\"Method\", \"year\":\"Year\"}, errors=\"raise\")"
   ]
  },
  {
   "cell_type": "code",
   "execution_count": 113,
   "id": "231b55e2",
   "metadata": {},
   "outputs": [
    {
     "data": {
      "text/plain": [
       "Index(['Unnamed: 0', 'Number', 'Entity', 'State',\n",
       "       'Business_Associate_Involved', 'Records', 'Date_of_Breach', 'Method',\n",
       "       'Location_of_Breached_Information', 'Date_Posted_or_Updated', 'Summary',\n",
       "       'breach_start', 'breach_end', 'Year'],\n",
       "      dtype='object')"
      ]
     },
     "execution_count": 113,
     "metadata": {},
     "output_type": "execute_result"
    }
   ],
   "source": [
    "df2.columns  #now, the changes in dataframe 2 has taken place"
   ]
  },
  {
   "cell_type": "code",
   "execution_count": 114,
   "id": "824fd114",
   "metadata": {},
   "outputs": [
    {
     "data": {
      "text/plain": [
       "Unnamed: 0                           int64\n",
       "Number                               int64\n",
       "Entity                              object\n",
       "State                               object\n",
       "Business_Associate_Involved         object\n",
       "Records                              int64\n",
       "Date_of_Breach                      object\n",
       "Method                              object\n",
       "Location_of_Breached_Information    object\n",
       "Date_Posted_or_Updated              object\n",
       "Summary                             object\n",
       "breach_start                        object\n",
       "breach_end                          object\n",
       "Year                                 int64\n",
       "dtype: object"
      ]
     },
     "execution_count": 114,
     "metadata": {},
     "output_type": "execute_result"
    }
   ],
   "source": [
    "df2.dtypes"
   ]
  },
  {
   "cell_type": "markdown",
   "id": "1a04c664",
   "metadata": {},
   "source": [
    "From my exploration, I discovered that dataframe 3 and dataframe 1 are the same, so merging them would be useless, dataframe 2 is different from dataframe 1, therefore, merging them holds some value."
   ]
  },
  {
   "cell_type": "code",
   "execution_count": 115,
   "id": "3f1621f1",
   "metadata": {},
   "outputs": [
    {
     "data": {
      "text/plain": [
       "Unnamed: 0            int64\n",
       "Entity               object\n",
       "Year                 object\n",
       "Records              object\n",
       "Organization type    object\n",
       "Method               object\n",
       "Sources              object\n",
       "dtype: object"
      ]
     },
     "execution_count": 115,
     "metadata": {},
     "output_type": "execute_result"
    }
   ],
   "source": [
    "df.dtypes"
   ]
  },
  {
   "cell_type": "markdown",
   "id": "2c82ad03",
   "metadata": {},
   "source": [
    "Before proceeding, we need to change the year column of df into int64 to match the year datatype of the df2 column Year."
   ]
  },
  {
   "cell_type": "code",
   "execution_count": 116,
   "id": "fd756a04",
   "metadata": {},
   "outputs": [
    {
     "data": {
      "text/plain": [
       "Unnamed: 0                           int64\n",
       "Number                               int64\n",
       "Entity                              object\n",
       "State                               object\n",
       "Business_Associate_Involved         object\n",
       "Records                             object\n",
       "Date_of_Breach                      object\n",
       "Method                              object\n",
       "Location_of_Breached_Information    object\n",
       "Date_Posted_or_Updated              object\n",
       "Summary                             object\n",
       "breach_start                        object\n",
       "breach_end                          object\n",
       "Year                                object\n",
       "dtype: object"
      ]
     },
     "execution_count": 116,
     "metadata": {},
     "output_type": "execute_result"
    }
   ],
   "source": [
    "#change the datatype \n",
    "df2['Year']=df2['Year'].astype(str)\n",
    "df2['Records']=df2['Records'].astype(str) #change the records column into a object datatype\n",
    "df2.dtypes  #review the datatypes to see if the change has taken place"
   ]
  },
  {
   "cell_type": "code",
   "execution_count": 117,
   "id": "094a1c3a",
   "metadata": {},
   "outputs": [],
   "source": [
    "df = pd.merge(df, df2, how=\"left\", on=[\"Entity\", \"Records\", \"Year\"])"
   ]
  },
  {
   "cell_type": "code",
   "execution_count": 119,
   "id": "b767ecad",
   "metadata": {},
   "outputs": [
    {
     "data": {
      "text/html": [
       "<div>\n",
       "<style scoped>\n",
       "    .dataframe tbody tr th:only-of-type {\n",
       "        vertical-align: middle;\n",
       "    }\n",
       "\n",
       "    .dataframe tbody tr th {\n",
       "        vertical-align: top;\n",
       "    }\n",
       "\n",
       "    .dataframe thead th {\n",
       "        text-align: right;\n",
       "    }\n",
       "</style>\n",
       "<table border=\"1\" class=\"dataframe\">\n",
       "  <thead>\n",
       "    <tr style=\"text-align: right;\">\n",
       "      <th></th>\n",
       "      <th>Unnamed: 0_x</th>\n",
       "      <th>Entity</th>\n",
       "      <th>Year</th>\n",
       "      <th>Records</th>\n",
       "      <th>Organization type</th>\n",
       "      <th>Method_x</th>\n",
       "      <th>Sources</th>\n",
       "      <th>Unnamed: 0_y</th>\n",
       "      <th>Number</th>\n",
       "      <th>State</th>\n",
       "      <th>Business_Associate_Involved</th>\n",
       "      <th>Date_of_Breach</th>\n",
       "      <th>Method_y</th>\n",
       "      <th>Location_of_Breached_Information</th>\n",
       "      <th>Date_Posted_or_Updated</th>\n",
       "      <th>Summary</th>\n",
       "      <th>breach_start</th>\n",
       "      <th>breach_end</th>\n",
       "    </tr>\n",
       "  </thead>\n",
       "  <tbody>\n",
       "    <tr>\n",
       "      <th>0</th>\n",
       "      <td>0</td>\n",
       "      <td>21st Century Oncology</td>\n",
       "      <td>2016</td>\n",
       "      <td>2200000</td>\n",
       "      <td>healthcare</td>\n",
       "      <td>hacked</td>\n",
       "      <td>[5][6]</td>\n",
       "      <td>NaN</td>\n",
       "      <td>NaN</td>\n",
       "      <td>NaN</td>\n",
       "      <td>NaN</td>\n",
       "      <td>NaN</td>\n",
       "      <td>NaN</td>\n",
       "      <td>NaN</td>\n",
       "      <td>NaN</td>\n",
       "      <td>NaN</td>\n",
       "      <td>NaN</td>\n",
       "      <td>NaN</td>\n",
       "    </tr>\n",
       "    <tr>\n",
       "      <th>1</th>\n",
       "      <td>1</td>\n",
       "      <td>500px</td>\n",
       "      <td>2020</td>\n",
       "      <td>14870304</td>\n",
       "      <td>social networking</td>\n",
       "      <td>hacked</td>\n",
       "      <td>[7]</td>\n",
       "      <td>NaN</td>\n",
       "      <td>NaN</td>\n",
       "      <td>NaN</td>\n",
       "      <td>NaN</td>\n",
       "      <td>NaN</td>\n",
       "      <td>NaN</td>\n",
       "      <td>NaN</td>\n",
       "      <td>NaN</td>\n",
       "      <td>NaN</td>\n",
       "      <td>NaN</td>\n",
       "      <td>NaN</td>\n",
       "    </tr>\n",
       "    <tr>\n",
       "      <th>2</th>\n",
       "      <td>2</td>\n",
       "      <td>Accendo Insurance Co.</td>\n",
       "      <td>2020</td>\n",
       "      <td>175350</td>\n",
       "      <td>healthcare</td>\n",
       "      <td>poor security</td>\n",
       "      <td>[8][9]</td>\n",
       "      <td>NaN</td>\n",
       "      <td>NaN</td>\n",
       "      <td>NaN</td>\n",
       "      <td>NaN</td>\n",
       "      <td>NaN</td>\n",
       "      <td>NaN</td>\n",
       "      <td>NaN</td>\n",
       "      <td>NaN</td>\n",
       "      <td>NaN</td>\n",
       "      <td>NaN</td>\n",
       "      <td>NaN</td>\n",
       "    </tr>\n",
       "    <tr>\n",
       "      <th>3</th>\n",
       "      <td>3</td>\n",
       "      <td>Adobe Systems Incorporated</td>\n",
       "      <td>2013</td>\n",
       "      <td>152000000</td>\n",
       "      <td>tech</td>\n",
       "      <td>hacked</td>\n",
       "      <td>[10]</td>\n",
       "      <td>NaN</td>\n",
       "      <td>NaN</td>\n",
       "      <td>NaN</td>\n",
       "      <td>NaN</td>\n",
       "      <td>NaN</td>\n",
       "      <td>NaN</td>\n",
       "      <td>NaN</td>\n",
       "      <td>NaN</td>\n",
       "      <td>NaN</td>\n",
       "      <td>NaN</td>\n",
       "      <td>NaN</td>\n",
       "    </tr>\n",
       "    <tr>\n",
       "      <th>4</th>\n",
       "      <td>4</td>\n",
       "      <td>Adobe Inc.</td>\n",
       "      <td>2019</td>\n",
       "      <td>7500000</td>\n",
       "      <td>tech</td>\n",
       "      <td>poor security</td>\n",
       "      <td>[11][12]</td>\n",
       "      <td>NaN</td>\n",
       "      <td>NaN</td>\n",
       "      <td>NaN</td>\n",
       "      <td>NaN</td>\n",
       "      <td>NaN</td>\n",
       "      <td>NaN</td>\n",
       "      <td>NaN</td>\n",
       "      <td>NaN</td>\n",
       "      <td>NaN</td>\n",
       "      <td>NaN</td>\n",
       "      <td>NaN</td>\n",
       "    </tr>\n",
       "    <tr>\n",
       "      <th>...</th>\n",
       "      <td>...</td>\n",
       "      <td>...</td>\n",
       "      <td>...</td>\n",
       "      <td>...</td>\n",
       "      <td>...</td>\n",
       "      <td>...</td>\n",
       "      <td>...</td>\n",
       "      <td>...</td>\n",
       "      <td>...</td>\n",
       "      <td>...</td>\n",
       "      <td>...</td>\n",
       "      <td>...</td>\n",
       "      <td>...</td>\n",
       "      <td>...</td>\n",
       "      <td>...</td>\n",
       "      <td>...</td>\n",
       "      <td>...</td>\n",
       "      <td>...</td>\n",
       "    </tr>\n",
       "    <tr>\n",
       "      <th>347</th>\n",
       "      <td>347</td>\n",
       "      <td>Zynga</td>\n",
       "      <td>2019</td>\n",
       "      <td>173000000</td>\n",
       "      <td>social network</td>\n",
       "      <td>hacked</td>\n",
       "      <td>[406][407]</td>\n",
       "      <td>NaN</td>\n",
       "      <td>NaN</td>\n",
       "      <td>NaN</td>\n",
       "      <td>NaN</td>\n",
       "      <td>NaN</td>\n",
       "      <td>NaN</td>\n",
       "      <td>NaN</td>\n",
       "      <td>NaN</td>\n",
       "      <td>NaN</td>\n",
       "      <td>NaN</td>\n",
       "      <td>NaN</td>\n",
       "    </tr>\n",
       "    <tr>\n",
       "      <th>348</th>\n",
       "      <td>348</td>\n",
       "      <td>Unknown agency(believed to be tied to United S...</td>\n",
       "      <td>2020</td>\n",
       "      <td>200000000</td>\n",
       "      <td>financial</td>\n",
       "      <td>accidentally published</td>\n",
       "      <td>[408]</td>\n",
       "      <td>NaN</td>\n",
       "      <td>NaN</td>\n",
       "      <td>NaN</td>\n",
       "      <td>NaN</td>\n",
       "      <td>NaN</td>\n",
       "      <td>NaN</td>\n",
       "      <td>NaN</td>\n",
       "      <td>NaN</td>\n",
       "      <td>NaN</td>\n",
       "      <td>NaN</td>\n",
       "      <td>NaN</td>\n",
       "    </tr>\n",
       "    <tr>\n",
       "      <th>349</th>\n",
       "      <td>349</td>\n",
       "      <td>National Health Information Center (NCZI) of S...</td>\n",
       "      <td>2020</td>\n",
       "      <td>391250</td>\n",
       "      <td>healthcare</td>\n",
       "      <td>poor security</td>\n",
       "      <td>[409]</td>\n",
       "      <td>NaN</td>\n",
       "      <td>NaN</td>\n",
       "      <td>NaN</td>\n",
       "      <td>NaN</td>\n",
       "      <td>NaN</td>\n",
       "      <td>NaN</td>\n",
       "      <td>NaN</td>\n",
       "      <td>NaN</td>\n",
       "      <td>NaN</td>\n",
       "      <td>NaN</td>\n",
       "      <td>NaN</td>\n",
       "    </tr>\n",
       "    <tr>\n",
       "      <th>350</th>\n",
       "      <td>350</td>\n",
       "      <td>50 companies and government institutions</td>\n",
       "      <td>2022</td>\n",
       "      <td>6400000</td>\n",
       "      <td>various</td>\n",
       "      <td>poor security</td>\n",
       "      <td>[410] [411]</td>\n",
       "      <td>NaN</td>\n",
       "      <td>NaN</td>\n",
       "      <td>NaN</td>\n",
       "      <td>NaN</td>\n",
       "      <td>NaN</td>\n",
       "      <td>NaN</td>\n",
       "      <td>NaN</td>\n",
       "      <td>NaN</td>\n",
       "      <td>NaN</td>\n",
       "      <td>NaN</td>\n",
       "      <td>NaN</td>\n",
       "    </tr>\n",
       "    <tr>\n",
       "      <th>351</th>\n",
       "      <td>351</td>\n",
       "      <td>IKEA</td>\n",
       "      <td>2022</td>\n",
       "      <td>95000</td>\n",
       "      <td>retail</td>\n",
       "      <td>accidentally published</td>\n",
       "      <td>[412]</td>\n",
       "      <td>NaN</td>\n",
       "      <td>NaN</td>\n",
       "      <td>NaN</td>\n",
       "      <td>NaN</td>\n",
       "      <td>NaN</td>\n",
       "      <td>NaN</td>\n",
       "      <td>NaN</td>\n",
       "      <td>NaN</td>\n",
       "      <td>NaN</td>\n",
       "      <td>NaN</td>\n",
       "      <td>NaN</td>\n",
       "    </tr>\n",
       "  </tbody>\n",
       "</table>\n",
       "<p>352 rows × 18 columns</p>\n",
       "</div>"
      ],
      "text/plain": [
       "     Unnamed: 0_x                                             Entity  Year  \\\n",
       "0               0                              21st Century Oncology  2016   \n",
       "1               1                                              500px  2020   \n",
       "2               2                              Accendo Insurance Co.  2020   \n",
       "3               3                         Adobe Systems Incorporated  2013   \n",
       "4               4                                         Adobe Inc.  2019   \n",
       "..            ...                                                ...   ...   \n",
       "347           347                                              Zynga  2019   \n",
       "348           348  Unknown agency(believed to be tied to United S...  2020   \n",
       "349           349  National Health Information Center (NCZI) of S...  2020   \n",
       "350           350           50 companies and government institutions  2022   \n",
       "351           351                                               IKEA  2022   \n",
       "\n",
       "       Records  Organization type                Method_x      Sources  \\\n",
       "0      2200000         healthcare                  hacked       [5][6]   \n",
       "1     14870304  social networking                  hacked          [7]   \n",
       "2       175350         healthcare           poor security       [8][9]   \n",
       "3    152000000               tech                  hacked         [10]   \n",
       "4      7500000               tech           poor security     [11][12]   \n",
       "..         ...                ...                     ...          ...   \n",
       "347  173000000     social network                  hacked   [406][407]   \n",
       "348  200000000          financial  accidentally published        [408]   \n",
       "349     391250         healthcare           poor security        [409]   \n",
       "350    6400000            various           poor security  [410] [411]   \n",
       "351      95000             retail  accidentally published        [412]   \n",
       "\n",
       "     Unnamed: 0_y  Number State Business_Associate_Involved Date_of_Breach  \\\n",
       "0             NaN     NaN   NaN                         NaN            NaN   \n",
       "1             NaN     NaN   NaN                         NaN            NaN   \n",
       "2             NaN     NaN   NaN                         NaN            NaN   \n",
       "3             NaN     NaN   NaN                         NaN            NaN   \n",
       "4             NaN     NaN   NaN                         NaN            NaN   \n",
       "..            ...     ...   ...                         ...            ...   \n",
       "347           NaN     NaN   NaN                         NaN            NaN   \n",
       "348           NaN     NaN   NaN                         NaN            NaN   \n",
       "349           NaN     NaN   NaN                         NaN            NaN   \n",
       "350           NaN     NaN   NaN                         NaN            NaN   \n",
       "351           NaN     NaN   NaN                         NaN            NaN   \n",
       "\n",
       "    Method_y Location_of_Breached_Information Date_Posted_or_Updated Summary  \\\n",
       "0        NaN                              NaN                    NaN     NaN   \n",
       "1        NaN                              NaN                    NaN     NaN   \n",
       "2        NaN                              NaN                    NaN     NaN   \n",
       "3        NaN                              NaN                    NaN     NaN   \n",
       "4        NaN                              NaN                    NaN     NaN   \n",
       "..       ...                              ...                    ...     ...   \n",
       "347      NaN                              NaN                    NaN     NaN   \n",
       "348      NaN                              NaN                    NaN     NaN   \n",
       "349      NaN                              NaN                    NaN     NaN   \n",
       "350      NaN                              NaN                    NaN     NaN   \n",
       "351      NaN                              NaN                    NaN     NaN   \n",
       "\n",
       "    breach_start breach_end  \n",
       "0            NaN        NaN  \n",
       "1            NaN        NaN  \n",
       "2            NaN        NaN  \n",
       "3            NaN        NaN  \n",
       "4            NaN        NaN  \n",
       "..           ...        ...  \n",
       "347          NaN        NaN  \n",
       "348          NaN        NaN  \n",
       "349          NaN        NaN  \n",
       "350          NaN        NaN  \n",
       "351          NaN        NaN  \n",
       "\n",
       "[352 rows x 18 columns]"
      ]
     },
     "execution_count": 119,
     "metadata": {},
     "output_type": "execute_result"
    }
   ],
   "source": [
    "df.dtypes\n",
    "df"
   ]
  },
  {
   "cell_type": "code",
   "execution_count": null,
   "id": "f4b9e109abfaf428",
   "metadata": {
    "ExecuteTime": {
     "end_time": "2023-09-09T19:20:33.325609Z",
     "start_time": "2023-09-09T19:20:33.265630700Z"
    },
    "collapsed": false
   },
   "outputs": [],
   "source": [
    "df.columns # observe that the columns list has been dropped"
   ]
  },
  {
   "cell_type": "code",
   "execution_count": null,
   "id": "c0cc115ab662e2dc",
   "metadata": {
    "ExecuteTime": {
     "end_time": "2023-09-09T19:20:33.816103200Z",
     "start_time": "2023-09-09T19:20:33.785937900Z"
    },
    "collapsed": false
   },
   "outputs": [],
   "source": [
    "# we will need to rename the unnamed column\n",
    "df.rename(columns={'Unnamed: 0' : 'Index'}, inplace=True)"
   ]
  },
  {
   "cell_type": "markdown",
   "id": "3f14c5ba",
   "metadata": {},
   "source": [
    "Now, we combine the two dataframe using pandas."
   ]
  },
  {
   "cell_type": "code",
   "execution_count": null,
   "id": "dc308481",
   "metadata": {},
   "outputs": [],
   "source": []
  },
  {
   "cell_type": "code",
   "execution_count": null,
   "id": "8ee54eb48bc1811b",
   "metadata": {
    "ExecuteTime": {
     "end_time": "2023-09-09T19:20:34.333874500Z",
     "start_time": "2023-09-09T19:20:34.264516200Z"
    },
    "collapsed": false
   },
   "outputs": [],
   "source": [
    "df.head()"
   ]
  },
  {
   "cell_type": "code",
   "execution_count": null,
   "id": "34d1974bf075b892",
   "metadata": {
    "ExecuteTime": {
     "end_time": "2023-09-09T19:20:34.688691400Z",
     "start_time": "2023-09-09T19:20:34.658248700Z"
    },
    "collapsed": false
   },
   "outputs": [],
   "source": [
    "df.dtypes   # in the case of this dataframe, we have only the index as an integer datatype, whereas, everything else is considered object data"
   ]
  },
  {
   "cell_type": "code",
   "execution_count": null,
   "id": "b20893287fb448ea",
   "metadata": {
    "ExecuteTime": {
     "end_time": "2023-09-09T19:20:35.163638500Z",
     "start_time": "2023-09-09T19:20:35.143525800Z"
    },
    "collapsed": false
   },
   "outputs": [],
   "source": [
    "# Test out the number of unique values contained in Entity\n",
    "len(df['Entity'].unique())   #there's a total of 331 unique name for comapnies"
   ]
  },
  {
   "cell_type": "markdown",
   "id": "e538d1fc6af68ec2",
   "metadata": {
    "collapsed": false
   },
   "source": [
    "Regarding the column __Entity__, there's 2 options in terms of data preprocessing:\n",
    "* Drop the column altogether\n",
    "* Apply Hashing"
   ]
  },
  {
   "cell_type": "code",
   "execution_count": null,
   "id": "62ef5e43a5667284",
   "metadata": {
    "ExecuteTime": {
     "end_time": "2023-09-09T19:20:37.408211600Z",
     "start_time": "2023-09-09T19:20:37.349619700Z"
    },
    "collapsed": false
   },
   "outputs": [],
   "source": [
    "import hashlib\n",
    "\n",
    "#create a hash function\n",
    "def hash_function(text):\n",
    "    return hashlib.sha256(text.encode()).hexdigest()\n",
    "\n",
    "# create a new column for the hashed values\n",
    "df['hashed_Entity'] = df['Entity'].apply(hash_function)\n",
    "\n",
    "#observe the hashed column\n",
    "df.head()  # we have the hashed entity"
   ]
  },
  {
   "cell_type": "code",
   "execution_count": null,
   "id": "cccce59fbb9cacbd",
   "metadata": {
    "ExecuteTime": {
     "end_time": "2023-09-09T19:20:37.594094400Z",
     "start_time": "2023-09-09T19:20:37.545021700Z"
    },
    "collapsed": false
   },
   "outputs": [],
   "source": [
    "# create a copy of the dataframe and drop the Entity column \n",
    "df_copy1 = df.drop(columns={'Entity'})"
   ]
  },
  {
   "cell_type": "code",
   "execution_count": null,
   "id": "1e84958bb201b54a",
   "metadata": {
    "ExecuteTime": {
     "end_time": "2023-09-09T19:20:37.803496900Z",
     "start_time": "2023-09-09T19:20:37.688758800Z"
    },
    "collapsed": false
   },
   "outputs": [],
   "source": [
    "df_copy1 "
   ]
  },
  {
   "cell_type": "code",
   "execution_count": null,
   "id": "8603b602fd5debd5",
   "metadata": {
    "ExecuteTime": {
     "end_time": "2023-09-09T19:20:03.417380100Z",
     "start_time": "2023-09-09T19:20:02.813591Z"
    },
    "collapsed": false
   },
   "outputs": [],
   "source": [
    "len(df_copy1['Organization type'].unique())   # in terms of organization type, there's 70 different unique values\n",
    "df_copy1"
   ]
  },
  {
   "cell_type": "code",
   "execution_count": null,
   "id": "38dc8a351025f36a",
   "metadata": {
    "ExecuteTime": {
     "end_time": "2023-09-09T19:20:03.417380100Z",
     "start_time": "2023-09-09T19:20:02.833091200Z"
    },
    "collapsed": false
   },
   "outputs": [],
   "source": [
    "# remove the special characters\n",
    "df_copy1['Organization type'] = df_copy1['Organization type'].str.replace(',', '_')  # replace the cases of ',' with '_'.\n",
    "df_copy1['Organization type'] = df_copy1['Organization type'].str.replace(' ', '_') # we also replace the cases of spacing with '_'.\n",
    "df_copy1['Organization type'] = df_copy1['Organization type'].str.replace('__', '_')  # replace all instances of __ with _"
   ]
  },
  {
   "cell_type": "markdown",
   "id": "e2bdeb53",
   "metadata": {},
   "source": [
    "Before encoding the organization type, I've copied the df to keep the original data intact. I'm dropping the hashed_Entity column as it is not needed for visualizing – we want to focus on industries and not individual companies."
   ]
  },
  {
   "cell_type": "code",
   "execution_count": null,
   "id": "e1ce8d0263117907",
   "metadata": {
    "ExecuteTime": {
     "end_time": "2023-09-09T19:20:03.417380100Z",
     "start_time": "2023-09-09T19:20:02.847272400Z"
    },
    "collapsed": false
   },
   "outputs": [],
   "source": [
    "df_vis = df_copy1\n",
    "#drop the hashed entity column\n",
    "df_vis.drop(columns={'hashed_Entity'}, inplace=True)\n",
    "df_vis"
   ]
  },
  {
   "cell_type": "markdown",
   "id": "ac633714",
   "metadata": {},
   "source": [
    "Checking if the Year column is well formatted (should be a year like 2016, or 2019, not 2016-2019). If not, we'll need to do some data cleaning."
   ]
  },
  {
   "cell_type": "code",
   "execution_count": null,
   "id": "51564148",
   "metadata": {},
   "outputs": [],
   "source": [
    "#Check if any value in the year column is null\n",
    "print(\"Null values: \", df_vis['Year'].isnull().values.any())  # there are no null values in the year column\n",
    "\n",
    "#Check if any value in the year column is not well formatted (i.e. not a number)\n",
    "print(\"Non numeric values: \", df_vis['Year'].str.isnumeric().values.any())  # there are values that are not numeric\n",
    "\n",
    "#print out all the values in the year column that are not numeric\n",
    "print(\"Non numeric values:\")\n",
    "df_vis[~df_vis['Year'].str.isnumeric()]"
   ]
  },
  {
   "cell_type": "markdown",
   "id": "9c521a8b",
   "metadata": {},
   "source": [
    "There are 3 values in the Year column that are not well formed – we also will need to fix the Records column for similar formatting issues."
   ]
  },
  {
   "cell_type": "code",
   "execution_count": null,
   "id": "6a650533",
   "metadata": {},
   "outputs": [],
   "source": [
    "'''\n",
    "Modify df_vis:\n",
    "for each value in the year column that is not numeric:\n",
    "    record the last year listed in the year column (i.e. the last 4 characters)\n",
    "    record the first year listed in the year column (i.e. the first 4 characters)\n",
    "change the year column of this entry to the first 4 characters (the first year)\n",
    "for each year between the first year and the last year:\n",
    "    add a new entry to the dataframe with the same values as the entry that was changed, except for the year column, which will be the year in question\n",
    "'''\n",
    "last_row_index = df_vis.tail(1).index[0]\n",
    "# Create an empty list to store modified rows\n",
    "new_rows = []\n",
    "\n",
    "# Iterate through the DataFrame\n",
    "for index, row in df_vis.iterrows():\n",
    "    year_value = row['Year']\n",
    "    \n",
    "    # Check if the year is not numeric\n",
    "    if not year_value.isnumeric():\n",
    "        # Extract the first and last year\n",
    "        first_year = int(year_value[:4])\n",
    "        last_year = int(year_value[-4:])\n",
    "\n",
    "        # Change the year column to the first year\n",
    "        df_vis.loc[index, 'Year'] = str(first_year)\n",
    "        \n",
    "        #Create new rows for each year between the first and last year\n",
    "        for year in range(first_year + 1, last_year + 1):\n",
    "            last_row_index+=1 # Increment the index of the last row\n",
    "            new_row = row.copy()  # Create a copy of the current row\n",
    "            new_row['Year'] = str(year)\n",
    "            new_row['Index'] = last_row_index\n",
    "            new_rows.append(new_row) # Append the new row to the list\n",
    "\n",
    "# Concatenate the new rows with the original DataFrame\n",
    "new_rows_df = pd.DataFrame(new_rows)\n",
    "\n",
    "df_vis = pd.concat([df_vis, new_rows_df], ignore_index=True)\n",
    "\n",
    "\n",
    "df_vis\n",
    "\n"
   ]
  },
  {
   "cell_type": "markdown",
   "id": "579b6ef0",
   "metadata": {},
   "source": [
    "The Year's column is fixed, but I suspect this approach may be exaggerating the number of breaches in 2019.\n",
    "Instead, I will fix the Records column, and then split (divide?) the number of records by the number of years the breach lasted.\n"
   ]
  },
  {
   "cell_type": "code",
   "execution_count": null,
   "id": "aa512522e893902e",
   "metadata": {
    "ExecuteTime": {
     "end_time": "2023-09-09T19:20:03.417380100Z",
     "start_time": "2023-09-09T19:20:02.878799600Z"
    },
    "collapsed": false
   },
   "outputs": [],
   "source": [
    "df_copy1['Organization type'].unique()"
   ]
  },
  {
   "cell_type": "code",
   "execution_count": null,
   "id": "d8136bba27fff91b",
   "metadata": {
    "ExecuteTime": {
     "end_time": "2023-09-09T19:20:03.425964400Z",
     "start_time": "2023-09-09T19:20:02.896640200Z"
    },
    "collapsed": false
   },
   "outputs": [],
   "source": [
    "le = LabelEncoder()\n",
    "\n",
    "# implement label encoding on the Organization type column\n",
    "le.fit(df_copy1['Organization type'])   # fit the data we want to train the encoder on\n",
    "df_copy1['Organization type'] = le.transform(df_copy1['Organization type'])\n",
    "# observe how the column 'Organization Type' has changed\n",
    "df_copy1.head()"
   ]
  },
  {
   "cell_type": "code",
   "execution_count": null,
   "id": "beeae597c9415ca",
   "metadata": {
    "ExecuteTime": {
     "end_time": "2023-09-09T19:20:03.427983800Z",
     "start_time": "2023-09-09T19:20:02.925385200Z"
    },
    "collapsed": false
   },
   "outputs": [],
   "source": [
    "df_copy1.dtypes   # as we can see, the Organization type changed from Object --> integer datatype"
   ]
  },
  {
   "cell_type": "code",
   "execution_count": null,
   "id": "bf9bc04877c52067",
   "metadata": {
    "ExecuteTime": {
     "end_time": "2023-09-09T19:20:03.427983800Z",
     "start_time": "2023-09-09T19:20:02.940609300Z"
    },
    "collapsed": false
   },
   "outputs": [],
   "source": [
    "# observe the label frequency, to gain an understanding of outliers and inlier values\n",
    "df_copy1['Organization type'].value_counts()    # some values to note: 7 repeats 13 times, 18 repeats 38  times, 23 repeats 12 times, 25 repeats 30 times, 30 repeats 47 times, 49 repeats 27 times."
   ]
  },
  {
   "cell_type": "code",
   "execution_count": null,
   "id": "6c2f14c41cfaefbd",
   "metadata": {
    "ExecuteTime": {
     "end_time": "2023-09-09T19:20:03.427983800Z",
     "start_time": "2023-09-09T19:20:02.955234800Z"
    },
    "collapsed": false
   },
   "outputs": [],
   "source": [
    "df_copy1['Method']"
   ]
  },
  {
   "cell_type": "code",
   "execution_count": null,
   "id": "92d34f54c0a578de",
   "metadata": {
    "ExecuteTime": {
     "end_time": "2023-09-09T19:20:03.427983800Z",
     "start_time": "2023-09-09T19:20:02.974881300Z"
    },
    "collapsed": false
   },
   "outputs": [],
   "source": [
    "df_copy1['Method'].unique()"
   ]
  },
  {
   "cell_type": "code",
   "execution_count": null,
   "id": "a8c301eddc412f9b",
   "metadata": {
    "ExecuteTime": {
     "end_time": "2023-09-09T19:20:03.432040600Z",
     "start_time": "2023-09-09T19:20:02.991663500Z"
    },
    "collapsed": false
   },
   "outputs": [],
   "source": [
    "\"\"# seems like the method column contains certain NaN values and certain Unknown values, we will need to determine whether we replace such values or drop them in its entirety\n",
    "df_copy1['Method'].value_counts()"
   ]
  },
  {
   "cell_type": "code",
   "execution_count": null,
   "id": "b2bd475012cbaf9a",
   "metadata": {
    "ExecuteTime": {
     "end_time": "2023-09-09T19:20:03.432040600Z",
     "start_time": "2023-09-09T19:20:03.002592600Z"
    },
    "collapsed": false
   },
   "outputs": [],
   "source": [
    "\"\"\"Two changes needs to be made regarding the method column\n",
    "    1. Replace the \"Unknown\" value with the most frequently repeated word\n",
    "    2. Drop any NaN values if it exists\n",
    "\"\"\"\n",
    "\n",
    "most_frequent_word = df_copy1['Method'].value_counts().index[0]\n",
    "#replace all occurences of \"Unknown\" with \"Hacked\"\n",
    "df_copy1['Method'].replace('unknown', most_frequent_word, inplace=True)\n",
    "\n",
    "# drop any NaN values\n",
    "df_copy1.dropna(inplace=True)\n",
    "\n",
    "# Print the dataframe\n",
    "df_copy1\n"
   ]
  },
  {
   "cell_type": "code",
   "execution_count": null,
   "id": "637d2b426b89eef3",
   "metadata": {
    "ExecuteTime": {
     "end_time": "2023-09-09T19:20:03.432040600Z",
     "start_time": "2023-09-09T19:20:03.034179100Z"
    },
    "collapsed": false
   },
   "outputs": [],
   "source": [
    "# let's verify if the method column contains any nan/null values\n",
    "df_copy1['Method'].isnull().all()   # seems that none of the values here contain any more null values"
   ]
  },
  {
   "cell_type": "code",
   "execution_count": null,
   "id": "6ec8a20de5f47bd4",
   "metadata": {
    "ExecuteTime": {
     "end_time": "2023-09-09T19:20:03.438779200Z",
     "start_time": "2023-09-09T19:20:03.049184600Z"
    },
    "collapsed": false
   },
   "outputs": [],
   "source": [
    "print(list(df_copy1['Method'].unique()))   # based on the list, we can see that the Method column doesn't contain unknown anymore.\n",
    "list(df_copy1['Method'].value_counts())   # we also gain insight into the frequency of the methods being repeated, there's 24 methods, therefore, the label encoding will range from 0-23"
   ]
  },
  {
   "cell_type": "code",
   "execution_count": null,
   "id": "6dc22b2bec14c0fc",
   "metadata": {
    "ExecuteTime": {
     "end_time": "2023-09-09T19:20:03.740022400Z",
     "start_time": "2023-09-09T19:20:03.066149600Z"
    },
    "collapsed": false
   },
   "outputs": [],
   "source": [
    "# prior to implementing label encoding, we will need to clear up the string of some grammatical issues that will cause mismatched data when we train the model otherwise\n",
    "\n",
    "# convert all uppercase letters to lowercase\n",
    "df_copy1['Method'] = df_copy1['Method'].str.lower()\n",
    "\n",
    "# replace all spaces with \"_\"\n",
    "df_copy1['Method'] = df_copy1['Method'].str.replace(' ', '_')\n",
    "\n",
    "# replace all slash signs with \"_\"\n",
    "df_copy1['Method'] = df_copy1['Method'].str.replace('/', '_')\n",
    "\n",
    "# replace all __ and ___ with _\n",
    "df_copy1['Method'] = df_copy1['Method'].str.replace('___', '_')\n",
    "df_copy1['Method'] = df_copy1['Method'].str.replace('__', '_')\n",
    "\n",
    "# check the updated dataframe\n",
    "list(df_copy1['Method'].unique())"
   ]
  },
  {
   "cell_type": "code",
   "execution_count": null,
   "id": "226c00a1c46c21c5",
   "metadata": {
    "ExecuteTime": {
     "end_time": "2023-09-09T19:20:03.740022400Z",
     "start_time": "2023-09-09T19:20:03.112754400Z"
    },
    "collapsed": false
   },
   "outputs": [],
   "source": [
    "# now the method column is ready for label encoding preprocessing, since we already called on the label encoder previously, we can reuse it\n",
    "le.fit(df_copy1['Method'])  # train the label encoder on the column data we want to train\n",
    "df_copy1['Method'] = le.transform(df_copy1['Method'])\n",
    "df_copy1   # observe that method has been successfully encoded by label"
   ]
  },
  {
   "cell_type": "code",
   "execution_count": null,
   "id": "4a8391986fffbde3",
   "metadata": {
    "ExecuteTime": {
     "end_time": "2023-09-09T19:20:03.740022400Z",
     "start_time": "2023-09-09T19:20:03.129281400Z"
    },
    "collapsed": false
   },
   "outputs": [],
   "source": [
    "# let's take a look at the minimum and maximum values\n",
    "print('min:', min(df_copy1['Method']))\n",
    "print('max:', max(df_copy1['Method']))  # the smallest value is represented using 0 and the largest value is represented using 22"
   ]
  },
  {
   "cell_type": "code",
   "execution_count": null,
   "id": "34cc7ca0e870548e",
   "metadata": {
    "ExecuteTime": {
     "end_time": "2023-09-09T19:20:03.740022400Z",
     "start_time": "2023-09-09T19:20:03.149368100Z"
    },
    "collapsed": false
   },
   "outputs": [],
   "source": [
    "df_copy1['Method'].value_counts()  # judging by the values shown here, seems like 4 represents 'hacked'"
   ]
  },
  {
   "cell_type": "code",
   "execution_count": null,
   "id": "012aba13",
   "metadata": {},
   "outputs": [],
   "source": [
    "# Use the inverse_transform method if you need to decode the method back to the original text\n",
    "original_text = le.inverse_transform([4])\n",
    "original_text[0]"
   ]
  },
  {
   "cell_type": "code",
   "execution_count": null,
   "id": "538534f6dc02a826",
   "metadata": {
    "ExecuteTime": {
     "end_time": "2023-09-09T19:20:03.740022400Z",
     "start_time": "2023-09-09T19:20:03.176187100Z"
    },
    "collapsed": false
   },
   "outputs": [],
   "source": [
    "df_copy1.dtypes  # reobserve the data, as we can see, the columns that are of object datatype needs to be changed"
   ]
  },
  {
   "cell_type": "code",
   "execution_count": null,
   "id": "a500f423ffe8d0bb",
   "metadata": {
    "ExecuteTime": {
     "end_time": "2023-09-09T19:20:03.740022400Z",
     "start_time": "2023-09-09T19:20:03.232405900Z"
    },
    "collapsed": false
   },
   "outputs": [],
   "source": [
    "object_to_numeric = ['Year', 'Records', 'hashed_Entity']\n",
    "df_copy1[object_to_numeric] = df_copy1[object_to_numeric].apply(pd.to_numeric, errors=\"ignore\", axis=1)   # we have successfully converted the dataframe from object to float, this ensures it's ready to be trained using machine learning model\n",
    "df_copy1.dtypes"
   ]
  },
  {
   "cell_type": "code",
   "execution_count": null,
   "id": "c2ec8854588b7b18",
   "metadata": {
    "ExecuteTime": {
     "end_time": "2023-09-09T19:20:03.740022400Z",
     "start_time": "2023-09-09T19:20:03.286655600Z"
    },
    "collapsed": false
   },
   "outputs": [],
   "source": [
    "df_copy1"
   ]
  },
  {
   "cell_type": "code",
   "execution_count": null,
   "id": "5cb87cac2c1e7490",
   "metadata": {
    "ExecuteTime": {
     "end_time": "2023-09-09T19:20:03.740022400Z",
     "start_time": "2023-09-09T19:20:03.317731Z"
    },
    "collapsed": false
   },
   "outputs": [],
   "source": [
    "df_copy1.isnull().values.any()   # the entirety of the dataframe does not contain any null values."
   ]
  },
  {
   "cell_type": "code",
   "execution_count": null,
   "id": "862344dad3f7099",
   "metadata": {
    "ExecuteTime": {
     "end_time": "2023-09-09T19:20:03.748110100Z",
     "start_time": "2023-09-09T19:20:03.335555Z"
    },
    "collapsed": false
   },
   "outputs": [],
   "source": [
    "df.columns"
   ]
  },
  {
   "cell_type": "markdown",
   "id": "943417e8484d5b66",
   "metadata": {
    "collapsed": false
   },
   "source": [
    "Marks the end of the data preprcoessing."
   ]
  },
  {
   "cell_type": "code",
   "execution_count": null,
   "id": "40821708fe9172b1",
   "metadata": {
    "ExecuteTime": {
     "end_time": "2023-09-09T19:20:03.844269800Z",
     "start_time": "2023-09-09T19:20:03.395959700Z"
    },
    "collapsed": false
   },
   "outputs": [],
   "source": [
    "# using the original tabel where the name of the Entities as well as the hashed entities are together, using that we can create a lookup table in the form of a dictionary\n",
    "\n",
    "dictionary = {}  # create a dictionary that maps the hashed company names to the original company names\n",
    "\n",
    "for index, row in df.iterrows():\n",
    "    hashed_company_name = row[\"hashed_Entity\"]\n",
    "    original_company_name = row[\"Entity\"]\n",
    "    dictionary[hashed_company_name] = original_company_name\n",
    "    "
   ]
  },
  {
   "cell_type": "code",
   "execution_count": null,
   "id": "a04373ced2ac0e6c",
   "metadata": {
    "ExecuteTime": {
     "end_time": "2023-09-09T19:20:03.944673Z",
     "start_time": "2023-09-09T19:20:03.417380100Z"
    },
    "collapsed": false
   },
   "outputs": [],
   "source": [
    "dictionary   # we have successfully created a dictionary that maps the hashed values to the name of the original companues"
   ]
  },
  {
   "cell_type": "code",
   "execution_count": null,
   "id": "19035cda3ece7ea9",
   "metadata": {
    "ExecuteTime": {
     "end_time": "2023-09-09T19:20:03.956703Z",
     "start_time": "2023-09-09T19:20:03.448668500Z"
    },
    "collapsed": false
   },
   "outputs": [],
   "source": [
    "# add a new column to the DataFrame that maps the hashed company names to the original company names\n",
    "df_copy1[\"original_Entity\"] = df[\"hashed_Entity\"].apply(lambda x: dictionary[x])"
   ]
  },
  {
   "cell_type": "code",
   "execution_count": null,
   "id": "8172449e30301788",
   "metadata": {
    "ExecuteTime": {
     "end_time": "2023-09-09T19:20:04.001324100Z",
     "start_time": "2023-09-09T19:20:03.466481400Z"
    },
    "collapsed": false
   },
   "outputs": [],
   "source": [
    "df_copy1"
   ]
  },
  {
   "cell_type": "code",
   "execution_count": null,
   "id": "324b0a5b",
   "metadata": {},
   "outputs": [],
   "source": [
    "# convert all uppercase letters to lowercase\n",
    "df_vis['Method'] = df_vis['Method'].str.lower()\n",
    "\n",
    "# replace all spaces with \"_\"\n",
    "df_vis['Method'] = df_vis['Method'].str.replace(' ', '_')\n",
    "\n",
    "# replace all slash signs with \"_\"\n",
    "df_vis['Method'] = df_vis['Method'].str.replace('/', '_')\n",
    "\n",
    "# replace all __ and ___ with _\n",
    "df_vis['Method'] = df_vis['Method'].str.replace('___', '_')\n",
    "df_vis['Method'] = df_vis['Method'].str.replace('__', '_')\n",
    "\n",
    "# Checking the Records column\n",
    "\n",
    "# Use the 'pd.to_numeric' function to check if the values in 'Records' can be converted to numbers\n",
    "numeric_records = pd.to_numeric(df_vis['Records'], errors='coerce')\n",
    "\n",
    "# Create a boolean mask where 'numeric_records' is NaN (indicating non-numeric values)\n",
    "non_numeric_rows = df_vis[numeric_records.isna()]\n",
    "\n",
    "# Print the rows where 'Records' contains non-numeric values\n",
    "print(non_numeric_rows)\n",
    "\n",
    "# Calculate the mean of 'Records' in year with NaN values\n",
    "mean_records_2019 = df_vis[df_vis['Year'] == '2019']['Records'].mean()\n",
    "\n",
    "df_vis.at[94, 'Records'] = mean_records_2019\n",
    "\n",
    "# Create a boolean mask where 'numeric_records' is NaN (indicating non-numeric values)\n",
    "non_numeric_rows = df_vis[numeric_records.isna()]\n",
    "\n",
    "# Print the rows where 'Records' contains non-numeric values\n",
    "print(\"After replacing NaN Records:\")\n",
    "print(non_numeric_rows)\n",
    "#df_vis.head()"
   ]
  },
  {
   "cell_type": "code",
   "execution_count": null,
   "id": "eb550308",
   "metadata": {},
   "outputs": [],
   "source": [
    "plt.figure(figsize=(12, 6))\n",
    "\n",
    "# Sort the data by count in descending order\n",
    "order = df_vis['Organization type'].value_counts().index\n",
    "\n",
    "sns.countplot(data=df_vis, x='Organization type', order=order)\n",
    "plt.title('Count of Records by Organization Type')\n",
    "plt.xlabel('Organization Type')\n",
    "plt.ylabel('Count')\n",
    "plt.xticks(rotation=90)\n",
    "plt.show()"
   ]
  },
  {
   "cell_type": "code",
   "execution_count": null,
   "id": "32d3b37b3bf21d60",
   "metadata": {
    "ExecuteTime": {
     "end_time": "2023-09-09T19:20:04.082705900Z",
     "start_time": "2023-09-09T19:20:03.497542800Z"
    },
    "collapsed": false
   },
   "outputs": [],
   "source": [
    "plt.figure(figsize=(12, 6))\n",
    "\n",
    "# Group the data by year and calculate the total records lost in each year\n",
    "data_lost_by_year = df_vis.groupby('Year')['Records'].sum().reset_index()\n",
    "\n",
    "# Create a line plot to visualize data loss over the years\n",
    "sns.lineplot(data=data_lost_by_year, x='Year', y='Records')\n",
    "plt.title('Data Loss Over the Years')\n",
    "plt.xlabel('Year')\n",
    "plt.ylabel('Total Records Lost')\n",
    "plt.grid(True)\n",
    "plt.show()"
   ]
  },
  {
   "cell_type": "code",
   "execution_count": null,
   "id": "48e159c8",
   "metadata": {},
   "outputs": [],
   "source": []
  }
 ],
 "metadata": {
  "kernelspec": {
   "display_name": "Python 3",
   "language": "python",
   "name": "python3"
  },
  "language_info": {
   "codemirror_mode": {
    "name": "ipython",
    "version": 3
   },
   "file_extension": ".py",
   "mimetype": "text/x-python",
   "name": "python",
   "nbconvert_exporter": "python",
   "pygments_lexer": "ipython3",
   "version": "3.11.4"
  }
 },
 "nbformat": 4,
 "nbformat_minor": 5
}
